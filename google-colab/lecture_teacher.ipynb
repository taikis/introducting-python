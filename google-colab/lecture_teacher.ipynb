{
  "nbformat": 4,
  "nbformat_minor": 0,
  "metadata": {
    "colab": {
      "name": "lecture-teacher.ipynb",
      "provenance": [],
      "collapsed_sections": [],
      "toc_visible": true,
      "authorship_tag": "ABX9TyO8Lfd1R44S0nW54WwZ1LZL",
      "include_colab_link": true
    },
    "kernelspec": {
      "name": "python3",
      "display_name": "Python 3"
    },
    "language_info": {
      "name": "python"
    }
  },
  "cells": [
    {
      "cell_type": "markdown",
      "metadata": {
        "id": "view-in-github",
        "colab_type": "text"
      },
      "source": [
        "<a href=\"https://colab.research.google.com/github/taikis/introducting-python/blob/main/google-colab/lecture_teacher.ipynb\" target=\"_parent\"><img src=\"https://colab.research.google.com/assets/colab-badge.svg\" alt=\"Open In Colab\"/></a>"
      ]
    },
    {
      "cell_type": "markdown",
      "source": [
        "# Python入門 教員用資料"
      ],
      "metadata": {
        "id": "8SNsy2vqyidD"
      }
    },
    {
      "cell_type": "markdown",
      "source": [
        "> **指導上の注意**  \n",
        "> Google Colabへのアクセスはログインを含めてなるべく早く行うことに留意する。\n",
        ">\n",
        "> **想定時間**\n",
        "50分"
      ],
      "metadata": {
        "id": "5cYFUXc7RSgd"
      }
    },
    {
      "cell_type": "markdown",
      "source": [
        "\n",
        "## テキストの出力\n",
        "\n",
        "`print(\"出力したい文字\")`で出力することができる\n",
        "\n",
        "### 例1"
      ],
      "metadata": {
        "id": "zNCNIFoigd69"
      }
    },
    {
      "cell_type": "code",
      "source": [
        "print(\"こんにちは世界\")"
      ],
      "metadata": {
        "colab": {
          "base_uri": "https://localhost:8080/"
        },
        "id": "d0H4qBBqeg26",
        "outputId": "69cca755-48c7-43e5-d17c-224ad7d83de3"
      },
      "execution_count": null,
      "outputs": [
        {
          "output_type": "stream",
          "name": "stdout",
          "text": [
            "こんにちは世界\n"
          ]
        }
      ]
    },
    {
      "cell_type": "markdown",
      "source": [
        "\n",
        "> **指導上の注意**  \n",
        "> パソコンの基本操作に乏しい生徒が多くいることに留意すること\n",
        ">\n",
        "> ここで、実行ボタンの説明を行う。  \n",
        "> また、上のセルを用いてコードブロックやテキストブロックは編集できることを実演する。\n"
      ],
      "metadata": {
        "id": "K5quSM6URKjG"
      }
    },
    {
      "cell_type": "markdown",
      "source": [
        "### 練習問題1\n",
        "\n",
        "自分の名前を出力してみよう"
      ],
      "metadata": {
        "id": "UE8lN8NWhB0F"
      }
    },
    {
      "cell_type": "code",
      "source": [
        "#　練習問題1の答え↓\n"
      ],
      "metadata": {
        "id": "nmSMZL8zhG8F"
      },
      "execution_count": 3,
      "outputs": []
    },
    {
      "cell_type": "markdown",
      "source": [
        "> **答え**  \n",
        "> ```python\n",
        "> print(\"岸田文雄\")\n",
        "> ```\n",
        "> **指導上の注意**  \n",
        "> 多くの生徒がエラーを起こす可能性があるため、注意して机間巡視を行う。  \n",
        "> 全角と半角や、`print`のスペルミス等に注意する。  \n",
        "> 想定されるエラー  \n",
        "```python\n",
        "plint(\"岸田文雄\") # スペルミス\n",
        "ｐｒｉｎｔ（”岸田文雄”） # 全角\n",
        "  print(\"岸田文雄\") # 不要な行頭の空白\n",
        "```"
      ],
      "metadata": {
        "id": "QrVIHroYSj-k"
      }
    },
    {
      "cell_type": "markdown",
      "source": [
        "## 数値の出力\n",
        "\n",
        "文字列と同様に`print(出力したい数値)`で数値が出力できる。  \n",
        "文字列と違い、`\"`(ダブルクォーテーション)が入らないことに注意\n",
        "\n",
        "### 例2"
      ],
      "metadata": {
        "id": "ut6Cy6y1i1it"
      }
    },
    {
      "cell_type": "code",
      "source": [
        "print(20)"
      ],
      "metadata": {
        "colab": {
          "base_uri": "https://localhost:8080/"
        },
        "id": "eaOPG1Txen9R",
        "outputId": "b706a290-d353-44f6-b943-11f0b97702f9"
      },
      "execution_count": null,
      "outputs": [
        {
          "output_type": "stream",
          "name": "stdout",
          "text": [
            "20\n"
          ]
        }
      ]
    },
    {
      "cell_type": "markdown",
      "source": [
        "> **指導上の注意**  \n",
        "イメージを持たせるため、数値を変えて出力を行う。  \n",
        "このセルに限らず、colabの使い方に慣れさせるために改変して実行することで説明を行う。  "
      ],
      "metadata": {
        "id": "nSL-6cPZVM9a"
      }
    },
    {
      "cell_type": "markdown",
      "source": [
        "## 四則演算\n",
        "\n",
        "数学の式と同様、計算することができます。  \n",
        "\n",
        "| 記号 | 意味|\n",
        "|----|-----|\n",
        "| `+` | 加算|\n",
        "| `-` | 減算|\n",
        "| `*`|　乗算|\n",
        "| `/` | 除算|\n",
        "| `%`|　剰余|\n",
        "| `**` | べき乗|\n",
        "\n",
        "### 例3"
      ],
      "metadata": {
        "id": "iUW1QrbAlA9x"
      }
    },
    {
      "cell_type": "code",
      "source": [
        "print(20 + 2)"
      ],
      "metadata": {
        "colab": {
          "base_uri": "https://localhost:8080/"
        },
        "id": "k6JkRsIZl9s4",
        "outputId": "93f27700-84d8-4026-bb46-ae2d731a64c7"
      },
      "execution_count": null,
      "outputs": [
        {
          "output_type": "stream",
          "name": "stdout",
          "text": [
            "22\n"
          ]
        }
      ]
    },
    {
      "cell_type": "markdown",
      "source": [
        "> **指導上の注意**  \n",
        "剰余はあまりであることを念の為説明する。  \n",
        "また、上記で改変して`print(20 + 2 + 2)`のような3つ以上の数字を用いた式も立式する。"
      ],
      "metadata": {
        "id": "G-S77df-VsiM"
      }
    },
    {
      "cell_type": "markdown",
      "source": [
        "### 練習問題2\n",
        "\n",
        "ある日の気温が20℃であるとして、それを華氏(°F)で表すプログラムを作ってみよう\n",
        "\n",
        "**ヒント1**  \n",
        "摂氏(℃)から華氏(°F)への変換式は  \n",
        "$$\n",
        "華氏温度 = 摂氏温度 \\times 1.8 + 32\n",
        "$$\n",
        "\n",
        "**ヒント2**  \n",
        "数学と同じように一つの式に記号を連ねることが可能"
      ],
      "metadata": {
        "id": "wpX93VKCmEXL"
      }
    },
    {
      "cell_type": "code",
      "source": [
        "# 練習問題2の答え↓\n"
      ],
      "metadata": {
        "id": "zsOJYCtzmQ6o"
      },
      "execution_count": null,
      "outputs": []
    },
    {
      "cell_type": "markdown",
      "source": [
        "> **答え**\n",
        "```python\n",
        "print(20 * 1.8 + 32)\n",
        "```\n",
        "\n",
        "> **指導上の注意**  \n",
        "出力するものは華氏温度であることを説明し、`print(F = C * 1.8 + 32)`のようなミスを減らす。  \n",
        "また、乗算記号がアスタリスクであることに留意する。"
      ],
      "metadata": {
        "id": "zxS7Sf2WWvzv"
      }
    },
    {
      "cell_type": "markdown",
      "source": [
        "## 変数\n",
        "\n",
        "一度書いた文字や、すでに計算した数値をもう一度書くのは効率が悪い。  \n",
        "そのため、Pythonをはじめとする多くのプログラミング言語には**変数**というものが存在する。\n",
        "\n",
        "変数は箱のようなもので、プログラマが自由に作ることができる。\n",
        "\n",
        "### 変数の定義方法\n",
        "\n",
        "```\n",
        "変数名(任意)　= 入れたい値\n",
        "```\n",
        "\n",
        "ここでいう`=`は、数学的な意味ではなく代入するという意味になる。\n",
        "\n",
        "### 例4"
      ],
      "metadata": {
        "id": "Fa6Xykm1pH47"
      }
    },
    {
      "cell_type": "code",
      "source": [
        "my_name = \"Taiki Sugawara\"\n",
        "print(my_name)\n",
        "\n",
        "my_age = 18 + 3\n",
        "print(my_age)"
      ],
      "metadata": {
        "colab": {
          "base_uri": "https://localhost:8080/"
        },
        "id": "DpNU7cxNpG1P",
        "outputId": "eec3f648-acf9-4327-889f-eeceed70a2e2"
      },
      "execution_count": null,
      "outputs": [
        {
          "output_type": "stream",
          "name": "stdout",
          "text": [
            "Taiki Sugawara\n",
            "21\n"
          ]
        }
      ]
    },
    {
      "cell_type": "markdown",
      "source": [
        "> **指導上の注意**  \n",
        "入れ物であり、変数名は自由に決められること、変数の値は自由に変えることができ、再代入可能なことを伝える。  \n",
        "箱であるイメージを持たせることによって、さまざまな値が入ることをイメージさせる。  "
      ],
      "metadata": {
        "id": "EVZwCP6ZZvkm"
      }
    },
    {
      "cell_type": "markdown",
      "source": [
        "### 練習問題3\n",
        "\n",
        "たかしくんは税抜100円の消しゴムと210円のペンを買いました。  \n",
        "消費税は10%として、消しゴムとペンの税込み価格を表示しよう。\n",
        "\n",
        "**ヒント**  \n",
        "税は何度も使うため、変数に入れよう  \n",
        "消しゴムとペンは変数に入れても入れなくても良い"
      ],
      "metadata": {
        "id": "cyF2TqSjwOey"
      }
    },
    {
      "cell_type": "code",
      "source": [
        "# 練習問題3の答え↓\n"
      ],
      "metadata": {
        "id": "Cg2m1QbufVig"
      },
      "execution_count": 6,
      "outputs": []
    },
    {
      "cell_type": "markdown",
      "source": [
        "> **答え**  \n",
        "別解は無数に存在する\n",
        ">\n",
        "> ```python\n",
        "> tax = 1.1\n",
        "> eraser = 100\n",
        "> pen = 220\n",
        "> \n",
        "> print(tax * eraser)\n",
        "> print(tax * pen)\n",
        "> ```\n",
        "\n",
        "> **指導上の注意**  \n",
        "税金を何度も使用するため、変数にしたメリットを実感させる。  \n",
        "1.10を繰り返し使用している生徒に対しては、変数を使用してより簡潔に書くことができると伝える。  \n",
        "int型でキャストしなければ、出力に丸め誤差が現れる。`int()`で囲うと治ることを伝える。  \n",
        "また、プログラミングでは予想外の出力が生まれるため、常に人間が確認すべきということも伝える。"
      ],
      "metadata": {
        "id": "e7BfJjO2aDOW"
      }
    },
    {
      "cell_type": "markdown",
      "source": [
        "## 終わりに\n",
        "作者 :   \n",
        "菅原 太樹 (Github : [@taikis](https://github.com/taikis))  \n",
        "安井 眞琴\n",
        "\n",
        "\n",
        "本Jupyterファイルを含む講義資料は、[GitHub](https://github.com/taikis/introducting-python)で公開している。"
      ],
      "metadata": {
        "id": "xWdOyZmiyran"
      }
    },
    {
      "cell_type": "markdown",
      "source": [
        "> 教員用資料を含むすべての資料はMIT Licenseの元で自由に使用できる。  "
      ],
      "metadata": {
        "id": "-HrnDT_sbyFk"
      }
    }
  ]
}