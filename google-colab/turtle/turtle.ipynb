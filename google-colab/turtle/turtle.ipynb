{
  "nbformat": 4,
  "nbformat_minor": 0,
  "metadata": {
    "colab": {
      "provenance": [],
      "collapsed_sections": [
        "IoD6kV6ap9XV"
      ],
      "toc_visible": true,
      "authorship_tag": "ABX9TyOPzU1xAxYeWuLlzhku+PKy"
    },
    "kernelspec": {
      "name": "python3",
      "display_name": "Python 3"
    },
    "language_info": {
      "name": "python"
    }
  },
  "cells": [
    {
      "cell_type": "markdown",
      "source": [
        "<a href=\"https://colab.research.google.com/github/taikis/introducting-python/blob/main/google-colab/turtle/turtle.ipynb\" target=\"_parent\"><img src=\"https://colab.research.google.com/assets/colab-badge.svg\" alt=\"Open In Colab\"/></a>"
      ],
      "metadata": {
        "id": "Guk6_NnryCAg"
      }
    },
    {
      "cell_type": "markdown",
      "source": [
        "# Python入門\n",
        "\n",
        "*Turtleで視覚的にわかる、構文の基礎*\n",
        "\n",
        "亀って可愛いですよね🐢  \n",
        "そんな亀さんを自由自在に操れたら嬉しいはずです。  \n",
        "\n",
        "今回は大学の授業や研究でよく使われるPythonというプログラミング言語を用い、亀を動かしその軌跡で絵を描いていこうと思います。"
      ],
      "metadata": {
        "id": "yA3nxA7O0bS8"
      }
    },
    {
      "cell_type": "markdown",
      "source": [
        "## 1 Pythonの基礎\n"
      ],
      "metadata": {
        "id": "Nb0prBvV32sj"
      }
    },
    {
      "cell_type": "markdown",
      "source": [
        "### テキストの出力\n",
        "\n",
        "`print(\"出力したい文字\")`で出力することができる"
      ],
      "metadata": {
        "id": "o29WHlmsjSOB"
      }
    },
    {
      "cell_type": "markdown",
      "source": [
        "#### 例1-1\n",
        "↓ここをクリックすることで実行できる"
      ],
      "metadata": {
        "id": "1QKwGrNHjy_X"
      }
    },
    {
      "cell_type": "code",
      "source": [
        "print(\"こんにちはPython\")"
      ],
      "metadata": {
        "id": "EogXUTrpjyL4"
      },
      "execution_count": null,
      "outputs": []
    },
    {
      "cell_type": "markdown",
      "source": [
        "#### 解説\n",
        "\n",
        "`print()`は、文字を出力するための**関数**である。  \n",
        "Pythonにはさまざまな関数が存在し、関数を介してさまざまな機能を用いることができる。  "
      ],
      "metadata": {
        "id": "lUqTcWbjkUpc"
      }
    },
    {
      "cell_type": "markdown",
      "source": [
        "#### 練習問題1-a\n",
        "\n",
        "自分の好きな食べ物を出力してみよう"
      ],
      "metadata": {
        "id": "ils9r6yYkCTQ"
      }
    },
    {
      "cell_type": "code",
      "source": [
        "# 練習問題1-1をここに書く\n"
      ],
      "metadata": {
        "id": "3JTSFTESkBd4"
      },
      "execution_count": null,
      "outputs": []
    },
    {
      "cell_type": "markdown",
      "source": [
        "### 数値の扱い\n",
        "\n",
        "文字列を出力する際にはダブルクオーテーション(`\"\"`)を使用した。  \n",
        "ダブルクオーテーションを使用せず、数字をそのまま入れることによって数値を出力することができる。"
      ],
      "metadata": {
        "id": "AjHXmwN-mGtJ"
      }
    },
    {
      "cell_type": "markdown",
      "source": [
        "#### 例1-2\n",
        "\n",
        "1行目の例では、数値として`1`を出力している。  \n",
        "2行目では、`\"\"`をつけているため、文字列として出力している。  \n",
        "\n",
        "一見すると同じように見えるが、後ほど違いを解説する。"
      ],
      "metadata": {
        "id": "mmZVpcISmyi5"
      }
    },
    {
      "cell_type": "code",
      "source": [
        "print(1) # 数値としての出力\n",
        "print(\"1\") # 文字列としての出力"
      ],
      "metadata": {
        "id": "4nTfFleOnmu0"
      },
      "execution_count": null,
      "outputs": []
    },
    {
      "cell_type": "markdown",
      "source": [
        "#### 例1-3\n",
        "\n",
        "下記の例では、四則演算を使用している。  \n",
        "例1-2で、数値としての出力と文字列としての出力を区別したのは、演算ができるかできないかが変わるためである。\n",
        "\n",
        "四則演算は、下記の演算子によって計算することができる。\n",
        "\n",
        "\n",
        "| 記号 | 意味|\n",
        "|----|-----|\n",
        "| `+` | 加算|\n",
        "| `-` | 減算|\n",
        "| `*`| 乗算|\n",
        "| `/` | 除算|\n",
        "| `%`| 剰余|\n",
        "| `**` | べき乗|\n",
        "| `()` | カッコ |"
      ],
      "metadata": {
        "id": "usexHBZPnwWG"
      }
    },
    {
      "cell_type": "code",
      "source": [
        "print(1 + 1) # 計算されて2が出力される\n",
        "\n",
        "print(\"1\" + \"1\") # 文字列なので、単に連結されて11が出力される\n",
        "\n",
        "print(33 ** 2 % 7)"
      ],
      "metadata": {
        "id": "ZVWah8z4oMm-"
      },
      "execution_count": null,
      "outputs": []
    },
    {
      "cell_type": "markdown",
      "source": [
        "#### 練習問題1-b\n",
        "\n",
        "それぞれのコメントの下に、それにあった解答を出力するプログラムを書こう\n",
        "\n",
        "**ヒント**  \n",
        "出力は`print`を使うよ"
      ],
      "metadata": {
        "id": "zg2XdEDBpJkL"
      }
    },
    {
      "cell_type": "code",
      "source": [
        "# 40 + 11\n",
        "\n",
        "# 30 - 6\n",
        "\n",
        "# 33 × 5\n",
        "\n",
        "# 20 ÷ 3\n",
        "\n",
        "# 25 の 11乗\n"
      ],
      "metadata": {
        "id": "wRK9Av4spUBg"
      },
      "execution_count": null,
      "outputs": []
    },
    {
      "cell_type": "markdown",
      "source": [
        "### 変数\n",
        "\n",
        "一度書いた文字や、すでに計算した数値をもう一度書くのは効率が悪い。  \n",
        "そのため、Pythonをはじめとする多くのプログラミング言語には**変数**というものが存在する。\n",
        "\n",
        "変数は箱のようなもので、プログラマが自由に作ることができる。\n",
        "\n",
        "```\n",
        "変数名(任意)　= 入れたい値\n",
        "```\n",
        "\n",
        "ここでいう`=`は、数学的な等号の意味ではなく、**代入する**という意味になる。\n",
        "\n",
        "また、変数はそのまま`print()`関数の中に入れることで、出力できる。"
      ],
      "metadata": {
        "id": "vPdxqv2mKdEy"
      }
    },
    {
      "cell_type": "markdown",
      "source": [
        "#### 例1-4"
      ],
      "metadata": {
        "id": "twlLxQWQLJV3"
      }
    },
    {
      "cell_type": "code",
      "source": [
        "my_name = \"Taiki Sugawara\"\n",
        "print(my_name)\n",
        "\n",
        "my_age = 18 + 4\n",
        "print(my_age)\n",
        "\n",
        "print(my_name + \"の年齢は\" + str(my_age) + \"です。\")"
      ],
      "metadata": {
        "id": "GT71tGDkLIuT"
      },
      "execution_count": null,
      "outputs": []
    },
    {
      "cell_type": "markdown",
      "source": [
        "#### 解説\n",
        "\n",
        "先ほど`\"\"`で囲った場合、文字列になった。囲わない場合は変数として扱われる。  "
      ],
      "metadata": {
        "id": "n4ggPZHgNy6S"
      }
    },
    {
      "cell_type": "markdown",
      "source": [
        "#### 練習問題1-c\n",
        "\n",
        "5世紀、中国の数学者祖 沖之（そ ちゅうし、429年 - 500年）は、円周率を\n",
        "$$\\pi = 355/113$$\n",
        "と定義した。\n",
        "\n",
        "この式を用いて円周率を定義したのちに、それぞれの問題を出力しよう。\n",
        "\n",
        "ヒント: 円周率は一度しか求めない"
      ],
      "metadata": {
        "id": "WEBprOB3L0mZ"
      }
    },
    {
      "cell_type": "code",
      "source": [
        "# 練習問題1-c\n",
        "\n",
        "\n",
        "# 直径2の円の面積\n",
        "\n",
        "# 直径5の球の体積\n",
        "\n",
        "# 直径6の球の表面積\n"
      ],
      "metadata": {
        "id": "If8t_h27NWs0"
      },
      "execution_count": null,
      "outputs": []
    },
    {
      "cell_type": "markdown",
      "source": [
        "#### 発展問題1-α\n",
        "\n",
        "\n",
        "ある日の気温が20℃であるとして、それを華氏(°F)で表すプログラムを作ってみよう\n",
        "\n",
        "**ヒント1**  \n",
        "摂氏(℃)から華氏(°F)への変換式は  \n",
        "$$\n",
        "華氏温度 = 摂氏温度 \\times 1.8 + 32\n",
        "$$\n",
        "\n",
        "**ヒント2**  \n",
        "数学と同じように一つの式に記号を連ねることが可能"
      ],
      "metadata": {
        "id": "TGB8nKTxptKv"
      }
    },
    {
      "cell_type": "code",
      "source": [
        "# 発展問題1-αの答え↓\n"
      ],
      "metadata": {
        "id": "QJnjQrWwp5CV"
      },
      "execution_count": null,
      "outputs": []
    },
    {
      "cell_type": "markdown",
      "source": [
        "## 2 Turtleの準備\n",
        "\n",
        "1章では文字列と数値の出力のみで、味気なかった。  \n",
        "3章以降でTurtleと呼ばれるライブラリを用い、視覚的にプログラミングを理解する。  \n",
        "本章ではそのための準備を行う。理解できなくて差し支えない。\n",
        "\n",
        "※ ライブラリとは、さまざまな機能を持つプログラムを関数などによって簡単に利用できるパックのことである。  "
      ],
      "metadata": {
        "id": "IoD6kV6ap9XV"
      }
    },
    {
      "cell_type": "markdown",
      "source": [
        "### Turtleのインストール\n",
        "\n",
        "ライブラリは他人が書いたプログラムの集まりである。使用するにはプログラムをインストールする必要がある。  \n",
        "インストールには下記のコマンドを使用する。コマンドは1回実行すれば良い。  \n",
        "\n",
        "``` sh\n",
        "pip3 install インストールしたいライブラリの名前\n",
        "```\n",
        "\n",
        "下記コマンドを実行してColabTurtleをインストールしよう。"
      ],
      "metadata": {
        "id": "Eh_LjIk9qvd4"
      }
    },
    {
      "cell_type": "code",
      "source": [
        "!pip3 install ColabTurtle"
      ],
      "metadata": {
        "id": "H7OOAxNMs3Ft"
      },
      "execution_count": null,
      "outputs": []
    },
    {
      "cell_type": "markdown",
      "source": [
        "### Turtleのインポート\n",
        "\n",
        "インストールをするだけではライブラリを使用することはできない。  \n",
        "Pythonプログラムの冒頭で、ライブラリを使うことを明言する必要がある。  \n",
        "\n",
        "下記プログラムを実行し、ColabTurtleをインポートしよう。"
      ],
      "metadata": {
        "id": "IdrEMRRutGea"
      }
    },
    {
      "cell_type": "code",
      "source": [
        "from ColabTurtle.Turtle import *"
      ],
      "metadata": {
        "id": "PY0aI2JJtz88"
      },
      "execution_count": null,
      "outputs": []
    },
    {
      "cell_type": "markdown",
      "source": [
        "これによって、ColabTurtleライブラリに入っている関数を使用できるようになった。"
      ],
      "metadata": {
        "id": "NqfUaKYvvbUO"
      }
    },
    {
      "cell_type": "markdown",
      "source": [
        "## 3 Turtleを使った描画の基本\n",
        "\n",
        "いよいよTurtleを使用していく。  \n",
        "Turtleの関数の使い方は、ライブラリの配布場所で述べられている。  \n",
        "優秀な諸君なら、英語で書いてあっても問題ないと思うので、読み進めて各自やっていただいて構わない。\n",
        "\n",
        "[ColabTurtleの関数の使い方](https://github.com/tolgaatam/ColabTurtle#api)"
      ],
      "metadata": {
        "id": "N5kf3rNAvjbU"
      }
    },
    {
      "cell_type": "markdown",
      "source": [
        "### とりあえず動かしてみる\n",
        "\n",
        "何はともあれ下記コードを動かしてみてほしい。  \n",
        "亀が出現し動く。その軌跡が図形を描く。"
      ],
      "metadata": {
        "id": "niqMzT_IzZgv"
      }
    },
    {
      "cell_type": "markdown",
      "source": [
        "#### 例3-1\n",
        "\n",
        "Turtleにある3種類の関数を使用し、「のような図形を書いている。"
      ],
      "metadata": {
        "id": "evirJd762CRo"
      }
    },
    {
      "cell_type": "code",
      "source": [
        "initializeTurtle() # カメを初期化\n",
        "forward(100) # カメを前に100px進める\n",
        "right(90) # カメを右に90°回転\n",
        "forward(100) # カメを前に100px進める"
      ],
      "metadata": {
        "id": "3FHnq4KLxnlf"
      },
      "execution_count": null,
      "outputs": []
    },
    {
      "cell_type": "markdown",
      "source": [
        "#### 解説\n",
        "\n",
        "Turtleの関数にはカメを動かしたり、色を変えたりする機能がある。  \n",
        "[ColabTurtleの関数の使い方](https://github.com/tolgaatam/ColabTurtle#api)にそれぞれの使い方が書いてあるため、各自読んで自由に動かしてみてほしい。  \n",
        "\n",
        "`initializeTurtle()`が特殊な関数であり、これを呼び出すとカメを描画しているウインドウを初期化する。  \n",
        "この関数が呼ばれなければ、前の軌跡やカメの位置などが保存されている。"
      ],
      "metadata": {
        "id": "XMF2Qsfa2xAc"
      }
    },
    {
      "cell_type": "markdown",
      "source": [
        "#### 練習問題3-a\n",
        "\n",
        "ウインドウを初期化し、軌跡で三角形を描画してみよう。  \n",
        "辺の長さや、どんな三角形かは問わない。  \n",
        "\n",
        "ヒント: 正三角形を書くのが簡単。正三角形の角度は？"
      ],
      "metadata": {
        "id": "-3aNjwpU8-Y2"
      }
    },
    {
      "cell_type": "code",
      "source": [
        "# 練習問題3-a\n"
      ],
      "metadata": {
        "id": "NDJ_Yj3P8yXI"
      },
      "execution_count": null,
      "outputs": []
    },
    {
      "cell_type": "markdown",
      "source": [
        "#### 発展問題3-α\n",
        "\n",
        "`right()`, `left()`, `forward()`以外に5つの関数を用い、自由に描画してみよう。\n",
        "\n",
        "ヒント: いくつかの有用そうな関数を示す。発展問題ではこれ以外の関数も使った独自性のある図形を期待する。  \n",
        "\n",
        "`color(r,g,b)`: カメとペンの色を変える。色はRGB表記で入力する。色は[こういったサイト](https://itsakura.com/html-color-codes#s4)で確かめられる  \n",
        "\n",
        "`goto(x,y)`: カメを指定したx,y座標に移動させる。軌跡は描かれる。  \n",
        "x,y座標は下記のようになっている。\n",
        "\n",
        "```\n",
        "   |               x\n",
        "---+------------------->\n",
        "   |\n",
        "   |\n",
        "   |\n",
        "   |\n",
        "   |\n",
        "y ∨\n"
      ],
      "metadata": {
        "id": "-8BvOe2h2bDv"
      }
    },
    {
      "cell_type": "code",
      "source": [
        "# 発展問題3-α\n"
      ],
      "metadata": {
        "id": "yn6GyoZJ-mwr"
      },
      "execution_count": null,
      "outputs": []
    },
    {
      "cell_type": "markdown",
      "source": [
        "## 4 制御構文\n",
        "\n",
        "一般的にプログラミング言語には、条件分岐や繰り返しを行う制御構文と呼ばれるものが存在する。  \n",
        "Pythonにも制御構文は存在する。  \n",
        "\n",
        "本章では代表的な幾つかの制御構文を用い、より楽しくプログラミングをしよう。"
      ],
      "metadata": {
        "id": "GxUO32oxEQ0M"
      }
    },
    {
      "cell_type": "markdown",
      "source": [
        "### for文\n",
        "\n",
        "cf.) https://docs.python.org/3/reference/compound_stmts.html#the-for-statement\n",
        "\n",
        "`for`は、繰り返し処理をするための制御構文である。  \n",
        "下記のように記述する。\n",
        "\n"
      ],
      "metadata": {
        "id": "X2sD4b0uHXCF"
      }
    },
    {
      "cell_type": "markdown",
      "source": [
        "#### 例4-1"
      ],
      "metadata": {
        "id": "7kola-h5P0zF"
      }
    },
    {
      "cell_type": "code",
      "source": [
        "for i in range(5):\n",
        "    print(i)"
      ],
      "metadata": {
        "id": "Nuipa-zkP9oo"
      },
      "execution_count": null,
      "outputs": []
    },
    {
      "cell_type": "markdown",
      "source": [
        "#### 解説\n",
        "\n",
        "`range()`関数は、配列と呼ばれる数値のリストを返す関数である。0から指定した回数カウントアップして出力する。今回は、`[0,1,2,3,4]`が出力される。  \n",
        "forの直後に書かれた変数（今回は`i`）に、リストに入っている数値が順番に入り、その後の処理が実行されていく。  \n",
        "繰り返し対象のプログラムはインデントをつけることに注意すること。"
      ],
      "metadata": {
        "id": "hquQwTkMQWEO"
      }
    },
    {
      "cell_type": "markdown",
      "source": [
        "#### 例4-2\n",
        "\n",
        "for文を使えば、練習問題3-aは簡単にかける\n"
      ],
      "metadata": {
        "id": "s0I__hABSnh5"
      }
    },
    {
      "cell_type": "code",
      "source": [
        "initializeTurtle()\n",
        "for i in range(3):\n",
        "    forward(100)\n",
        "    right(120)"
      ],
      "metadata": {
        "id": "KN5usptGS0s8"
      },
      "execution_count": null,
      "outputs": []
    },
    {
      "cell_type": "markdown",
      "source": [
        "### if文\n",
        "\n",
        "cf.) https://docs.python.org/3/reference/compound_stmts.html#the-if-statement\n",
        "\n",
        "`if`を使うと、条件分岐をすることができる。  \n",
        "先ほどの`for`と組み合わせ、下記のような処理が記述できる。\n"
      ],
      "metadata": {
        "id": "4G0D18eOSWR5"
      }
    },
    {
      "cell_type": "markdown",
      "source": [
        "#### 例4-3"
      ],
      "metadata": {
        "id": "lr_TYR6LT3lK"
      }
    },
    {
      "cell_type": "code",
      "source": [
        "for i in range(5):\n",
        "    if i < 3:\n",
        "        print(str(i) + \"は3より小さい！\")\n",
        "    elif i == 3:\n",
        "        print(\"3です。\")\n",
        "    else:\n",
        "        print(str(i) + \"は3より大きい！\")"
      ],
      "metadata": {
        "id": "tTQEDagjT5sI"
      },
      "execution_count": null,
      "outputs": []
    },
    {
      "cell_type": "markdown",
      "source": [
        "#### 解説\n",
        "\n",
        "`if`の後に来る文は条件式と呼ばれる。関数が入ることもあれば、今回の例のように比較演算子が入ることもある。\n",
        "\n",
        "| 記号 | 意味|\n",
        "|----|-----|\n",
        "| `==`| 等しい|\n",
        "| `!=` | 等しくない|\n",
        "| `<` | より小さい|\n",
        "| `>` | より大きい|\n",
        "| `<=`| 以下 |\n",
        "| `>=` | 以上|\n",
        "| `and` | かつ|\n",
        "| `or`| または |\n",
        "| `not` | 否定 |\n",
        "\n",
        "`elif`は、直前の`if`の結果が偽であった際に続けて判定される。  \n",
        "`else`は、`if`や`elif`が偽だった時に最終的に実行される。偽だった際に無条件で実行されるため、条件式は書かない。\n"
      ],
      "metadata": {
        "id": "l9Dm7Vn4U4cD"
      }
    },
    {
      "cell_type": "markdown",
      "source": [
        "## 5 Turtleを使った大規模な描画\n",
        "\n",
        "今まで学んだことを活かし、より複雑な図形を作ってみよう。"
      ],
      "metadata": {
        "id": "UkuwMSO5YnF4"
      }
    },
    {
      "cell_type": "markdown",
      "source": [
        "### とにかくコードを書いてみよう\n",
        "\n",
        "下記の例は今までの技術を用いたものである。"
      ],
      "metadata": {
        "id": "50KgTQ0IgclC"
      }
    },
    {
      "cell_type": "markdown",
      "source": [
        "#### 例5-1"
      ],
      "metadata": {
        "id": "p6v5rUiNZuOx"
      }
    },
    {
      "cell_type": "code",
      "source": [
        "initializeTurtle()\n",
        "pi = 3.141592653589793\n",
        "speed(12)\n",
        "for size in range(10):\n",
        "    radius = size * 10\n",
        "    penup()\n",
        "    w_width = window_width()\n",
        "    center_position = w_width/2\n",
        "    setx(center_position - radius)\n",
        "    pendown()\n",
        "    for i in range(24):\n",
        "        forward(radius * 2 * pi / 24)\n",
        "        right(15)"
      ],
      "metadata": {
        "id": "3RLI68voZ1JC"
      },
      "execution_count": null,
      "outputs": []
    },
    {
      "cell_type": "markdown",
      "source": [
        "#### 例5-2"
      ],
      "metadata": {
        "id": "ZCFv1oVBgTbb"
      }
    },
    {
      "cell_type": "code",
      "source": [
        "import math\n",
        "initializeTurtle()\n",
        "speed(10)\n",
        "w_width =  window_width() \n",
        "w_height = window_height()\n",
        "step_unit = 200\n",
        "x_unit = w_width / step_unit\n",
        "color_unit = int(255 /step_unit)\n",
        "\n",
        "penup()\n",
        "setx(0)\n",
        "pendown()\n",
        "for step in range(step_unit):\n",
        "    color_num = color_unit * step\n",
        "    if step < step_unit / 2:\n",
        "        color(color_num + 100, 120, 120)\n",
        "    else:\n",
        "        color(0 , color_num, 120)\n",
        "    x = x_unit * step\n",
        "    y= math.sin(x / 20) * 50  + w_height / 2\n",
        "    goto(x,y)\n",
        "    "
      ],
      "metadata": {
        "id": "ODsoYytsgTAk"
      },
      "execution_count": null,
      "outputs": []
    },
    {
      "cell_type": "markdown",
      "source": [
        "#### 練習問題5-1\n",
        "\n",
        "今まで使った知識をもとに、独自に絵を描いてみよう"
      ],
      "metadata": {
        "id": "y6UUw0xDpGgT"
      }
    },
    {
      "cell_type": "code",
      "source": [
        "# 練習問題5-1\n"
      ],
      "metadata": {
        "id": "dNo_aZ36pScZ"
      },
      "execution_count": null,
      "outputs": []
    },
    {
      "cell_type": "code",
      "source": [
        "# 練習問題5-1(いくつも書いてみよう)\n"
      ],
      "metadata": {
        "id": "W5gzMIXDpU_r"
      },
      "execution_count": null,
      "outputs": []
    },
    {
      "cell_type": "markdown",
      "source": [
        "## 授業情報\n",
        "\n",
        "### 概要\n",
        "作者 :   \n",
        "菅原 太樹 (Github : [@taikis](https://github.com/taikis))  \n",
        "\n",
        "\n",
        "本Jupyterファイルを含む講義資料は、[GitHub](https://github.com/taikis/introducting-python)で公開している。\n",
        "\n",
        "### 使用ライブラリ\n",
        "本教材には下記のライブラリを使用している。\n",
        "\n",
        "[ColabTurtle](https://github.com/tolgaatam/ColabTurtle) ©︎2018 Tolga Atam (MIT License)\n"
      ],
      "metadata": {
        "id": "Sf6p2eHxrwoE"
      }
    }
  ]
}