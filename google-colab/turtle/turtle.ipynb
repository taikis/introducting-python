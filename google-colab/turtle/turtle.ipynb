{
  "nbformat": 4,
  "nbformat_minor": 0,
  "metadata": {
    "colab": {
      "provenance": [],
      "toc_visible": true,
      "authorship_tag": "ABX9TyMeyHYDXybE38zQhfj69T5V",
      "include_colab_link": true
    },
    "kernelspec": {
      "name": "python3",
      "display_name": "Python 3"
    },
    "language_info": {
      "name": "python"
    }
  },
  "cells": [
    {
      "cell_type": "markdown",
      "metadata": {
        "id": "view-in-github",
        "colab_type": "text"
      },
      "source": [
        "<a href=\"https://colab.research.google.com/github/taikis/introducting-python/blob/develop/google-colab/turtle/turtle.ipynb\" target=\"_parent\"><img src=\"https://colab.research.google.com/assets/colab-badge.svg\" alt=\"Open In Colab\"/></a>"
      ]
    },
    {
      "cell_type": "markdown",
      "source": [
        "# Python入門\n",
        "\n",
        "*Turtleで視覚的にわかる、構文の基礎*\n",
        "\n",
        "亀って可愛いですよね🐢  \n",
        "そんな亀さんを自由自在に操れたら嬉しいはずです。  \n",
        "\n",
        "今回は大学の授業や研究でよく使われるPythonというプログラミング言語を用い、亀を動かしその軌跡で絵を描いていこうと思います。"
      ],
      "metadata": {
        "id": "yA3nxA7O0bS8"
      }
    },
    {
      "cell_type": "markdown",
      "source": [
        "## 1 Pythonの基礎\n"
      ],
      "metadata": {
        "id": "Nb0prBvV32sj"
      }
    },
    {
      "cell_type": "markdown",
      "source": [
        "### テキストの出力\n",
        "\n",
        "`print(\"出力したい文字\")`で出力することができる"
      ],
      "metadata": {
        "id": "o29WHlmsjSOB"
      }
    },
    {
      "cell_type": "markdown",
      "source": [
        "#### 例1-1\n",
        "↓ここをクリックすることで実行できる"
      ],
      "metadata": {
        "id": "1QKwGrNHjy_X"
      }
    },
    {
      "cell_type": "code",
      "source": [
        "print(\"こんにちはPython\")"
      ],
      "metadata": {
        "id": "EogXUTrpjyL4"
      },
      "execution_count": null,
      "outputs": []
    },
    {
      "cell_type": "markdown",
      "source": [
        "#### 解説\n",
        "\n",
        "`print()`は、文字を出力するための**関数**である。  \n",
        "Pythonにはさまざまな関数が存在し、関数を介してさまざまな機能を用いることができる。  "
      ],
      "metadata": {
        "id": "lUqTcWbjkUpc"
      }
    },
    {
      "cell_type": "markdown",
      "source": [
        "#### 練習問題1-a\n",
        "\n",
        "自分の好きな食べ物を出力してみよう"
      ],
      "metadata": {
        "id": "ils9r6yYkCTQ"
      }
    },
    {
      "cell_type": "code",
      "source": [
        "# 練習問題1-1をここに書く\n"
      ],
      "metadata": {
        "id": "3JTSFTESkBd4"
      },
      "execution_count": null,
      "outputs": []
    },
    {
      "cell_type": "markdown",
      "source": [
        "### 数値の扱い\n",
        "\n",
        "文字列を出力する際にはダブルクオーテーション(`\"\"`)を使用した。  \n",
        "ダブルクオーテーションを使用せず、数字をそのまま入れることによって数値を出力することができる。"
      ],
      "metadata": {
        "id": "AjHXmwN-mGtJ"
      }
    },
    {
      "cell_type": "markdown",
      "source": [
        "#### 例1-2\n",
        "\n",
        "1行目の例では、数値として`1`を出力している。  \n",
        "2行目では、`\"\"`をつけているため、文字列として出力している。  \n",
        "\n",
        "一見すると同じように見えるが、後ほど違いを解説する。"
      ],
      "metadata": {
        "id": "mmZVpcISmyi5"
      }
    },
    {
      "cell_type": "code",
      "source": [
        "print(1) # 数値としての出力\n",
        "print(\"1\") # 文字列としての出力"
      ],
      "metadata": {
        "id": "4nTfFleOnmu0"
      },
      "execution_count": null,
      "outputs": []
    },
    {
      "cell_type": "markdown",
      "source": [
        "#### 例1-3\n",
        "\n",
        "下記の例では、四則演算を使用している。  \n",
        "例1-2で、数値としての出力と文字列としての出力を区別したのは、演算ができるかできないかが変わるためである。\n",
        "\n",
        "四則演算は、下記の演算子によって計算することができる。\n",
        "\n",
        "\n",
        "| 記号 | 意味|\n",
        "|----|-----|\n",
        "| `+` | 加算|\n",
        "| `-` | 減算|\n",
        "| `*`| 乗算|\n",
        "| `/` | 除算|\n",
        "| `%`| 剰余|\n",
        "| `**` | べき乗|\n",
        "| `()` | カッコ |"
      ],
      "metadata": {
        "id": "usexHBZPnwWG"
      }
    },
    {
      "cell_type": "code",
      "source": [
        "print(1 + 1) # 計算されて2が出力される\n",
        "print(\"1\" + \"1\") # 文字列なので、単に連結されて11が出力される\n",
        "\n",
        "print(33 ** 2 % 7)"
      ],
      "metadata": {
        "colab": {
          "base_uri": "https://localhost:8080/"
        },
        "id": "ZVWah8z4oMm-",
        "outputId": "dbbb41c7-651f-4db6-d153-70d25703ecab"
      },
      "execution_count": 3,
      "outputs": [
        {
          "output_type": "stream",
          "name": "stdout",
          "text": [
            "2\n",
            "11\n",
            "4\n"
          ]
        }
      ]
    },
    {
      "cell_type": "markdown",
      "source": [
        "#### 練習問題1-b\n",
        "\n",
        "それぞれのコメントの下に、それにあった解答を出力するプログラムを書こう\n",
        "\n",
        "**ヒント**  \n",
        "出力は`print`を使うよ"
      ],
      "metadata": {
        "id": "zg2XdEDBpJkL"
      }
    },
    {
      "cell_type": "code",
      "source": [
        "# 40 + 11\n",
        "\n",
        "# 30 - 6\n",
        "\n",
        "# 33 × 5\n",
        "\n",
        "# 20 ÷ 3\n",
        "\n",
        "# 25 の 11乗\n"
      ],
      "metadata": {
        "id": "wRK9Av4spUBg"
      },
      "execution_count": null,
      "outputs": []
    },
    {
      "cell_type": "markdown",
      "source": [
        "#### 発展問題1-α\n",
        "\n",
        "\n",
        "ある日の気温が20℃であるとして、それを華氏(°F)で表すプログラムを作ってみよう\n",
        "\n",
        "**ヒント1**  \n",
        "摂氏(℃)から華氏(°F)への変換式は  \n",
        "$$\n",
        "華氏温度 = 摂氏温度 \\times 1.8 + 32\n",
        "$$\n",
        "\n",
        "**ヒント2**  \n",
        "数学と同じように一つの式に記号を連ねることが可能"
      ],
      "metadata": {
        "id": "TGB8nKTxptKv"
      }
    },
    {
      "cell_type": "code",
      "source": [
        "# 発展問題1-αの答え↓\n"
      ],
      "metadata": {
        "id": "QJnjQrWwp5CV"
      },
      "execution_count": null,
      "outputs": []
    },
    {
      "cell_type": "markdown",
      "source": [
        "## 2 Turtleの準備\n",
        "\n",
        "1章では文字列と数値の出力のみで、味気なかった。  \n",
        "3章以降でTurtleと呼ばれるライブラリを用い、視覚的にプログラミングを理解する。  \n",
        "本章ではそのための準備を行う。理解できなくて差し支えない。\n",
        "\n",
        "※ ライブラリとは、さまざまな機能を持つプログラムを関数などによって簡単に利用できるパックのことである。  "
      ],
      "metadata": {
        "id": "IoD6kV6ap9XV"
      }
    },
    {
      "cell_type": "markdown",
      "source": [
        "### Turtleのインストール\n",
        "\n",
        "ライブラリは他人が書いたプログラムの集まりである。使用するにはプログラムをインストールする必要がある。  \n",
        "インストールには下記のコマンドを使用する。コマンドは1回実行すれば良い。  \n",
        "\n",
        "``` sh\n",
        "pip3 install インストールしたいライブラリの名前\n",
        "```\n",
        "\n",
        "下記コマンドを実行してColabTurtleをインストールしよう。"
      ],
      "metadata": {
        "id": "Eh_LjIk9qvd4"
      }
    },
    {
      "cell_type": "code",
      "source": [
        "!pip3 install ColabTurtle"
      ],
      "metadata": {
        "colab": {
          "base_uri": "https://localhost:8080/"
        },
        "id": "H7OOAxNMs3Ft",
        "outputId": "17b970b4-b56b-4770-cb8c-d08d811eb408"
      },
      "execution_count": 4,
      "outputs": [
        {
          "output_type": "stream",
          "name": "stdout",
          "text": [
            "Looking in indexes: https://pypi.org/simple, https://us-python.pkg.dev/colab-wheels/public/simple/\n",
            "Collecting ColabTurtle\n",
            "  Downloading ColabTurtle-2.1.0.tar.gz (6.8 kB)\n",
            "  Preparing metadata (setup.py) ... \u001b[?25l\u001b[?25hdone\n",
            "Building wheels for collected packages: ColabTurtle\n",
            "  Building wheel for ColabTurtle (setup.py) ... \u001b[?25l\u001b[?25hdone\n",
            "  Created wheel for ColabTurtle: filename=ColabTurtle-2.1.0-py3-none-any.whl size=7656 sha256=83dbd8e29ee3c5038e9432b20a1bdf2afa0b3c76e8c2a80bf3b43a27ba967294\n",
            "  Stored in directory: /root/.cache/pip/wheels/a9/85/dc/29b6b43c4c6c0fe37192ccad65fe2adcef1e52dd24b0eb61fc\n",
            "Successfully built ColabTurtle\n",
            "Installing collected packages: ColabTurtle\n",
            "Successfully installed ColabTurtle-2.1.0\n"
          ]
        }
      ]
    },
    {
      "cell_type": "markdown",
      "source": [
        "### Turtleのインポート\n",
        "\n",
        "インストールをするだけではライブラリを使用することはできない。  \n",
        "Pythonプログラムの冒頭で、ライブラリを使うことを明言する必要がある。  \n",
        "\n",
        "下記プログラムを実行し、ColabTurtleをインポートしよう。"
      ],
      "metadata": {
        "id": "IdrEMRRutGea"
      }
    },
    {
      "cell_type": "code",
      "source": [
        "from ColabTurtle.Turtle import *"
      ],
      "metadata": {
        "id": "PY0aI2JJtz88"
      },
      "execution_count": 6,
      "outputs": []
    },
    {
      "cell_type": "markdown",
      "source": [
        "これによって、ColabTurtleライブラリに入っている関数を使用できるようになった。"
      ],
      "metadata": {
        "id": "NqfUaKYvvbUO"
      }
    },
    {
      "cell_type": "markdown",
      "source": [
        "## 3 Turtleを使った描画の基本\n",
        "\n",
        "いよいよTurtleを使用していく。  \n",
        "Turtleの関数の使い方は、ライブラリの配布場所で述べられている。  \n",
        "優秀な諸君なら、英語で書いてあっても問題ないと思うので、読み進めて各自やっていただいて構わない。\n",
        "\n",
        "[ColabTurtleの関数の使い方](https://github.com/tolgaatam/ColabTurtle#api)"
      ],
      "metadata": {
        "id": "N5kf3rNAvjbU"
      }
    },
    {
      "cell_type": "markdown",
      "source": [
        "### とりあえず動かしてみる\n",
        "\n",
        "何はともあれ下記コードを動かしてみてほしい。  \n",
        "亀が出現し動く。その軌跡が図形を描く。"
      ],
      "metadata": {
        "id": "niqMzT_IzZgv"
      }
    },
    {
      "cell_type": "markdown",
      "source": [
        "#### 例3-1\n",
        "\n",
        "Turtleにある3種類の関数を使用し、「のような図形を書いている。"
      ],
      "metadata": {
        "id": "evirJd762CRo"
      }
    },
    {
      "cell_type": "code",
      "source": [
        "initializeTurtle() # カメを初期化\n",
        "forward(100) # カメを前に100px進める\n",
        "right(90) # カメを右に90°回転\n",
        "forward(100) # カメを前に100px進める"
      ],
      "metadata": {
        "colab": {
          "base_uri": "https://localhost:8080/",
          "height": 521
        },
        "id": "3FHnq4KLxnlf",
        "outputId": "b9dd033a-af5c-4be0-d745-40130ae45b2a"
      },
      "execution_count": 17,
      "outputs": [
        {
          "output_type": "display_data",
          "data": {
            "text/plain": [
              "<IPython.core.display.HTML object>"
            ],
            "text/html": [
              "\n",
              "      <svg width=\"800\" height=\"500\">\n",
              "        <rect width=\"100%\" height=\"100%\" fill=\"black\"/>\n",
              "        <line x1=\"400\" y1=\"250\" x2=\"400.0\" y2=\"150.0\" stroke-linecap=\"round\" style=\"stroke:white;stroke-width:4\"/><line x1=\"400.0\" y1=\"150.0\" x2=\"500.0\" y2=\"150.0\" stroke-linecap=\"round\" style=\"stroke:white;stroke-width:4\"/>\n",
              "        <g visibility=visible transform=\"rotate(90,500.0,150.0) translate(482.0, 132.0)\">\n",
              "<path style=\" stroke:none;fill-rule:evenodd;fill:white;fill-opacity:1;\" d=\"M 18.214844 0.632812 C 16.109375 1.800781 15.011719 4.074219 15.074219 7.132812 L 15.085938 7.652344 L 14.785156 7.496094 C 13.476562 6.824219 11.957031 6.671875 10.40625 7.066406 C 8.46875 7.550781 6.515625 9.15625 4.394531 11.992188 C 3.0625 13.777344 2.679688 14.636719 3.042969 15.027344 L 3.15625 15.152344 L 3.519531 15.152344 C 4.238281 15.152344 4.828125 14.886719 8.1875 13.039062 C 9.386719 12.378906 10.371094 11.839844 10.378906 11.839844 C 10.386719 11.839844 10.355469 11.929688 10.304688 12.035156 C 9.832031 13.09375 9.257812 14.820312 8.96875 16.078125 C 7.914062 20.652344 8.617188 24.53125 11.070312 27.660156 C 11.351562 28.015625 11.363281 27.914062 10.972656 28.382812 C 8.925781 30.84375 7.945312 33.28125 8.238281 35.1875 C 8.289062 35.527344 8.28125 35.523438 8.917969 35.523438 C 10.941406 35.523438 13.074219 34.207031 15.136719 31.6875 C 15.359375 31.417969 15.328125 31.425781 15.5625 31.574219 C 16.292969 32.042969 18.023438 32.964844 18.175781 32.964844 C 18.335938 32.964844 19.941406 32.210938 20.828125 31.71875 C 20.996094 31.625 21.136719 31.554688 21.136719 31.558594 C 21.203125 31.664062 21.898438 32.414062 22.222656 32.730469 C 23.835938 34.300781 25.5625 35.132812 27.582031 35.300781 C 27.90625 35.328125 27.9375 35.308594 28.007812 34.984375 C 28.382812 33.242188 27.625 30.925781 25.863281 28.425781 L 25.542969 27.96875 L 25.699219 27.785156 C 28.945312 23.960938 29.132812 18.699219 26.257812 11.96875 L 26.207031 11.84375 L 27.945312 12.703125 C 31.53125 14.476562 32.316406 14.800781 33.03125 14.800781 C 33.976562 14.800781 33.78125 13.9375 32.472656 12.292969 C 28.519531 7.355469 25.394531 5.925781 21.921875 7.472656 L 21.558594 7.636719 L 21.578125 7.542969 C 21.699219 6.992188 21.761719 5.742188 21.699219 5.164062 C 21.496094 3.296875 20.664062 1.964844 19.003906 0.855469 C 18.480469 0.503906 18.457031 0.5 18.214844 0.632812\"/>\n",
              "</g>\n",
              "      </svg>\n",
              "    "
            ]
          },
          "metadata": {}
        }
      ]
    },
    {
      "cell_type": "markdown",
      "source": [
        "#### 解説\n",
        "\n",
        "Turtleの関数にはカメを動かしたり、色を変えたりする機能がある。  \n",
        "[ColabTurtleの関数の使い方](https://github.com/tolgaatam/ColabTurtle#api)にそれぞれの使い方が書いてあるため、各自読んで自由に動かしてみてほしい。  \n",
        "\n",
        "`initializeTurtle()`が特殊な関数であり、これを呼び出すとカメを描画しているウインドウを初期化する。  \n",
        "この関数が呼ばれなければ、前の軌跡やカメの位置などが保存されている。"
      ],
      "metadata": {
        "id": "XMF2Qsfa2xAc"
      }
    },
    {
      "cell_type": "markdown",
      "source": [
        "#### 練習問題3-a\n",
        "\n",
        "ウインドウを初期化し、軌跡で三角形を描画してみよう。  \n",
        "辺の長さや、どんな三角形かは問わない。  \n",
        "\n",
        "ヒント: 正三角形を書くのが簡単。正三角形の角度は？"
      ],
      "metadata": {
        "id": "-3aNjwpU8-Y2"
      }
    },
    {
      "cell_type": "code",
      "source": [
        "# 練習問題3-a\n",
        "initializeTurtle()\n",
        "forward(100)\n",
        "right(120)\n",
        "forward(100)\n",
        "right(120)\n",
        "forward(100)\n"
      ],
      "metadata": {
        "colab": {
          "base_uri": "https://localhost:8080/",
          "height": 521
        },
        "id": "NDJ_Yj3P8yXI",
        "outputId": "72c80261-ae76-4139-c792-fac67486f428"
      },
      "execution_count": 24,
      "outputs": [
        {
          "output_type": "display_data",
          "data": {
            "text/plain": [
              "<IPython.core.display.HTML object>"
            ],
            "text/html": [
              "\n",
              "      <svg width=\"800\" height=\"500\">\n",
              "        <rect width=\"100%\" height=\"100%\" fill=\"black\"/>\n",
              "        <line x1=\"400\" y1=\"250\" x2=\"400.0\" y2=\"150.0\" stroke-linecap=\"round\" style=\"stroke:white;stroke-width:4\"/><line x1=\"400.0\" y1=\"150.0\" x2=\"486.603\" y2=\"200.0\" stroke-linecap=\"round\" style=\"stroke:white;stroke-width:4\"/><line x1=\"486.603\" y1=\"200.0\" x2=\"400.0\" y2=\"250.0\" stroke-linecap=\"round\" style=\"stroke:white;stroke-width:4\"/>\n",
              "        <g visibility=visible transform=\"rotate(240,400.0,250.0) translate(382.0, 232.0)\">\n",
              "<path style=\" stroke:none;fill-rule:evenodd;fill:white;fill-opacity:1;\" d=\"M 18.214844 0.632812 C 16.109375 1.800781 15.011719 4.074219 15.074219 7.132812 L 15.085938 7.652344 L 14.785156 7.496094 C 13.476562 6.824219 11.957031 6.671875 10.40625 7.066406 C 8.46875 7.550781 6.515625 9.15625 4.394531 11.992188 C 3.0625 13.777344 2.679688 14.636719 3.042969 15.027344 L 3.15625 15.152344 L 3.519531 15.152344 C 4.238281 15.152344 4.828125 14.886719 8.1875 13.039062 C 9.386719 12.378906 10.371094 11.839844 10.378906 11.839844 C 10.386719 11.839844 10.355469 11.929688 10.304688 12.035156 C 9.832031 13.09375 9.257812 14.820312 8.96875 16.078125 C 7.914062 20.652344 8.617188 24.53125 11.070312 27.660156 C 11.351562 28.015625 11.363281 27.914062 10.972656 28.382812 C 8.925781 30.84375 7.945312 33.28125 8.238281 35.1875 C 8.289062 35.527344 8.28125 35.523438 8.917969 35.523438 C 10.941406 35.523438 13.074219 34.207031 15.136719 31.6875 C 15.359375 31.417969 15.328125 31.425781 15.5625 31.574219 C 16.292969 32.042969 18.023438 32.964844 18.175781 32.964844 C 18.335938 32.964844 19.941406 32.210938 20.828125 31.71875 C 20.996094 31.625 21.136719 31.554688 21.136719 31.558594 C 21.203125 31.664062 21.898438 32.414062 22.222656 32.730469 C 23.835938 34.300781 25.5625 35.132812 27.582031 35.300781 C 27.90625 35.328125 27.9375 35.308594 28.007812 34.984375 C 28.382812 33.242188 27.625 30.925781 25.863281 28.425781 L 25.542969 27.96875 L 25.699219 27.785156 C 28.945312 23.960938 29.132812 18.699219 26.257812 11.96875 L 26.207031 11.84375 L 27.945312 12.703125 C 31.53125 14.476562 32.316406 14.800781 33.03125 14.800781 C 33.976562 14.800781 33.78125 13.9375 32.472656 12.292969 C 28.519531 7.355469 25.394531 5.925781 21.921875 7.472656 L 21.558594 7.636719 L 21.578125 7.542969 C 21.699219 6.992188 21.761719 5.742188 21.699219 5.164062 C 21.496094 3.296875 20.664062 1.964844 19.003906 0.855469 C 18.480469 0.503906 18.457031 0.5 18.214844 0.632812\"/>\n",
              "</g>\n",
              "      </svg>\n",
              "    "
            ]
          },
          "metadata": {}
        }
      ]
    },
    {
      "cell_type": "markdown",
      "source": [
        "#### 発展問題3-α\n",
        "\n",
        "`right()`, `left()`, `forward()`以外に5つの関数を用い、自由に描画してみよう。\n",
        "\n",
        "ヒント: いくつかの有用そうな関数を示す。発展問題ではこれ以外の関数も使った独自性のある図形を期待する。  \n",
        "\n",
        "`color(r,g,b)`: カメとペンの色を変える。色はRGB表記で入力する。色は[こういったサイト](https://itsakura.com/html-color-codes#s4)で確かめられる  \n",
        "\n",
        "`goto(x,y)`: カメを指定したx,y座標に移動させる。軌跡は描かれる。  \n",
        "x,y座標は下記のようになっている。\n",
        "\n",
        "```\n",
        "   |               x\n",
        "---+------------------->\n",
        "   |\n",
        "   |\n",
        "   |\n",
        "   |\n",
        "   |\n",
        "y ∨\n"
      ],
      "metadata": {
        "id": "-8BvOe2h2bDv"
      }
    },
    {
      "cell_type": "code",
      "source": [
        "# 発展問題3-α\n"
      ],
      "metadata": {
        "id": "yn6GyoZJ-mwr"
      },
      "execution_count": null,
      "outputs": []
    },
    {
      "cell_type": "markdown",
      "source": [
        "## 授業情報\n",
        "作者 :   \n",
        "菅原 太樹 (Github : [@taikis](https://github.com/taikis))  \n",
        "\n",
        "\n",
        "本Jupyterファイルを含む講義資料は、[GitHub](https://github.com/taikis/introducting-python)で公開している。\n",
        "\n",
        "本教材には[ColabTurtle](https://github.com/tolgaatam/ColabTurtle) ©︎2018 Tolga Atam\n",
        "を使用した。"
      ],
      "metadata": {
        "id": "Sf6p2eHxrwoE"
      }
    }
  ]
}