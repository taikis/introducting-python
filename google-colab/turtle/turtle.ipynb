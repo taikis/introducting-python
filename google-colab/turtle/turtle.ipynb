{
  "nbformat": 4,
  "nbformat_minor": 0,
  "metadata": {
    "colab": {
      "provenance": [],
      "collapsed_sections": [
        "IoD6kV6ap9XV"
      ],
      "toc_visible": true,
      "authorship_tag": "ABX9TyMriZnH/hPAw34Wp6IGhts8"
    },
    "kernelspec": {
      "name": "python3",
      "display_name": "Python 3"
    },
    "language_info": {
      "name": "python"
    }
  },
  "cells": [
    {
      "cell_type": "markdown",
      "source": [
        "<a href=\"https://colab.research.google.com/github/taikis/introducting-python/blob/main/google-colab/turtle/turtle.ipynb\" target=\"_parent\"><img src=\"https://colab.research.google.com/assets/colab-badge.svg\" alt=\"Open In Colab\"/></a>"
      ],
      "metadata": {
        "id": "Guk6_NnryCAg"
      }
    },
    {
      "cell_type": "markdown",
      "source": [
        "# Python入門\n",
        "\n",
        "*Turtleで視覚的にわかる、構文の基礎*\n",
        "\n",
        "亀って可愛いですよね🐢  \n",
        "そんな亀さんを自由自在に操れたら嬉しいはずです。  \n",
        "\n",
        "今回は大学の授業や研究でよく使われるPythonというプログラミング言語を用い、亀を動かしその軌跡で絵を描いていこうと思います。"
      ],
      "metadata": {
        "id": "yA3nxA7O0bS8"
      }
    },
    {
      "cell_type": "markdown",
      "source": [
        "## 1 Pythonの基礎\n"
      ],
      "metadata": {
        "id": "Nb0prBvV32sj"
      }
    },
    {
      "cell_type": "markdown",
      "source": [
        "### テキストの出力\n",
        "\n",
        "`print(\"出力したい文字\")`で出力することができる"
      ],
      "metadata": {
        "id": "o29WHlmsjSOB"
      }
    },
    {
      "cell_type": "markdown",
      "source": [
        "#### 例1-1\n",
        "↓ここをクリックすることで実行できる"
      ],
      "metadata": {
        "id": "1QKwGrNHjy_X"
      }
    },
    {
      "cell_type": "code",
      "source": [
        "print(\"こんにちはPython\")"
      ],
      "metadata": {
        "id": "EogXUTrpjyL4"
      },
      "execution_count": null,
      "outputs": []
    },
    {
      "cell_type": "markdown",
      "source": [
        "#### 解説\n",
        "\n",
        "`print()`は、文字を出力するための**関数**である。  \n",
        "Pythonにはさまざまな関数が存在し、関数を介してさまざまな機能を用いることができる。  "
      ],
      "metadata": {
        "id": "lUqTcWbjkUpc"
      }
    },
    {
      "cell_type": "markdown",
      "source": [
        "#### 練習問題1-a\n",
        "\n",
        "自分の好きな食べ物を出力してみよう"
      ],
      "metadata": {
        "id": "ils9r6yYkCTQ"
      }
    },
    {
      "cell_type": "code",
      "source": [
        "# 練習問題1-1をここに書く\n"
      ],
      "metadata": {
        "id": "3JTSFTESkBd4"
      },
      "execution_count": null,
      "outputs": []
    },
    {
      "cell_type": "markdown",
      "source": [
        "### 数値の扱い\n",
        "\n",
        "文字列を出力する際にはダブルクオーテーション(`\"\"`)を使用した。  \n",
        "ダブルクオーテーションを使用せず、数字をそのまま入れることによって数値を出力することができる。"
      ],
      "metadata": {
        "id": "AjHXmwN-mGtJ"
      }
    },
    {
      "cell_type": "markdown",
      "source": [
        "#### 例1-2\n",
        "\n",
        "1行目の例では、数値として`1`を出力している。  \n",
        "2行目では、`\"\"`をつけているため、文字列として出力している。  \n",
        "\n",
        "一見すると同じように見えるが、後ほど違いを解説する。"
      ],
      "metadata": {
        "id": "mmZVpcISmyi5"
      }
    },
    {
      "cell_type": "code",
      "source": [
        "print(1) # 数値としての出力\n",
        "print(\"1\") # 文字列としての出力"
      ],
      "metadata": {
        "id": "4nTfFleOnmu0"
      },
      "execution_count": null,
      "outputs": []
    },
    {
      "cell_type": "markdown",
      "source": [
        "#### 例1-3\n",
        "\n",
        "下記の例では、四則演算を使用している。  \n",
        "例1-2で、数値としての出力と文字列としての出力を区別したのは、演算ができるかできないかが変わるためである。\n",
        "\n",
        "四則演算は、下記の演算子によって計算することができる。\n",
        "\n",
        "\n",
        "| 記号 | 意味|\n",
        "|----|-----|\n",
        "| `+` | 加算|\n",
        "| `-` | 減算|\n",
        "| `*`| 乗算|\n",
        "| `/` | 除算|\n",
        "| `%`| 剰余|\n",
        "| `**` | べき乗|\n",
        "| `()` | カッコ |"
      ],
      "metadata": {
        "id": "usexHBZPnwWG"
      }
    },
    {
      "cell_type": "code",
      "source": [
        "print(1 + 1) # 計算されて2が出力される\n",
        "print(\"1\" + \"1\") # 文字列なので、単に連結されて11が出力される\n",
        "\n",
        "print(33 ** 2 % 7)"
      ],
      "metadata": {
        "colab": {
          "base_uri": "https://localhost:8080/"
        },
        "id": "ZVWah8z4oMm-",
        "outputId": "dbbb41c7-651f-4db6-d153-70d25703ecab"
      },
      "execution_count": 3,
      "outputs": [
        {
          "output_type": "stream",
          "name": "stdout",
          "text": [
            "2\n",
            "11\n",
            "4\n"
          ]
        }
      ]
    },
    {
      "cell_type": "markdown",
      "source": [
        "#### 練習問題1-b\n",
        "\n",
        "それぞれのコメントの下に、それにあった解答を出力するプログラムを書こう\n",
        "\n",
        "**ヒント**  \n",
        "出力は`print`を使うよ"
      ],
      "metadata": {
        "id": "zg2XdEDBpJkL"
      }
    },
    {
      "cell_type": "code",
      "source": [
        "# 40 + 11\n",
        "\n",
        "# 30 - 6\n",
        "\n",
        "# 33 × 5\n",
        "\n",
        "# 20 ÷ 3\n",
        "\n",
        "# 25 の 11乗\n"
      ],
      "metadata": {
        "id": "wRK9Av4spUBg"
      },
      "execution_count": null,
      "outputs": []
    },
    {
      "cell_type": "markdown",
      "source": [
        "#### 発展問題1-α\n",
        "\n",
        "\n",
        "ある日の気温が20℃であるとして、それを華氏(°F)で表すプログラムを作ってみよう\n",
        "\n",
        "**ヒント1**  \n",
        "摂氏(℃)から華氏(°F)への変換式は  \n",
        "$$\n",
        "華氏温度 = 摂氏温度 \\times 1.8 + 32\n",
        "$$\n",
        "\n",
        "**ヒント2**  \n",
        "数学と同じように一つの式に記号を連ねることが可能"
      ],
      "metadata": {
        "id": "TGB8nKTxptKv"
      }
    },
    {
      "cell_type": "code",
      "source": [
        "# 発展問題1-αの答え↓\n"
      ],
      "metadata": {
        "id": "QJnjQrWwp5CV"
      },
      "execution_count": null,
      "outputs": []
    },
    {
      "cell_type": "markdown",
      "source": [
        "### 変数\n",
        "\n",
        "一度書いた文字や、すでに計算した数値をもう一度書くのは効率が悪い。  \n",
        "そのため、Pythonをはじめとする多くのプログラミング言語には**変数**というものが存在する。\n",
        "\n",
        "変数は箱のようなもので、プログラマが自由に作ることができる。\n",
        "\n",
        "```\n",
        "変数名(任意)　= 入れたい値\n",
        "```\n",
        "\n",
        "ここでいう`=`は、数学的な等号の意味ではなく、**代入する**という意味になる。\n",
        "\n",
        "また、変数はそのまま`print()`関数の中に入れることで、出力できる。"
      ],
      "metadata": {
        "id": "vPdxqv2mKdEy"
      }
    },
    {
      "cell_type": "markdown",
      "source": [
        "#### 例1-4"
      ],
      "metadata": {
        "id": "twlLxQWQLJV3"
      }
    },
    {
      "cell_type": "code",
      "source": [
        "my_name = \"Taiki Sugawara\"\n",
        "print(my_name)\n",
        "\n",
        "my_age = 18 + 4\n",
        "print(my_age)\n",
        "\n",
        "print(my_name + \"の年齢は\" + str(my_age) + \"です。\")"
      ],
      "metadata": {
        "colab": {
          "base_uri": "https://localhost:8080/"
        },
        "id": "GT71tGDkLIuT",
        "outputId": "4ed140fd-4435-4061-c123-4cab3de2e69d"
      },
      "execution_count": 29,
      "outputs": [
        {
          "output_type": "stream",
          "name": "stdout",
          "text": [
            "Taiki Sugawara\n",
            "22\n",
            "Taiki Sugawaraの年齢は22です。\n"
          ]
        }
      ]
    },
    {
      "cell_type": "markdown",
      "source": [
        "#### 解説\n",
        "\n",
        "先ほど`\"\"`で囲った場合、文字列になった。囲わない場合は変数として扱われる。  "
      ],
      "metadata": {
        "id": "n4ggPZHgNy6S"
      }
    },
    {
      "cell_type": "markdown",
      "source": [
        "#### 練習問題1-c\n",
        "\n",
        "5世紀、中国の数学者祖 沖之（そ ちゅうし、429年 - 500年）は、円周率を\n",
        "$$\\pi = 355/113$$\n",
        "と定義した。\n",
        "\n",
        "この式を用いて円周率を定義したのちに、それぞれの問題を出力しよう。\n",
        "\n",
        "ヒント: 円周率は一度しか求めない"
      ],
      "metadata": {
        "id": "WEBprOB3L0mZ"
      }
    },
    {
      "cell_type": "code",
      "source": [
        "# 練習問題1-c\n",
        "\n",
        "\n",
        "# 直径2の円の面積\n",
        "\n",
        "# 直径5の球の体積\n",
        "\n",
        "# 直径6の球の表面積\n"
      ],
      "metadata": {
        "id": "If8t_h27NWs0"
      },
      "execution_count": null,
      "outputs": []
    },
    {
      "cell_type": "markdown",
      "source": [
        "## 2 Turtleの準備\n",
        "\n",
        "1章では文字列と数値の出力のみで、味気なかった。  \n",
        "3章以降でTurtleと呼ばれるライブラリを用い、視覚的にプログラミングを理解する。  \n",
        "本章ではそのための準備を行う。理解できなくて差し支えない。\n",
        "\n",
        "※ ライブラリとは、さまざまな機能を持つプログラムを関数などによって簡単に利用できるパックのことである。  "
      ],
      "metadata": {
        "id": "IoD6kV6ap9XV"
      }
    },
    {
      "cell_type": "markdown",
      "source": [
        "### Turtleのインストール\n",
        "\n",
        "ライブラリは他人が書いたプログラムの集まりである。使用するにはプログラムをインストールする必要がある。  \n",
        "インストールには下記のコマンドを使用する。コマンドは1回実行すれば良い。  \n",
        "\n",
        "``` sh\n",
        "pip3 install インストールしたいライブラリの名前\n",
        "```\n",
        "\n",
        "下記コマンドを実行してColabTurtleをインストールしよう。"
      ],
      "metadata": {
        "id": "Eh_LjIk9qvd4"
      }
    },
    {
      "cell_type": "code",
      "source": [
        "!pip3 install ColabTurtle"
      ],
      "metadata": {
        "colab": {
          "base_uri": "https://localhost:8080/"
        },
        "id": "H7OOAxNMs3Ft",
        "outputId": "d4b11086-186d-4060-e514-45d4dcc145cb"
      },
      "execution_count": 2,
      "outputs": [
        {
          "output_type": "stream",
          "name": "stdout",
          "text": [
            "Looking in indexes: https://pypi.org/simple, https://us-python.pkg.dev/colab-wheels/public/simple/\n",
            "Requirement already satisfied: ColabTurtle in /usr/local/lib/python3.8/dist-packages (2.1.0)\n"
          ]
        }
      ]
    },
    {
      "cell_type": "markdown",
      "source": [
        "### Turtleのインポート\n",
        "\n",
        "インストールをするだけではライブラリを使用することはできない。  \n",
        "Pythonプログラムの冒頭で、ライブラリを使うことを明言する必要がある。  \n",
        "\n",
        "下記プログラムを実行し、ColabTurtleをインポートしよう。"
      ],
      "metadata": {
        "id": "IdrEMRRutGea"
      }
    },
    {
      "cell_type": "code",
      "source": [
        "from ColabTurtle.Turtle import *"
      ],
      "metadata": {
        "id": "PY0aI2JJtz88"
      },
      "execution_count": 3,
      "outputs": []
    },
    {
      "cell_type": "markdown",
      "source": [
        "これによって、ColabTurtleライブラリに入っている関数を使用できるようになった。"
      ],
      "metadata": {
        "id": "NqfUaKYvvbUO"
      }
    },
    {
      "cell_type": "markdown",
      "source": [
        "## 3 Turtleを使った描画の基本\n",
        "\n",
        "いよいよTurtleを使用していく。  \n",
        "Turtleの関数の使い方は、ライブラリの配布場所で述べられている。  \n",
        "優秀な諸君なら、英語で書いてあっても問題ないと思うので、読み進めて各自やっていただいて構わない。\n",
        "\n",
        "[ColabTurtleの関数の使い方](https://github.com/tolgaatam/ColabTurtle#api)"
      ],
      "metadata": {
        "id": "N5kf3rNAvjbU"
      }
    },
    {
      "cell_type": "markdown",
      "source": [
        "### とりあえず動かしてみる\n",
        "\n",
        "何はともあれ下記コードを動かしてみてほしい。  \n",
        "亀が出現し動く。その軌跡が図形を描く。"
      ],
      "metadata": {
        "id": "niqMzT_IzZgv"
      }
    },
    {
      "cell_type": "markdown",
      "source": [
        "#### 例3-1\n",
        "\n",
        "Turtleにある3種類の関数を使用し、「のような図形を書いている。"
      ],
      "metadata": {
        "id": "evirJd762CRo"
      }
    },
    {
      "cell_type": "code",
      "source": [
        "initializeTurtle() # カメを初期化\n",
        "forward(100) # カメを前に100px進める\n",
        "right(90) # カメを右に90°回転\n",
        "forward(100) # カメを前に100px進める"
      ],
      "metadata": {
        "colab": {
          "base_uri": "https://localhost:8080/",
          "height": 521
        },
        "id": "3FHnq4KLxnlf",
        "outputId": "fbe62938-274a-4a31-b5ec-3ecdf4939cab"
      },
      "execution_count": 34,
      "outputs": [
        {
          "output_type": "display_data",
          "data": {
            "text/plain": [
              "<IPython.core.display.HTML object>"
            ],
            "text/html": [
              "\n",
              "      <svg width=\"800\" height=\"500\">\n",
              "        <rect width=\"100%\" height=\"100%\" fill=\"black\"/>\n",
              "        <line x1=\"400\" y1=\"250\" x2=\"400.0\" y2=\"150.0\" stroke-linecap=\"round\" style=\"stroke:white;stroke-width:4\"/><line x1=\"400.0\" y1=\"150.0\" x2=\"500.0\" y2=\"150.0\" stroke-linecap=\"round\" style=\"stroke:white;stroke-width:4\"/>\n",
              "        <g visibility=visible transform=\"rotate(90,500.0,150.0) translate(482.0, 132.0)\">\n",
              "<path style=\" stroke:none;fill-rule:evenodd;fill:white;fill-opacity:1;\" d=\"M 18.214844 0.632812 C 16.109375 1.800781 15.011719 4.074219 15.074219 7.132812 L 15.085938 7.652344 L 14.785156 7.496094 C 13.476562 6.824219 11.957031 6.671875 10.40625 7.066406 C 8.46875 7.550781 6.515625 9.15625 4.394531 11.992188 C 3.0625 13.777344 2.679688 14.636719 3.042969 15.027344 L 3.15625 15.152344 L 3.519531 15.152344 C 4.238281 15.152344 4.828125 14.886719 8.1875 13.039062 C 9.386719 12.378906 10.371094 11.839844 10.378906 11.839844 C 10.386719 11.839844 10.355469 11.929688 10.304688 12.035156 C 9.832031 13.09375 9.257812 14.820312 8.96875 16.078125 C 7.914062 20.652344 8.617188 24.53125 11.070312 27.660156 C 11.351562 28.015625 11.363281 27.914062 10.972656 28.382812 C 8.925781 30.84375 7.945312 33.28125 8.238281 35.1875 C 8.289062 35.527344 8.28125 35.523438 8.917969 35.523438 C 10.941406 35.523438 13.074219 34.207031 15.136719 31.6875 C 15.359375 31.417969 15.328125 31.425781 15.5625 31.574219 C 16.292969 32.042969 18.023438 32.964844 18.175781 32.964844 C 18.335938 32.964844 19.941406 32.210938 20.828125 31.71875 C 20.996094 31.625 21.136719 31.554688 21.136719 31.558594 C 21.203125 31.664062 21.898438 32.414062 22.222656 32.730469 C 23.835938 34.300781 25.5625 35.132812 27.582031 35.300781 C 27.90625 35.328125 27.9375 35.308594 28.007812 34.984375 C 28.382812 33.242188 27.625 30.925781 25.863281 28.425781 L 25.542969 27.96875 L 25.699219 27.785156 C 28.945312 23.960938 29.132812 18.699219 26.257812 11.96875 L 26.207031 11.84375 L 27.945312 12.703125 C 31.53125 14.476562 32.316406 14.800781 33.03125 14.800781 C 33.976562 14.800781 33.78125 13.9375 32.472656 12.292969 C 28.519531 7.355469 25.394531 5.925781 21.921875 7.472656 L 21.558594 7.636719 L 21.578125 7.542969 C 21.699219 6.992188 21.761719 5.742188 21.699219 5.164062 C 21.496094 3.296875 20.664062 1.964844 19.003906 0.855469 C 18.480469 0.503906 18.457031 0.5 18.214844 0.632812\"/>\n",
              "</g>\n",
              "      </svg>\n",
              "    "
            ]
          },
          "metadata": {}
        }
      ]
    },
    {
      "cell_type": "markdown",
      "source": [
        "#### 解説\n",
        "\n",
        "Turtleの関数にはカメを動かしたり、色を変えたりする機能がある。  \n",
        "[ColabTurtleの関数の使い方](https://github.com/tolgaatam/ColabTurtle#api)にそれぞれの使い方が書いてあるため、各自読んで自由に動かしてみてほしい。  \n",
        "\n",
        "`initializeTurtle()`が特殊な関数であり、これを呼び出すとカメを描画しているウインドウを初期化する。  \n",
        "この関数が呼ばれなければ、前の軌跡やカメの位置などが保存されている。"
      ],
      "metadata": {
        "id": "XMF2Qsfa2xAc"
      }
    },
    {
      "cell_type": "markdown",
      "source": [
        "#### 練習問題3-a\n",
        "\n",
        "ウインドウを初期化し、軌跡で三角形を描画してみよう。  \n",
        "辺の長さや、どんな三角形かは問わない。  \n",
        "\n",
        "ヒント: 正三角形を書くのが簡単。正三角形の角度は？"
      ],
      "metadata": {
        "id": "-3aNjwpU8-Y2"
      }
    },
    {
      "cell_type": "code",
      "source": [
        "# 練習問題3-a\n",
        "initializeTurtle()\n",
        "forward(100)\n",
        "right(120)\n",
        "forward(100)\n",
        "right(120)\n",
        "forward(100)"
      ],
      "metadata": {
        "colab": {
          "base_uri": "https://localhost:8080/",
          "height": 521
        },
        "id": "NDJ_Yj3P8yXI",
        "outputId": "261d5a70-0e5a-402b-c798-7e9945c07b07"
      },
      "execution_count": 35,
      "outputs": [
        {
          "output_type": "display_data",
          "data": {
            "text/plain": [
              "<IPython.core.display.HTML object>"
            ],
            "text/html": [
              "\n",
              "      <svg width=\"800\" height=\"500\">\n",
              "        <rect width=\"100%\" height=\"100%\" fill=\"black\"/>\n",
              "        <line x1=\"400\" y1=\"250\" x2=\"400.0\" y2=\"150.0\" stroke-linecap=\"round\" style=\"stroke:white;stroke-width:4\"/><line x1=\"400.0\" y1=\"150.0\" x2=\"486.603\" y2=\"200.0\" stroke-linecap=\"round\" style=\"stroke:white;stroke-width:4\"/><line x1=\"486.603\" y1=\"200.0\" x2=\"400.0\" y2=\"250.0\" stroke-linecap=\"round\" style=\"stroke:white;stroke-width:4\"/>\n",
              "        <g visibility=visible transform=\"rotate(240,400.0,250.0) translate(382.0, 232.0)\">\n",
              "<path style=\" stroke:none;fill-rule:evenodd;fill:white;fill-opacity:1;\" d=\"M 18.214844 0.632812 C 16.109375 1.800781 15.011719 4.074219 15.074219 7.132812 L 15.085938 7.652344 L 14.785156 7.496094 C 13.476562 6.824219 11.957031 6.671875 10.40625 7.066406 C 8.46875 7.550781 6.515625 9.15625 4.394531 11.992188 C 3.0625 13.777344 2.679688 14.636719 3.042969 15.027344 L 3.15625 15.152344 L 3.519531 15.152344 C 4.238281 15.152344 4.828125 14.886719 8.1875 13.039062 C 9.386719 12.378906 10.371094 11.839844 10.378906 11.839844 C 10.386719 11.839844 10.355469 11.929688 10.304688 12.035156 C 9.832031 13.09375 9.257812 14.820312 8.96875 16.078125 C 7.914062 20.652344 8.617188 24.53125 11.070312 27.660156 C 11.351562 28.015625 11.363281 27.914062 10.972656 28.382812 C 8.925781 30.84375 7.945312 33.28125 8.238281 35.1875 C 8.289062 35.527344 8.28125 35.523438 8.917969 35.523438 C 10.941406 35.523438 13.074219 34.207031 15.136719 31.6875 C 15.359375 31.417969 15.328125 31.425781 15.5625 31.574219 C 16.292969 32.042969 18.023438 32.964844 18.175781 32.964844 C 18.335938 32.964844 19.941406 32.210938 20.828125 31.71875 C 20.996094 31.625 21.136719 31.554688 21.136719 31.558594 C 21.203125 31.664062 21.898438 32.414062 22.222656 32.730469 C 23.835938 34.300781 25.5625 35.132812 27.582031 35.300781 C 27.90625 35.328125 27.9375 35.308594 28.007812 34.984375 C 28.382812 33.242188 27.625 30.925781 25.863281 28.425781 L 25.542969 27.96875 L 25.699219 27.785156 C 28.945312 23.960938 29.132812 18.699219 26.257812 11.96875 L 26.207031 11.84375 L 27.945312 12.703125 C 31.53125 14.476562 32.316406 14.800781 33.03125 14.800781 C 33.976562 14.800781 33.78125 13.9375 32.472656 12.292969 C 28.519531 7.355469 25.394531 5.925781 21.921875 7.472656 L 21.558594 7.636719 L 21.578125 7.542969 C 21.699219 6.992188 21.761719 5.742188 21.699219 5.164062 C 21.496094 3.296875 20.664062 1.964844 19.003906 0.855469 C 18.480469 0.503906 18.457031 0.5 18.214844 0.632812\"/>\n",
              "</g>\n",
              "      </svg>\n",
              "    "
            ]
          },
          "metadata": {}
        }
      ]
    },
    {
      "cell_type": "markdown",
      "source": [
        "#### 発展問題3-α\n",
        "\n",
        "`right()`, `left()`, `forward()`以外に5つの関数を用い、自由に描画してみよう。\n",
        "\n",
        "ヒント: いくつかの有用そうな関数を示す。発展問題ではこれ以外の関数も使った独自性のある図形を期待する。  \n",
        "\n",
        "`color(r,g,b)`: カメとペンの色を変える。色はRGB表記で入力する。色は[こういったサイト](https://itsakura.com/html-color-codes#s4)で確かめられる  \n",
        "\n",
        "`goto(x,y)`: カメを指定したx,y座標に移動させる。軌跡は描かれる。  \n",
        "x,y座標は下記のようになっている。\n",
        "\n",
        "```\n",
        "   |               x\n",
        "---+------------------->\n",
        "   |\n",
        "   |\n",
        "   |\n",
        "   |\n",
        "   |\n",
        "y ∨\n"
      ],
      "metadata": {
        "id": "-8BvOe2h2bDv"
      }
    },
    {
      "cell_type": "code",
      "source": [
        "# 発展問題3-α\n"
      ],
      "metadata": {
        "id": "yn6GyoZJ-mwr"
      },
      "execution_count": 36,
      "outputs": []
    },
    {
      "cell_type": "markdown",
      "source": [
        "## 4 制御構文\n",
        "\n",
        "一般的にプログラミング言語には、条件分岐や繰り返しを行う制御構文と呼ばれるものが存在する。  \n",
        "Pythonにも制御構文は存在する。  \n",
        "\n",
        "本章では代表的な幾つかの制御構文を用い、より楽しくプログラミングをしよう。"
      ],
      "metadata": {
        "id": "GxUO32oxEQ0M"
      }
    },
    {
      "cell_type": "markdown",
      "source": [
        "### for文\n",
        "\n",
        "cf.) https://docs.python.org/3/reference/compound_stmts.html#the-for-statement\n",
        "\n",
        "`for`は、繰り返し処理をするための制御構文である。  \n",
        "下記のように記述する。\n",
        "\n"
      ],
      "metadata": {
        "id": "X2sD4b0uHXCF"
      }
    },
    {
      "cell_type": "markdown",
      "source": [
        "#### 例4-1"
      ],
      "metadata": {
        "id": "7kola-h5P0zF"
      }
    },
    {
      "cell_type": "code",
      "source": [
        "for i in range(5):\n",
        "    print(i)"
      ],
      "metadata": {
        "colab": {
          "base_uri": "https://localhost:8080/"
        },
        "id": "Nuipa-zkP9oo",
        "outputId": "cdf5c012-7cbb-4e38-c066-893c60f8f8bf"
      },
      "execution_count": 33,
      "outputs": [
        {
          "output_type": "stream",
          "name": "stdout",
          "text": [
            "0\n",
            "1\n",
            "2\n",
            "3\n",
            "4\n"
          ]
        }
      ]
    },
    {
      "cell_type": "markdown",
      "source": [
        "#### 解説\n",
        "\n",
        "`range()`関数は、配列と呼ばれる数値のリストを返す関数である。0から指定した回数カウントアップして出力する。今回は、`[0,1,2,3,4]`が出力される。  \n",
        "forの直後に書かれた変数（今回は`i`）に、リストに入っている数値が順番に入り、その後の処理が実行されていく。  \n",
        "繰り返し対象のプログラムはインデントをつけることに注意すること。"
      ],
      "metadata": {
        "id": "hquQwTkMQWEO"
      }
    },
    {
      "cell_type": "markdown",
      "source": [
        "#### 例4-2\n",
        "\n",
        "for文を使えば、練習問題3-aは簡単にかける\n"
      ],
      "metadata": {
        "id": "s0I__hABSnh5"
      }
    },
    {
      "cell_type": "code",
      "source": [
        "# 練習問題3-a\n",
        "initializeTurtle()\n",
        "for i in range(3):\n",
        "    forward(100)\n",
        "    right(120)"
      ],
      "metadata": {
        "id": "KN5usptGS0s8"
      },
      "execution_count": null,
      "outputs": []
    },
    {
      "cell_type": "markdown",
      "source": [
        "### if文\n",
        "\n",
        "cf.) https://docs.python.org/3/reference/compound_stmts.html#the-if-statement\n",
        "\n",
        "`if`を使うと、条件分岐をすることができる。  \n",
        "先ほどの`for`と組み合わせ、下記のような処理が記述できる。\n"
      ],
      "metadata": {
        "id": "4G0D18eOSWR5"
      }
    },
    {
      "cell_type": "markdown",
      "source": [
        "#### 例4-3"
      ],
      "metadata": {
        "id": "lr_TYR6LT3lK"
      }
    },
    {
      "cell_type": "code",
      "source": [
        "for i in range(5):\n",
        "    if i < 3:\n",
        "        print(str(i) + \"は3より小さい！\")\n",
        "    elif i == 3:\n",
        "        print(\"3です。\")\n",
        "    else:\n",
        "        print(str(i) + \"は3より大きい！\")"
      ],
      "metadata": {
        "colab": {
          "base_uri": "https://localhost:8080/"
        },
        "id": "tTQEDagjT5sI",
        "outputId": "b45800cc-52b4-4541-cd66-d55d0e4e12f9"
      },
      "execution_count": 41,
      "outputs": [
        {
          "output_type": "stream",
          "name": "stdout",
          "text": [
            "0は3より小さい！\n",
            "1は3より小さい！\n",
            "2は3より小さい！\n",
            "3です。\n",
            "4は3より大きい！\n"
          ]
        }
      ]
    },
    {
      "cell_type": "markdown",
      "source": [
        "#### 解説\n",
        "\n",
        "`if`の後に来る文は条件式と呼ばれる。関数が入ることもあれば、今回の例のように比較演算子が入ることもある。\n",
        "\n",
        "| 記号 | 意味|\n",
        "|----|-----|\n",
        "| `==`| 等しい|\n",
        "| `!=` | 等しくない|\n",
        "| `<` | より小さい|\n",
        "| `>` | より大きい|\n",
        "| `<=`| 以下 |\n",
        "| `>=` | 以上|\n",
        "| `and` | かつ|\n",
        "| `or`| または |\n",
        "| `not` | 否定 |\n",
        "\n",
        "`elif`は、直前の`if`の結果が偽であった際に続けて判定される。  \n",
        "`else`は、`if`や`elif`が偽だった時に最終的に実行される。偽だった際に無条件で実行されるため、条件式は書かない。\n"
      ],
      "metadata": {
        "id": "l9Dm7Vn4U4cD"
      }
    },
    {
      "cell_type": "markdown",
      "source": [
        "## 5 Turtleを使った大規模な描画\n",
        "\n",
        "今まで学んだことを活かし、より複雑な図形を作ってみよう。"
      ],
      "metadata": {
        "id": "UkuwMSO5YnF4"
      }
    },
    {
      "cell_type": "markdown",
      "source": [
        "### とにかくコードを書いてみよう\n",
        "\n",
        "# 下記の例は今までの技術を用いたものである。"
      ],
      "metadata": {
        "id": "50KgTQ0IgclC"
      }
    },
    {
      "cell_type": "markdown",
      "source": [
        "#### 例5-1"
      ],
      "metadata": {
        "id": "p6v5rUiNZuOx"
      }
    },
    {
      "cell_type": "code",
      "source": [
        "initializeTurtle()\n",
        "pi = 3.141592653589793\n",
        "speed(10)\n",
        "for size in range(10):\n",
        "    radius = size * 10\n",
        "    penup()\n",
        "    w_width = window_width()\n",
        "    center_position = w_width/2\n",
        "    setx(center_position - radius)\n",
        "    pendown()\n",
        "    for i in range(24):\n",
        "        forward(radius * 2 * pi / 24)\n",
        "        right(15)"
      ],
      "metadata": {
        "colab": {
          "base_uri": "https://localhost:8080/",
          "height": 521
        },
        "id": "3RLI68voZ1JC",
        "outputId": "18a6e330-fe77-4741-a71e-6ed66d0eaeca"
      },
      "execution_count": 58,
      "outputs": [
        {
          "output_type": "display_data",
          "data": {
            "text/plain": [
              "<IPython.core.display.HTML object>"
            ],
            "text/html": [
              "\n",
              "      <svg width=\"800\" height=\"500\">\n",
              "        <rect width=\"100%\" height=\"100%\" fill=\"black\"/>\n",
              "        <line x1=\"400.0\" y1=\"250\" x2=\"400.0\" y2=\"250.0\" stroke-linecap=\"round\" style=\"stroke:white;stroke-width:4\"/><line x1=\"400.0\" y1=\"250.0\" x2=\"400.0\" y2=\"250.0\" stroke-linecap=\"round\" style=\"stroke:white;stroke-width:4\"/><line x1=\"400.0\" y1=\"250.0\" x2=\"400.0\" y2=\"250.0\" stroke-linecap=\"round\" style=\"stroke:white;stroke-width:4\"/><line x1=\"400.0\" y1=\"250.0\" x2=\"400.0\" y2=\"250.0\" stroke-linecap=\"round\" style=\"stroke:white;stroke-width:4\"/><line x1=\"400.0\" y1=\"250.0\" x2=\"400.0\" y2=\"250.0\" stroke-linecap=\"round\" style=\"stroke:white;stroke-width:4\"/><line x1=\"400.0\" y1=\"250.0\" x2=\"400.0\" y2=\"250.0\" stroke-linecap=\"round\" style=\"stroke:white;stroke-width:4\"/><line x1=\"400.0\" y1=\"250.0\" x2=\"400.0\" y2=\"250.0\" stroke-linecap=\"round\" style=\"stroke:white;stroke-width:4\"/><line x1=\"400.0\" y1=\"250.0\" x2=\"400.0\" y2=\"250.0\" stroke-linecap=\"round\" style=\"stroke:white;stroke-width:4\"/><line x1=\"400.0\" y1=\"250.0\" x2=\"400.0\" y2=\"250.0\" stroke-linecap=\"round\" style=\"stroke:white;stroke-width:4\"/><line x1=\"400.0\" y1=\"250.0\" x2=\"400.0\" y2=\"250.0\" stroke-linecap=\"round\" style=\"stroke:white;stroke-width:4\"/><line x1=\"400.0\" y1=\"250.0\" x2=\"400.0\" y2=\"250.0\" stroke-linecap=\"round\" style=\"stroke:white;stroke-width:4\"/><line x1=\"400.0\" y1=\"250.0\" x2=\"400.0\" y2=\"250.0\" stroke-linecap=\"round\" style=\"stroke:white;stroke-width:4\"/><line x1=\"400.0\" y1=\"250.0\" x2=\"400.0\" y2=\"250.0\" stroke-linecap=\"round\" style=\"stroke:white;stroke-width:4\"/><line x1=\"400.0\" y1=\"250.0\" x2=\"400.0\" y2=\"250.0\" stroke-linecap=\"round\" style=\"stroke:white;stroke-width:4\"/><line x1=\"400.0\" y1=\"250.0\" x2=\"400.0\" y2=\"250.0\" stroke-linecap=\"round\" style=\"stroke:white;stroke-width:4\"/><line x1=\"400.0\" y1=\"250.0\" x2=\"400.0\" y2=\"250.0\" stroke-linecap=\"round\" style=\"stroke:white;stroke-width:4\"/><line x1=\"400.0\" y1=\"250.0\" x2=\"400.0\" y2=\"250.0\" stroke-linecap=\"round\" style=\"stroke:white;stroke-width:4\"/><line x1=\"400.0\" y1=\"250.0\" x2=\"400.0\" y2=\"250.0\" stroke-linecap=\"round\" style=\"stroke:white;stroke-width:4\"/><line x1=\"400.0\" y1=\"250.0\" x2=\"400.0\" y2=\"250.0\" stroke-linecap=\"round\" style=\"stroke:white;stroke-width:4\"/><line x1=\"400.0\" y1=\"250.0\" x2=\"400.0\" y2=\"250.0\" stroke-linecap=\"round\" style=\"stroke:white;stroke-width:4\"/><line x1=\"400.0\" y1=\"250.0\" x2=\"400.0\" y2=\"250.0\" stroke-linecap=\"round\" style=\"stroke:white;stroke-width:4\"/><line x1=\"400.0\" y1=\"250.0\" x2=\"400.0\" y2=\"250.0\" stroke-linecap=\"round\" style=\"stroke:white;stroke-width:4\"/><line x1=\"400.0\" y1=\"250.0\" x2=\"400.0\" y2=\"250.0\" stroke-linecap=\"round\" style=\"stroke:white;stroke-width:4\"/><line x1=\"400.0\" y1=\"250.0\" x2=\"400.0\" y2=\"250.0\" stroke-linecap=\"round\" style=\"stroke:white;stroke-width:4\"/><line x1=\"390.0\" y1=\"250.0\" x2=\"390.0\" y2=\"247.382\" stroke-linecap=\"round\" style=\"stroke:white;stroke-width:4\"/><line x1=\"390.0\" y1=\"247.382\" x2=\"390.678\" y2=\"244.853\" stroke-linecap=\"round\" style=\"stroke:white;stroke-width:4\"/><line x1=\"390.678\" y1=\"244.853\" x2=\"391.987\" y2=\"242.586\" stroke-linecap=\"round\" style=\"stroke:white;stroke-width:4\"/><line x1=\"391.987\" y1=\"242.586\" x2=\"393.838\" y2=\"240.735\" stroke-linecap=\"round\" style=\"stroke:white;stroke-width:4\"/><line x1=\"393.838\" y1=\"240.735\" x2=\"396.105\" y2=\"239.426\" stroke-linecap=\"round\" style=\"stroke:white;stroke-width:4\"/><line x1=\"396.105\" y1=\"239.426\" x2=\"398.634\" y2=\"238.748\" stroke-linecap=\"round\" style=\"stroke:white;stroke-width:4\"/><line x1=\"398.634\" y1=\"238.748\" x2=\"401.252\" y2=\"238.748\" stroke-linecap=\"round\" style=\"stroke:white;stroke-width:4\"/><line x1=\"401.252\" y1=\"238.748\" x2=\"403.781\" y2=\"239.426\" stroke-linecap=\"round\" style=\"stroke:white;stroke-width:4\"/><line x1=\"403.781\" y1=\"239.426\" x2=\"406.048\" y2=\"240.735\" stroke-linecap=\"round\" style=\"stroke:white;stroke-width:4\"/><line x1=\"406.048\" y1=\"240.735\" x2=\"407.899\" y2=\"242.586\" stroke-linecap=\"round\" style=\"stroke:white;stroke-width:4\"/><line x1=\"407.899\" y1=\"242.586\" x2=\"409.208\" y2=\"244.853\" stroke-linecap=\"round\" style=\"stroke:white;stroke-width:4\"/><line x1=\"409.208\" y1=\"244.853\" x2=\"409.886\" y2=\"247.382\" stroke-linecap=\"round\" style=\"stroke:white;stroke-width:4\"/><line x1=\"409.886\" y1=\"247.382\" x2=\"409.886\" y2=\"250.0\" stroke-linecap=\"round\" style=\"stroke:white;stroke-width:4\"/><line x1=\"409.886\" y1=\"250.0\" x2=\"409.208\" y2=\"252.529\" stroke-linecap=\"round\" style=\"stroke:white;stroke-width:4\"/><line x1=\"409.208\" y1=\"252.529\" x2=\"407.899\" y2=\"254.796\" stroke-linecap=\"round\" style=\"stroke:white;stroke-width:4\"/><line x1=\"407.899\" y1=\"254.796\" x2=\"406.048\" y2=\"256.647\" stroke-linecap=\"round\" style=\"stroke:white;stroke-width:4\"/><line x1=\"406.048\" y1=\"256.647\" x2=\"403.781\" y2=\"257.956\" stroke-linecap=\"round\" style=\"stroke:white;stroke-width:4\"/><line x1=\"403.781\" y1=\"257.956\" x2=\"401.252\" y2=\"258.634\" stroke-linecap=\"round\" style=\"stroke:white;stroke-width:4\"/><line x1=\"401.252\" y1=\"258.634\" x2=\"398.634\" y2=\"258.634\" stroke-linecap=\"round\" style=\"stroke:white;stroke-width:4\"/><line x1=\"398.634\" y1=\"258.634\" x2=\"396.105\" y2=\"257.956\" stroke-linecap=\"round\" style=\"stroke:white;stroke-width:4\"/><line x1=\"396.105\" y1=\"257.956\" x2=\"393.838\" y2=\"256.647\" stroke-linecap=\"round\" style=\"stroke:white;stroke-width:4\"/><line x1=\"393.838\" y1=\"256.647\" x2=\"391.987\" y2=\"254.796\" stroke-linecap=\"round\" style=\"stroke:white;stroke-width:4\"/><line x1=\"391.987\" y1=\"254.796\" x2=\"390.678\" y2=\"252.529\" stroke-linecap=\"round\" style=\"stroke:white;stroke-width:4\"/><line x1=\"390.678\" y1=\"252.529\" x2=\"390.0\" y2=\"250.0\" stroke-linecap=\"round\" style=\"stroke:white;stroke-width:4\"/><line x1=\"380.0\" y1=\"250.0\" x2=\"380.0\" y2=\"244.764\" stroke-linecap=\"round\" style=\"stroke:white;stroke-width:4\"/><line x1=\"380.0\" y1=\"244.764\" x2=\"381.355\" y2=\"239.706\" stroke-linecap=\"round\" style=\"stroke:white;stroke-width:4\"/><line x1=\"381.355\" y1=\"239.706\" x2=\"383.973\" y2=\"235.172\" stroke-linecap=\"round\" style=\"stroke:white;stroke-width:4\"/><line x1=\"383.973\" y1=\"235.172\" x2=\"387.675\" y2=\"231.47\" stroke-linecap=\"round\" style=\"stroke:white;stroke-width:4\"/><line x1=\"387.675\" y1=\"231.47\" x2=\"392.209\" y2=\"228.852\" stroke-linecap=\"round\" style=\"stroke:white;stroke-width:4\"/><line x1=\"392.209\" y1=\"228.852\" x2=\"397.267\" y2=\"227.497\" stroke-linecap=\"round\" style=\"stroke:white;stroke-width:4\"/><line x1=\"397.267\" y1=\"227.497\" x2=\"402.503\" y2=\"227.497\" stroke-linecap=\"round\" style=\"stroke:white;stroke-width:4\"/><line x1=\"402.503\" y1=\"227.497\" x2=\"407.561\" y2=\"228.852\" stroke-linecap=\"round\" style=\"stroke:white;stroke-width:4\"/><line x1=\"407.561\" y1=\"228.852\" x2=\"412.095\" y2=\"231.47\" stroke-linecap=\"round\" style=\"stroke:white;stroke-width:4\"/><line x1=\"412.095\" y1=\"231.47\" x2=\"415.797\" y2=\"235.172\" stroke-linecap=\"round\" style=\"stroke:white;stroke-width:4\"/><line x1=\"415.797\" y1=\"235.172\" x2=\"418.415\" y2=\"239.706\" stroke-linecap=\"round\" style=\"stroke:white;stroke-width:4\"/><line x1=\"418.415\" y1=\"239.706\" x2=\"419.77\" y2=\"244.764\" stroke-linecap=\"round\" style=\"stroke:white;stroke-width:4\"/><line x1=\"419.77\" y1=\"244.764\" x2=\"419.77\" y2=\"250.0\" stroke-linecap=\"round\" style=\"stroke:white;stroke-width:4\"/><line x1=\"419.77\" y1=\"250.0\" x2=\"418.415\" y2=\"255.058\" stroke-linecap=\"round\" style=\"stroke:white;stroke-width:4\"/><line x1=\"418.415\" y1=\"255.058\" x2=\"415.797\" y2=\"259.592\" stroke-linecap=\"round\" style=\"stroke:white;stroke-width:4\"/><line x1=\"415.797\" y1=\"259.592\" x2=\"412.095\" y2=\"263.294\" stroke-linecap=\"round\" style=\"stroke:white;stroke-width:4\"/><line x1=\"412.095\" y1=\"263.294\" x2=\"407.561\" y2=\"265.912\" stroke-linecap=\"round\" style=\"stroke:white;stroke-width:4\"/><line x1=\"407.561\" y1=\"265.912\" x2=\"402.503\" y2=\"267.267\" stroke-linecap=\"round\" style=\"stroke:white;stroke-width:4\"/><line x1=\"402.503\" y1=\"267.267\" x2=\"397.267\" y2=\"267.267\" stroke-linecap=\"round\" style=\"stroke:white;stroke-width:4\"/><line x1=\"397.267\" y1=\"267.267\" x2=\"392.209\" y2=\"265.912\" stroke-linecap=\"round\" style=\"stroke:white;stroke-width:4\"/><line x1=\"392.209\" y1=\"265.912\" x2=\"387.675\" y2=\"263.294\" stroke-linecap=\"round\" style=\"stroke:white;stroke-width:4\"/><line x1=\"387.675\" y1=\"263.294\" x2=\"383.973\" y2=\"259.592\" stroke-linecap=\"round\" style=\"stroke:white;stroke-width:4\"/><line x1=\"383.973\" y1=\"259.592\" x2=\"381.355\" y2=\"255.058\" stroke-linecap=\"round\" style=\"stroke:white;stroke-width:4\"/><line x1=\"381.355\" y1=\"255.058\" x2=\"380.0\" y2=\"250.0\" stroke-linecap=\"round\" style=\"stroke:white;stroke-width:4\"/><line x1=\"370.0\" y1=\"250.0\" x2=\"370.0\" y2=\"242.146\" stroke-linecap=\"round\" style=\"stroke:white;stroke-width:4\"/><line x1=\"370.0\" y1=\"242.146\" x2=\"372.033\" y2=\"234.56\" stroke-linecap=\"round\" style=\"stroke:white;stroke-width:4\"/><line x1=\"372.033\" y1=\"234.56\" x2=\"375.96\" y2=\"227.758\" stroke-linecap=\"round\" style=\"stroke:white;stroke-width:4\"/><line x1=\"375.96\" y1=\"227.758\" x2=\"381.514\" y2=\"222.204\" stroke-linecap=\"round\" style=\"stroke:white;stroke-width:4\"/><line x1=\"381.514\" y1=\"222.204\" x2=\"388.316\" y2=\"218.277\" stroke-linecap=\"round\" style=\"stroke:white;stroke-width:4\"/><line x1=\"388.316\" y1=\"218.277\" x2=\"395.902\" y2=\"216.244\" stroke-linecap=\"round\" style=\"stroke:white;stroke-width:4\"/><line x1=\"395.902\" y1=\"216.244\" x2=\"403.756\" y2=\"216.244\" stroke-linecap=\"round\" style=\"stroke:white;stroke-width:4\"/><line x1=\"403.756\" y1=\"216.244\" x2=\"411.342\" y2=\"218.277\" stroke-linecap=\"round\" style=\"stroke:white;stroke-width:4\"/><line x1=\"411.342\" y1=\"218.277\" x2=\"418.144\" y2=\"222.204\" stroke-linecap=\"round\" style=\"stroke:white;stroke-width:4\"/><line x1=\"418.144\" y1=\"222.204\" x2=\"423.698\" y2=\"227.758\" stroke-linecap=\"round\" style=\"stroke:white;stroke-width:4\"/><line x1=\"423.698\" y1=\"227.758\" x2=\"427.625\" y2=\"234.56\" stroke-linecap=\"round\" style=\"stroke:white;stroke-width:4\"/><line x1=\"427.625\" y1=\"234.56\" x2=\"429.658\" y2=\"242.146\" stroke-linecap=\"round\" style=\"stroke:white;stroke-width:4\"/><line x1=\"429.658\" y1=\"242.146\" x2=\"429.658\" y2=\"250.0\" stroke-linecap=\"round\" style=\"stroke:white;stroke-width:4\"/><line x1=\"429.658\" y1=\"250.0\" x2=\"427.625\" y2=\"257.586\" stroke-linecap=\"round\" style=\"stroke:white;stroke-width:4\"/><line x1=\"427.625\" y1=\"257.586\" x2=\"423.698\" y2=\"264.388\" stroke-linecap=\"round\" style=\"stroke:white;stroke-width:4\"/><line x1=\"423.698\" y1=\"264.388\" x2=\"418.144\" y2=\"269.942\" stroke-linecap=\"round\" style=\"stroke:white;stroke-width:4\"/><line x1=\"418.144\" y1=\"269.942\" x2=\"411.342\" y2=\"273.869\" stroke-linecap=\"round\" style=\"stroke:white;stroke-width:4\"/><line x1=\"411.342\" y1=\"273.869\" x2=\"403.756\" y2=\"275.902\" stroke-linecap=\"round\" style=\"stroke:white;stroke-width:4\"/><line x1=\"403.756\" y1=\"275.902\" x2=\"395.902\" y2=\"275.902\" stroke-linecap=\"round\" style=\"stroke:white;stroke-width:4\"/><line x1=\"395.902\" y1=\"275.902\" x2=\"388.316\" y2=\"273.869\" stroke-linecap=\"round\" style=\"stroke:white;stroke-width:4\"/><line x1=\"388.316\" y1=\"273.869\" x2=\"381.514\" y2=\"269.942\" stroke-linecap=\"round\" style=\"stroke:white;stroke-width:4\"/><line x1=\"381.514\" y1=\"269.942\" x2=\"375.96\" y2=\"264.388\" stroke-linecap=\"round\" style=\"stroke:white;stroke-width:4\"/><line x1=\"375.96\" y1=\"264.388\" x2=\"372.033\" y2=\"257.586\" stroke-linecap=\"round\" style=\"stroke:white;stroke-width:4\"/><line x1=\"372.033\" y1=\"257.586\" x2=\"370.0\" y2=\"250.0\" stroke-linecap=\"round\" style=\"stroke:white;stroke-width:4\"/><line x1=\"360.0\" y1=\"250.0\" x2=\"360.0\" y2=\"239.528\" stroke-linecap=\"round\" style=\"stroke:white;stroke-width:4\"/><line x1=\"360.0\" y1=\"239.528\" x2=\"362.71\" y2=\"229.413\" stroke-linecap=\"round\" style=\"stroke:white;stroke-width:4\"/><line x1=\"362.71\" y1=\"229.413\" x2=\"367.946\" y2=\"220.344\" stroke-linecap=\"round\" style=\"stroke:white;stroke-width:4\"/><line x1=\"367.946\" y1=\"220.344\" x2=\"375.351\" y2=\"212.939\" stroke-linecap=\"round\" style=\"stroke:white;stroke-width:4\"/><line x1=\"375.351\" y1=\"212.939\" x2=\"384.42\" y2=\"207.703\" stroke-linecap=\"round\" style=\"stroke:white;stroke-width:4\"/><line x1=\"384.42\" y1=\"207.703\" x2=\"394.535\" y2=\"204.993\" stroke-linecap=\"round\" style=\"stroke:white;stroke-width:4\"/><line x1=\"394.535\" y1=\"204.993\" x2=\"405.007\" y2=\"204.993\" stroke-linecap=\"round\" style=\"stroke:white;stroke-width:4\"/><line x1=\"405.007\" y1=\"204.993\" x2=\"415.122\" y2=\"207.703\" stroke-linecap=\"round\" style=\"stroke:white;stroke-width:4\"/><line x1=\"415.122\" y1=\"207.703\" x2=\"424.191\" y2=\"212.939\" stroke-linecap=\"round\" style=\"stroke:white;stroke-width:4\"/><line x1=\"424.191\" y1=\"212.939\" x2=\"431.596\" y2=\"220.344\" stroke-linecap=\"round\" style=\"stroke:white;stroke-width:4\"/><line x1=\"431.596\" y1=\"220.344\" x2=\"436.832\" y2=\"229.413\" stroke-linecap=\"round\" style=\"stroke:white;stroke-width:4\"/><line x1=\"436.832\" y1=\"229.413\" x2=\"439.542\" y2=\"239.528\" stroke-linecap=\"round\" style=\"stroke:white;stroke-width:4\"/><line x1=\"439.542\" y1=\"239.528\" x2=\"439.542\" y2=\"250.0\" stroke-linecap=\"round\" style=\"stroke:white;stroke-width:4\"/><line x1=\"439.542\" y1=\"250.0\" x2=\"436.832\" y2=\"260.115\" stroke-linecap=\"round\" style=\"stroke:white;stroke-width:4\"/><line x1=\"436.832\" y1=\"260.115\" x2=\"431.596\" y2=\"269.184\" stroke-linecap=\"round\" style=\"stroke:white;stroke-width:4\"/><line x1=\"431.596\" y1=\"269.184\" x2=\"424.191\" y2=\"276.589\" stroke-linecap=\"round\" style=\"stroke:white;stroke-width:4\"/><line x1=\"424.191\" y1=\"276.589\" x2=\"415.122\" y2=\"281.825\" stroke-linecap=\"round\" style=\"stroke:white;stroke-width:4\"/><line x1=\"415.122\" y1=\"281.825\" x2=\"405.007\" y2=\"284.535\" stroke-linecap=\"round\" style=\"stroke:white;stroke-width:4\"/><line x1=\"405.007\" y1=\"284.535\" x2=\"394.535\" y2=\"284.535\" stroke-linecap=\"round\" style=\"stroke:white;stroke-width:4\"/><line x1=\"394.535\" y1=\"284.535\" x2=\"384.42\" y2=\"281.825\" stroke-linecap=\"round\" style=\"stroke:white;stroke-width:4\"/><line x1=\"384.42\" y1=\"281.825\" x2=\"375.351\" y2=\"276.589\" stroke-linecap=\"round\" style=\"stroke:white;stroke-width:4\"/><line x1=\"375.351\" y1=\"276.589\" x2=\"367.946\" y2=\"269.184\" stroke-linecap=\"round\" style=\"stroke:white;stroke-width:4\"/><line x1=\"367.946\" y1=\"269.184\" x2=\"362.71\" y2=\"260.115\" stroke-linecap=\"round\" style=\"stroke:white;stroke-width:4\"/><line x1=\"362.71\" y1=\"260.115\" x2=\"360.0\" y2=\"250.0\" stroke-linecap=\"round\" style=\"stroke:white;stroke-width:4\"/><line x1=\"350.0\" y1=\"250.0\" x2=\"350.0\" y2=\"236.91\" stroke-linecap=\"round\" style=\"stroke:white;stroke-width:4\"/><line x1=\"350.0\" y1=\"236.91\" x2=\"353.388\" y2=\"224.266\" stroke-linecap=\"round\" style=\"stroke:white;stroke-width:4\"/><line x1=\"353.388\" y1=\"224.266\" x2=\"359.933\" y2=\"212.93\" stroke-linecap=\"round\" style=\"stroke:white;stroke-width:4\"/><line x1=\"359.933\" y1=\"212.93\" x2=\"369.189\" y2=\"203.674\" stroke-linecap=\"round\" style=\"stroke:white;stroke-width:4\"/><line x1=\"369.189\" y1=\"203.674\" x2=\"380.525\" y2=\"197.129\" stroke-linecap=\"round\" style=\"stroke:white;stroke-width:4\"/><line x1=\"380.525\" y1=\"197.129\" x2=\"393.169\" y2=\"193.741\" stroke-linecap=\"round\" style=\"stroke:white;stroke-width:4\"/><line x1=\"393.169\" y1=\"193.741\" x2=\"406.259\" y2=\"193.741\" stroke-linecap=\"round\" style=\"stroke:white;stroke-width:4\"/><line x1=\"406.259\" y1=\"193.741\" x2=\"418.903\" y2=\"197.129\" stroke-linecap=\"round\" style=\"stroke:white;stroke-width:4\"/><line x1=\"418.903\" y1=\"197.129\" x2=\"430.239\" y2=\"203.674\" stroke-linecap=\"round\" style=\"stroke:white;stroke-width:4\"/><line x1=\"430.239\" y1=\"203.674\" x2=\"439.495\" y2=\"212.93\" stroke-linecap=\"round\" style=\"stroke:white;stroke-width:4\"/><line x1=\"439.495\" y1=\"212.93\" x2=\"446.04\" y2=\"224.266\" stroke-linecap=\"round\" style=\"stroke:white;stroke-width:4\"/><line x1=\"446.04\" y1=\"224.266\" x2=\"449.428\" y2=\"236.91\" stroke-linecap=\"round\" style=\"stroke:white;stroke-width:4\"/><line x1=\"449.428\" y1=\"236.91\" x2=\"449.428\" y2=\"250.0\" stroke-linecap=\"round\" style=\"stroke:white;stroke-width:4\"/><line x1=\"449.428\" y1=\"250.0\" x2=\"446.04\" y2=\"262.644\" stroke-linecap=\"round\" style=\"stroke:white;stroke-width:4\"/><line x1=\"446.04\" y1=\"262.644\" x2=\"439.495\" y2=\"273.98\" stroke-linecap=\"round\" style=\"stroke:white;stroke-width:4\"/><line x1=\"439.495\" y1=\"273.98\" x2=\"430.239\" y2=\"283.236\" stroke-linecap=\"round\" style=\"stroke:white;stroke-width:4\"/><line x1=\"430.239\" y1=\"283.236\" x2=\"418.903\" y2=\"289.781\" stroke-linecap=\"round\" style=\"stroke:white;stroke-width:4\"/><line x1=\"418.903\" y1=\"289.781\" x2=\"406.259\" y2=\"293.169\" stroke-linecap=\"round\" style=\"stroke:white;stroke-width:4\"/><line x1=\"406.259\" y1=\"293.169\" x2=\"393.169\" y2=\"293.169\" stroke-linecap=\"round\" style=\"stroke:white;stroke-width:4\"/><line x1=\"393.169\" y1=\"293.169\" x2=\"380.525\" y2=\"289.781\" stroke-linecap=\"round\" style=\"stroke:white;stroke-width:4\"/><line x1=\"380.525\" y1=\"289.781\" x2=\"369.189\" y2=\"283.236\" stroke-linecap=\"round\" style=\"stroke:white;stroke-width:4\"/><line x1=\"369.189\" y1=\"283.236\" x2=\"359.933\" y2=\"273.98\" stroke-linecap=\"round\" style=\"stroke:white;stroke-width:4\"/><line x1=\"359.933\" y1=\"273.98\" x2=\"353.388\" y2=\"262.644\" stroke-linecap=\"round\" style=\"stroke:white;stroke-width:4\"/><line x1=\"353.388\" y1=\"262.644\" x2=\"350.0\" y2=\"250.0\" stroke-linecap=\"round\" style=\"stroke:white;stroke-width:4\"/><line x1=\"340.0\" y1=\"250.0\" x2=\"340.0\" y2=\"234.292\" stroke-linecap=\"round\" style=\"stroke:white;stroke-width:4\"/><line x1=\"340.0\" y1=\"234.292\" x2=\"344.066\" y2=\"219.119\" stroke-linecap=\"round\" style=\"stroke:white;stroke-width:4\"/><line x1=\"344.066\" y1=\"219.119\" x2=\"351.92\" y2=\"205.516\" stroke-linecap=\"round\" style=\"stroke:white;stroke-width:4\"/><line x1=\"351.92\" y1=\"205.516\" x2=\"363.027\" y2=\"194.409\" stroke-linecap=\"round\" style=\"stroke:white;stroke-width:4\"/><line x1=\"363.027\" y1=\"194.409\" x2=\"376.63\" y2=\"186.555\" stroke-linecap=\"round\" style=\"stroke:white;stroke-width:4\"/><line x1=\"376.63\" y1=\"186.555\" x2=\"391.803\" y2=\"182.489\" stroke-linecap=\"round\" style=\"stroke:white;stroke-width:4\"/><line x1=\"391.803\" y1=\"182.489\" x2=\"407.511\" y2=\"182.489\" stroke-linecap=\"round\" style=\"stroke:white;stroke-width:4\"/><line x1=\"407.511\" y1=\"182.489\" x2=\"422.684\" y2=\"186.555\" stroke-linecap=\"round\" style=\"stroke:white;stroke-width:4\"/><line x1=\"422.684\" y1=\"186.555\" x2=\"436.287\" y2=\"194.409\" stroke-linecap=\"round\" style=\"stroke:white;stroke-width:4\"/><line x1=\"436.287\" y1=\"194.409\" x2=\"447.394\" y2=\"205.516\" stroke-linecap=\"round\" style=\"stroke:white;stroke-width:4\"/><line x1=\"447.394\" y1=\"205.516\" x2=\"455.248\" y2=\"219.119\" stroke-linecap=\"round\" style=\"stroke:white;stroke-width:4\"/><line x1=\"455.248\" y1=\"219.119\" x2=\"459.314\" y2=\"234.292\" stroke-linecap=\"round\" style=\"stroke:white;stroke-width:4\"/><line x1=\"459.314\" y1=\"234.292\" x2=\"459.314\" y2=\"250.0\" stroke-linecap=\"round\" style=\"stroke:white;stroke-width:4\"/><line x1=\"459.314\" y1=\"250.0\" x2=\"455.248\" y2=\"265.173\" stroke-linecap=\"round\" style=\"stroke:white;stroke-width:4\"/><line x1=\"455.248\" y1=\"265.173\" x2=\"447.394\" y2=\"278.776\" stroke-linecap=\"round\" style=\"stroke:white;stroke-width:4\"/><line x1=\"447.394\" y1=\"278.776\" x2=\"436.287\" y2=\"289.883\" stroke-linecap=\"round\" style=\"stroke:white;stroke-width:4\"/><line x1=\"436.287\" y1=\"289.883\" x2=\"422.684\" y2=\"297.737\" stroke-linecap=\"round\" style=\"stroke:white;stroke-width:4\"/><line x1=\"422.684\" y1=\"297.737\" x2=\"407.511\" y2=\"301.803\" stroke-linecap=\"round\" style=\"stroke:white;stroke-width:4\"/><line x1=\"407.511\" y1=\"301.803\" x2=\"391.803\" y2=\"301.803\" stroke-linecap=\"round\" style=\"stroke:white;stroke-width:4\"/><line x1=\"391.803\" y1=\"301.803\" x2=\"376.63\" y2=\"297.737\" stroke-linecap=\"round\" style=\"stroke:white;stroke-width:4\"/><line x1=\"376.63\" y1=\"297.737\" x2=\"363.027\" y2=\"289.883\" stroke-linecap=\"round\" style=\"stroke:white;stroke-width:4\"/><line x1=\"363.027\" y1=\"289.883\" x2=\"351.92\" y2=\"278.776\" stroke-linecap=\"round\" style=\"stroke:white;stroke-width:4\"/><line x1=\"351.92\" y1=\"278.776\" x2=\"344.066\" y2=\"265.173\" stroke-linecap=\"round\" style=\"stroke:white;stroke-width:4\"/><line x1=\"344.066\" y1=\"265.173\" x2=\"340.0\" y2=\"250.0\" stroke-linecap=\"round\" style=\"stroke:white;stroke-width:4\"/><line x1=\"330.0\" y1=\"250.0\" x2=\"330.0\" y2=\"231.674\" stroke-linecap=\"round\" style=\"stroke:white;stroke-width:4\"/><line x1=\"330.0\" y1=\"231.674\" x2=\"334.743\" y2=\"213.972\" stroke-linecap=\"round\" style=\"stroke:white;stroke-width:4\"/><line x1=\"334.743\" y1=\"213.972\" x2=\"343.906\" y2=\"198.101\" stroke-linecap=\"round\" style=\"stroke:white;stroke-width:4\"/><line x1=\"343.906\" y1=\"198.101\" x2=\"356.864\" y2=\"185.143\" stroke-linecap=\"round\" style=\"stroke:white;stroke-width:4\"/><line x1=\"356.864\" y1=\"185.143\" x2=\"372.735\" y2=\"175.98\" stroke-linecap=\"round\" style=\"stroke:white;stroke-width:4\"/><line x1=\"372.735\" y1=\"175.98\" x2=\"390.437\" y2=\"171.237\" stroke-linecap=\"round\" style=\"stroke:white;stroke-width:4\"/><line x1=\"390.437\" y1=\"171.237\" x2=\"408.763\" y2=\"171.237\" stroke-linecap=\"round\" style=\"stroke:white;stroke-width:4\"/><line x1=\"408.763\" y1=\"171.237\" x2=\"426.465\" y2=\"175.98\" stroke-linecap=\"round\" style=\"stroke:white;stroke-width:4\"/><line x1=\"426.465\" y1=\"175.98\" x2=\"442.336\" y2=\"185.143\" stroke-linecap=\"round\" style=\"stroke:white;stroke-width:4\"/><line x1=\"442.336\" y1=\"185.143\" x2=\"455.294\" y2=\"198.101\" stroke-linecap=\"round\" style=\"stroke:white;stroke-width:4\"/><line x1=\"455.294\" y1=\"198.101\" x2=\"464.457\" y2=\"213.972\" stroke-linecap=\"round\" style=\"stroke:white;stroke-width:4\"/><line x1=\"464.457\" y1=\"213.972\" x2=\"469.2\" y2=\"231.674\" stroke-linecap=\"round\" style=\"stroke:white;stroke-width:4\"/><line x1=\"469.2\" y1=\"231.674\" x2=\"469.2\" y2=\"250.0\" stroke-linecap=\"round\" style=\"stroke:white;stroke-width:4\"/><line x1=\"469.2\" y1=\"250.0\" x2=\"464.457\" y2=\"267.702\" stroke-linecap=\"round\" style=\"stroke:white;stroke-width:4\"/><line x1=\"464.457\" y1=\"267.702\" x2=\"455.294\" y2=\"283.573\" stroke-linecap=\"round\" style=\"stroke:white;stroke-width:4\"/><line x1=\"455.294\" y1=\"283.573\" x2=\"442.336\" y2=\"296.531\" stroke-linecap=\"round\" style=\"stroke:white;stroke-width:4\"/><line x1=\"442.336\" y1=\"296.531\" x2=\"426.465\" y2=\"305.694\" stroke-linecap=\"round\" style=\"stroke:white;stroke-width:4\"/><line x1=\"426.465\" y1=\"305.694\" x2=\"408.763\" y2=\"310.437\" stroke-linecap=\"round\" style=\"stroke:white;stroke-width:4\"/><line x1=\"408.763\" y1=\"310.437\" x2=\"390.437\" y2=\"310.437\" stroke-linecap=\"round\" style=\"stroke:white;stroke-width:4\"/><line x1=\"390.437\" y1=\"310.437\" x2=\"372.735\" y2=\"305.694\" stroke-linecap=\"round\" style=\"stroke:white;stroke-width:4\"/><line x1=\"372.735\" y1=\"305.694\" x2=\"356.864\" y2=\"296.531\" stroke-linecap=\"round\" style=\"stroke:white;stroke-width:4\"/><line x1=\"356.864\" y1=\"296.531\" x2=\"343.906\" y2=\"283.573\" stroke-linecap=\"round\" style=\"stroke:white;stroke-width:4\"/><line x1=\"343.906\" y1=\"283.573\" x2=\"334.743\" y2=\"267.702\" stroke-linecap=\"round\" style=\"stroke:white;stroke-width:4\"/><line x1=\"334.743\" y1=\"267.702\" x2=\"330.0\" y2=\"250.0\" stroke-linecap=\"round\" style=\"stroke:white;stroke-width:4\"/><line x1=\"320.0\" y1=\"250.0\" x2=\"320.0\" y2=\"229.056\" stroke-linecap=\"round\" style=\"stroke:white;stroke-width:4\"/><line x1=\"320.0\" y1=\"229.056\" x2=\"325.421\" y2=\"208.826\" stroke-linecap=\"round\" style=\"stroke:white;stroke-width:4\"/><line x1=\"325.421\" y1=\"208.826\" x2=\"335.893\" y2=\"190.688\" stroke-linecap=\"round\" style=\"stroke:white;stroke-width:4\"/><line x1=\"335.893\" y1=\"190.688\" x2=\"350.703\" y2=\"175.878\" stroke-linecap=\"round\" style=\"stroke:white;stroke-width:4\"/><line x1=\"350.703\" y1=\"175.878\" x2=\"368.841\" y2=\"165.406\" stroke-linecap=\"round\" style=\"stroke:white;stroke-width:4\"/><line x1=\"368.841\" y1=\"165.406\" x2=\"389.071\" y2=\"159.985\" stroke-linecap=\"round\" style=\"stroke:white;stroke-width:4\"/><line x1=\"389.071\" y1=\"159.985\" x2=\"410.015\" y2=\"159.985\" stroke-linecap=\"round\" style=\"stroke:white;stroke-width:4\"/><line x1=\"410.015\" y1=\"159.985\" x2=\"430.245\" y2=\"165.406\" stroke-linecap=\"round\" style=\"stroke:white;stroke-width:4\"/><line x1=\"430.245\" y1=\"165.406\" x2=\"448.383\" y2=\"175.878\" stroke-linecap=\"round\" style=\"stroke:white;stroke-width:4\"/><line x1=\"448.383\" y1=\"175.878\" x2=\"463.193\" y2=\"190.688\" stroke-linecap=\"round\" style=\"stroke:white;stroke-width:4\"/><line x1=\"463.193\" y1=\"190.688\" x2=\"473.665\" y2=\"208.826\" stroke-linecap=\"round\" style=\"stroke:white;stroke-width:4\"/><line x1=\"473.665\" y1=\"208.826\" x2=\"479.086\" y2=\"229.056\" stroke-linecap=\"round\" style=\"stroke:white;stroke-width:4\"/><line x1=\"479.086\" y1=\"229.056\" x2=\"479.086\" y2=\"250.0\" stroke-linecap=\"round\" style=\"stroke:white;stroke-width:4\"/><line x1=\"479.086\" y1=\"250.0\" x2=\"473.665\" y2=\"270.23\" stroke-linecap=\"round\" style=\"stroke:white;stroke-width:4\"/><line x1=\"473.665\" y1=\"270.23\" x2=\"463.193\" y2=\"288.368\" stroke-linecap=\"round\" style=\"stroke:white;stroke-width:4\"/><line x1=\"463.193\" y1=\"288.368\" x2=\"448.383\" y2=\"303.178\" stroke-linecap=\"round\" style=\"stroke:white;stroke-width:4\"/><line x1=\"448.383\" y1=\"303.178\" x2=\"430.245\" y2=\"313.65\" stroke-linecap=\"round\" style=\"stroke:white;stroke-width:4\"/><line x1=\"430.245\" y1=\"313.65\" x2=\"410.015\" y2=\"319.071\" stroke-linecap=\"round\" style=\"stroke:white;stroke-width:4\"/><line x1=\"410.015\" y1=\"319.071\" x2=\"389.071\" y2=\"319.071\" stroke-linecap=\"round\" style=\"stroke:white;stroke-width:4\"/><line x1=\"389.071\" y1=\"319.071\" x2=\"368.841\" y2=\"313.65\" stroke-linecap=\"round\" style=\"stroke:white;stroke-width:4\"/><line x1=\"368.841\" y1=\"313.65\" x2=\"350.703\" y2=\"303.178\" stroke-linecap=\"round\" style=\"stroke:white;stroke-width:4\"/><line x1=\"350.703\" y1=\"303.178\" x2=\"335.893\" y2=\"288.368\" stroke-linecap=\"round\" style=\"stroke:white;stroke-width:4\"/><line x1=\"335.893\" y1=\"288.368\" x2=\"325.421\" y2=\"270.23\" stroke-linecap=\"round\" style=\"stroke:white;stroke-width:4\"/><line x1=\"325.421\" y1=\"270.23\" x2=\"320.0\" y2=\"250.0\" stroke-linecap=\"round\" style=\"stroke:white;stroke-width:4\"/><line x1=\"310.0\" y1=\"250.0\" x2=\"310.0\" y2=\"226.438\" stroke-linecap=\"round\" style=\"stroke:white;stroke-width:4\"/><line x1=\"310.0\" y1=\"226.438\" x2=\"316.098\" y2=\"203.679\" stroke-linecap=\"round\" style=\"stroke:white;stroke-width:4\"/><line x1=\"316.098\" y1=\"203.679\" x2=\"327.879\" y2=\"183.274\" stroke-linecap=\"round\" style=\"stroke:white;stroke-width:4\"/><line x1=\"327.879\" y1=\"183.274\" x2=\"344.54\" y2=\"166.613\" stroke-linecap=\"round\" style=\"stroke:white;stroke-width:4\"/><line x1=\"344.54\" y1=\"166.613\" x2=\"364.945\" y2=\"154.832\" stroke-linecap=\"round\" style=\"stroke:white;stroke-width:4\"/><line x1=\"364.945\" y1=\"154.832\" x2=\"387.704\" y2=\"148.734\" stroke-linecap=\"round\" style=\"stroke:white;stroke-width:4\"/><line x1=\"387.704\" y1=\"148.734\" x2=\"411.266\" y2=\"148.734\" stroke-linecap=\"round\" style=\"stroke:white;stroke-width:4\"/><line x1=\"411.266\" y1=\"148.734\" x2=\"434.025\" y2=\"154.832\" stroke-linecap=\"round\" style=\"stroke:white;stroke-width:4\"/><line x1=\"434.025\" y1=\"154.832\" x2=\"454.43\" y2=\"166.613\" stroke-linecap=\"round\" style=\"stroke:white;stroke-width:4\"/><line x1=\"454.43\" y1=\"166.613\" x2=\"471.091\" y2=\"183.274\" stroke-linecap=\"round\" style=\"stroke:white;stroke-width:4\"/><line x1=\"471.091\" y1=\"183.274\" x2=\"482.872\" y2=\"203.679\" stroke-linecap=\"round\" style=\"stroke:white;stroke-width:4\"/><line x1=\"482.872\" y1=\"203.679\" x2=\"488.97\" y2=\"226.438\" stroke-linecap=\"round\" style=\"stroke:white;stroke-width:4\"/><line x1=\"488.97\" y1=\"226.438\" x2=\"488.97\" y2=\"250.0\" stroke-linecap=\"round\" style=\"stroke:white;stroke-width:4\"/><line x1=\"488.97\" y1=\"250.0\" x2=\"482.872\" y2=\"272.759\" stroke-linecap=\"round\" style=\"stroke:white;stroke-width:4\"/><line x1=\"482.872\" y1=\"272.759\" x2=\"471.091\" y2=\"293.164\" stroke-linecap=\"round\" style=\"stroke:white;stroke-width:4\"/><line x1=\"471.091\" y1=\"293.164\" x2=\"454.43\" y2=\"309.825\" stroke-linecap=\"round\" style=\"stroke:white;stroke-width:4\"/><line x1=\"454.43\" y1=\"309.825\" x2=\"434.025\" y2=\"321.606\" stroke-linecap=\"round\" style=\"stroke:white;stroke-width:4\"/><line x1=\"434.025\" y1=\"321.606\" x2=\"411.266\" y2=\"327.704\" stroke-linecap=\"round\" style=\"stroke:white;stroke-width:4\"/><line x1=\"411.266\" y1=\"327.704\" x2=\"387.704\" y2=\"327.704\" stroke-linecap=\"round\" style=\"stroke:white;stroke-width:4\"/><line x1=\"387.704\" y1=\"327.704\" x2=\"364.945\" y2=\"321.606\" stroke-linecap=\"round\" style=\"stroke:white;stroke-width:4\"/><line x1=\"364.945\" y1=\"321.606\" x2=\"344.54\" y2=\"309.825\" stroke-linecap=\"round\" style=\"stroke:white;stroke-width:4\"/><line x1=\"344.54\" y1=\"309.825\" x2=\"327.879\" y2=\"293.164\" stroke-linecap=\"round\" style=\"stroke:white;stroke-width:4\"/><line x1=\"327.879\" y1=\"293.164\" x2=\"316.098\" y2=\"272.759\" stroke-linecap=\"round\" style=\"stroke:white;stroke-width:4\"/><line x1=\"316.098\" y1=\"272.759\" x2=\"310.0\" y2=\"250.0\" stroke-linecap=\"round\" style=\"stroke:white;stroke-width:4\"/>\n",
              "        <g visibility=visible transform=\"rotate(360,310.0,250.0) translate(292.0, 232.0)\">\n",
              "<path style=\" stroke:none;fill-rule:evenodd;fill:white;fill-opacity:1;\" d=\"M 18.214844 0.632812 C 16.109375 1.800781 15.011719 4.074219 15.074219 7.132812 L 15.085938 7.652344 L 14.785156 7.496094 C 13.476562 6.824219 11.957031 6.671875 10.40625 7.066406 C 8.46875 7.550781 6.515625 9.15625 4.394531 11.992188 C 3.0625 13.777344 2.679688 14.636719 3.042969 15.027344 L 3.15625 15.152344 L 3.519531 15.152344 C 4.238281 15.152344 4.828125 14.886719 8.1875 13.039062 C 9.386719 12.378906 10.371094 11.839844 10.378906 11.839844 C 10.386719 11.839844 10.355469 11.929688 10.304688 12.035156 C 9.832031 13.09375 9.257812 14.820312 8.96875 16.078125 C 7.914062 20.652344 8.617188 24.53125 11.070312 27.660156 C 11.351562 28.015625 11.363281 27.914062 10.972656 28.382812 C 8.925781 30.84375 7.945312 33.28125 8.238281 35.1875 C 8.289062 35.527344 8.28125 35.523438 8.917969 35.523438 C 10.941406 35.523438 13.074219 34.207031 15.136719 31.6875 C 15.359375 31.417969 15.328125 31.425781 15.5625 31.574219 C 16.292969 32.042969 18.023438 32.964844 18.175781 32.964844 C 18.335938 32.964844 19.941406 32.210938 20.828125 31.71875 C 20.996094 31.625 21.136719 31.554688 21.136719 31.558594 C 21.203125 31.664062 21.898438 32.414062 22.222656 32.730469 C 23.835938 34.300781 25.5625 35.132812 27.582031 35.300781 C 27.90625 35.328125 27.9375 35.308594 28.007812 34.984375 C 28.382812 33.242188 27.625 30.925781 25.863281 28.425781 L 25.542969 27.96875 L 25.699219 27.785156 C 28.945312 23.960938 29.132812 18.699219 26.257812 11.96875 L 26.207031 11.84375 L 27.945312 12.703125 C 31.53125 14.476562 32.316406 14.800781 33.03125 14.800781 C 33.976562 14.800781 33.78125 13.9375 32.472656 12.292969 C 28.519531 7.355469 25.394531 5.925781 21.921875 7.472656 L 21.558594 7.636719 L 21.578125 7.542969 C 21.699219 6.992188 21.761719 5.742188 21.699219 5.164062 C 21.496094 3.296875 20.664062 1.964844 19.003906 0.855469 C 18.480469 0.503906 18.457031 0.5 18.214844 0.632812\"/>\n",
              "</g>\n",
              "      </svg>\n",
              "    "
            ]
          },
          "metadata": {}
        }
      ]
    },
    {
      "cell_type": "markdown",
      "source": [
        "#### 例5-2"
      ],
      "metadata": {
        "id": "ZCFv1oVBgTbb"
      }
    },
    {
      "cell_type": "code",
      "source": [
        "import math\n",
        "initializeTurtle()\n",
        "speed(10)\n",
        "w_width =  window_width() \n",
        "w_height = window_height()\n",
        "step_unit = 200\n",
        "x_unit = w_width / step_unit\n",
        "color_unit = int(255 /step_unit)\n",
        "\n",
        "penup()\n",
        "setx(0)\n",
        "pendown()\n",
        "for step in range(step_unit):\n",
        "    color_num = color_unit * step\n",
        "    if step < step_unit / 2:\n",
        "        color(color_num + 100, 120, 120)\n",
        "    else:\n",
        "        color(0 , color_num, 120)\n",
        "    x = x_unit * step\n",
        "    y= math.sin(x / 20) * 50  + w_height / 2\n",
        "    goto(x,y)\n",
        "    "
      ],
      "metadata": {
        "colab": {
          "base_uri": "https://localhost:8080/",
          "height": 521
        },
        "id": "ODsoYytsgTAk",
        "outputId": "7d1bc5a7-df90-4e7e-9819-ff04604dcdcf"
      },
      "execution_count": 31,
      "outputs": [
        {
          "output_type": "display_data",
          "data": {
            "text/plain": [
              "<IPython.core.display.HTML object>"
            ],
            "text/html": [
              "\n",
              "      <svg width=\"800\" height=\"500\">\n",
              "        <rect width=\"100%\" height=\"100%\" fill=\"black\"/>\n",
              "        <line x1=\"0\" y1=\"250\" x2=\"0.0\" y2=\"250.0\" stroke-linecap=\"round\" style=\"stroke:rgb(100,120,120);stroke-width:4\"/><line x1=\"0.0\" y1=\"250.0\" x2=\"4.0\" y2=\"259.933\" stroke-linecap=\"round\" style=\"stroke:rgb(101,120,120);stroke-width:4\"/><line x1=\"4.0\" y1=\"259.933\" x2=\"8.0\" y2=\"269.471\" stroke-linecap=\"round\" style=\"stroke:rgb(102,120,120);stroke-width:4\"/><line x1=\"8.0\" y1=\"269.471\" x2=\"12.0\" y2=\"278.232\" stroke-linecap=\"round\" style=\"stroke:rgb(103,120,120);stroke-width:4\"/><line x1=\"12.0\" y1=\"278.232\" x2=\"16.0\" y2=\"285.868\" stroke-linecap=\"round\" style=\"stroke:rgb(104,120,120);stroke-width:4\"/><line x1=\"16.0\" y1=\"285.868\" x2=\"20.0\" y2=\"292.074\" stroke-linecap=\"round\" style=\"stroke:rgb(105,120,120);stroke-width:4\"/><line x1=\"20.0\" y1=\"292.074\" x2=\"24.0\" y2=\"296.602\" stroke-linecap=\"round\" style=\"stroke:rgb(106,120,120);stroke-width:4\"/><line x1=\"24.0\" y1=\"296.602\" x2=\"28.0\" y2=\"299.272\" stroke-linecap=\"round\" style=\"stroke:rgb(107,120,120);stroke-width:4\"/><line x1=\"28.0\" y1=\"299.272\" x2=\"32.0\" y2=\"299.979\" stroke-linecap=\"round\" style=\"stroke:rgb(108,120,120);stroke-width:4\"/><line x1=\"32.0\" y1=\"299.979\" x2=\"36.0\" y2=\"298.692\" stroke-linecap=\"round\" style=\"stroke:rgb(109,120,120);stroke-width:4\"/><line x1=\"36.0\" y1=\"298.692\" x2=\"40.0\" y2=\"295.465\" stroke-linecap=\"round\" style=\"stroke:rgb(110,120,120);stroke-width:4\"/><line x1=\"40.0\" y1=\"295.465\" x2=\"44.0\" y2=\"290.425\" stroke-linecap=\"round\" style=\"stroke:rgb(111,120,120);stroke-width:4\"/><line x1=\"44.0\" y1=\"290.425\" x2=\"48.0\" y2=\"283.773\" stroke-linecap=\"round\" style=\"stroke:rgb(112,120,120);stroke-width:4\"/><line x1=\"48.0\" y1=\"283.773\" x2=\"52.0\" y2=\"275.775\" stroke-linecap=\"round\" style=\"stroke:rgb(113,120,120);stroke-width:4\"/><line x1=\"52.0\" y1=\"275.775\" x2=\"56.0\" y2=\"266.749\" stroke-linecap=\"round\" style=\"stroke:rgb(114,120,120);stroke-width:4\"/><line x1=\"56.0\" y1=\"266.749\" x2=\"60.0\" y2=\"257.056\" stroke-linecap=\"round\" style=\"stroke:rgb(115,120,120);stroke-width:4\"/><line x1=\"60.0\" y1=\"257.056\" x2=\"64.0\" y2=\"247.081\" stroke-linecap=\"round\" style=\"stroke:rgb(116,120,120);stroke-width:4\"/><line x1=\"64.0\" y1=\"247.081\" x2=\"68.0\" y2=\"237.223\" stroke-linecap=\"round\" style=\"stroke:rgb(117,120,120);stroke-width:4\"/><line x1=\"68.0\" y1=\"237.223\" x2=\"72.0\" y2=\"227.874\" stroke-linecap=\"round\" style=\"stroke:rgb(118,120,120);stroke-width:4\"/><line x1=\"72.0\" y1=\"227.874\" x2=\"76.0\" y2=\"219.407\" stroke-linecap=\"round\" style=\"stroke:rgb(119,120,120);stroke-width:4\"/><line x1=\"76.0\" y1=\"219.407\" x2=\"80.0\" y2=\"212.16\" stroke-linecap=\"round\" style=\"stroke:rgb(120,120,120);stroke-width:4\"/><line x1=\"80.0\" y1=\"212.16\" x2=\"84.0\" y2=\"206.421\" stroke-linecap=\"round\" style=\"stroke:rgb(121,120,120);stroke-width:4\"/><line x1=\"84.0\" y1=\"206.421\" x2=\"88.0\" y2=\"202.42\" stroke-linecap=\"round\" style=\"stroke:rgb(122,120,120);stroke-width:4\"/><line x1=\"88.0\" y1=\"202.42\" x2=\"92.0\" y2=\"200.315\" stroke-linecap=\"round\" style=\"stroke:rgb(123,120,120);stroke-width:4\"/><line x1=\"92.0\" y1=\"200.315\" x2=\"96.0\" y2=\"200.192\" stroke-linecap=\"round\" style=\"stroke:rgb(124,120,120);stroke-width:4\"/><line x1=\"96.0\" y1=\"200.192\" x2=\"100.0\" y2=\"202.054\" stroke-linecap=\"round\" style=\"stroke:rgb(125,120,120);stroke-width:4\"/><line x1=\"100.0\" y1=\"202.054\" x2=\"104.0\" y2=\"205.827\" stroke-linecap=\"round\" style=\"stroke:rgb(126,120,120);stroke-width:4\"/><line x1=\"104.0\" y1=\"205.827\" x2=\"108.0\" y2=\"211.362\" stroke-linecap=\"round\" style=\"stroke:rgb(127,120,120);stroke-width:4\"/><line x1=\"108.0\" y1=\"211.362\" x2=\"112.0\" y2=\"218.437\" stroke-linecap=\"round\" style=\"stroke:rgb(128,120,120);stroke-width:4\"/><line x1=\"112.0\" y1=\"218.437\" x2=\"116.0\" y2=\"226.77\" stroke-linecap=\"round\" style=\"stroke:rgb(129,120,120);stroke-width:4\"/><line x1=\"116.0\" y1=\"226.77\" x2=\"120.0\" y2=\"236.029\" stroke-linecap=\"round\" style=\"stroke:rgb(130,120,120);stroke-width:4\"/><line x1=\"120.0\" y1=\"236.029\" x2=\"124.0\" y2=\"245.846\" stroke-linecap=\"round\" style=\"stroke:rgb(131,120,120);stroke-width:4\"/><line x1=\"124.0\" y1=\"245.846\" x2=\"128.0\" y2=\"255.827\" stroke-linecap=\"round\" style=\"stroke:rgb(132,120,120);stroke-width:4\"/><line x1=\"128.0\" y1=\"255.827\" x2=\"132.0\" y2=\"265.577\" stroke-linecap=\"round\" style=\"stroke:rgb(133,120,120);stroke-width:4\"/><line x1=\"132.0\" y1=\"265.577\" x2=\"136.0\" y2=\"274.706\" stroke-linecap=\"round\" style=\"stroke:rgb(134,120,120);stroke-width:4\"/><line x1=\"136.0\" y1=\"274.706\" x2=\"140.0\" y2=\"282.849\" stroke-linecap=\"round\" style=\"stroke:rgb(135,120,120);stroke-width:4\"/><line x1=\"140.0\" y1=\"282.849\" x2=\"144.0\" y2=\"289.683\" stroke-linecap=\"round\" style=\"stroke:rgb(136,120,120);stroke-width:4\"/><line x1=\"144.0\" y1=\"289.683\" x2=\"148.0\" y2=\"294.935\" stroke-linecap=\"round\" style=\"stroke:rgb(137,120,120);stroke-width:4\"/><line x1=\"148.0\" y1=\"294.935\" x2=\"152.0\" y2=\"298.396\" stroke-linecap=\"round\" style=\"stroke:rgb(138,120,120);stroke-width:4\"/><line x1=\"152.0\" y1=\"298.396\" x2=\"156.0\" y2=\"299.927\" stroke-linecap=\"round\" style=\"stroke:rgb(139,120,120);stroke-width:4\"/><line x1=\"156.0\" y1=\"299.927\" x2=\"160.0\" y2=\"299.468\" stroke-linecap=\"round\" style=\"stroke:rgb(140,120,120);stroke-width:4\"/><line x1=\"160.0\" y1=\"299.468\" x2=\"164.0\" y2=\"297.037\" stroke-linecap=\"round\" style=\"stroke:rgb(141,120,120);stroke-width:4\"/><line x1=\"164.0\" y1=\"297.037\" x2=\"168.0\" y2=\"292.73\" stroke-linecap=\"round\" style=\"stroke:rgb(142,120,120);stroke-width:4\"/><line x1=\"168.0\" y1=\"292.73\" x2=\"172.0\" y2=\"286.72\" stroke-linecap=\"round\" style=\"stroke:rgb(143,120,120);stroke-width:4\"/><line x1=\"172.0\" y1=\"286.72\" x2=\"176.0\" y2=\"279.246\" stroke-linecap=\"round\" style=\"stroke:rgb(144,120,120);stroke-width:4\"/><line x1=\"176.0\" y1=\"279.246\" x2=\"180.0\" y2=\"270.606\" stroke-linecap=\"round\" style=\"stroke:rgb(145,120,120);stroke-width:4\"/><line x1=\"180.0\" y1=\"270.606\" x2=\"184.0\" y2=\"261.144\" stroke-linecap=\"round\" style=\"stroke:rgb(146,120,120);stroke-width:4\"/><line x1=\"184.0\" y1=\"261.144\" x2=\"188.0\" y2=\"251.239\" stroke-linecap=\"round\" style=\"stroke:rgb(147,120,120);stroke-width:4\"/><line x1=\"188.0\" y1=\"251.239\" x2=\"192.0\" y2=\"241.284\" stroke-linecap=\"round\" style=\"stroke:rgb(148,120,120);stroke-width:4\"/><line x1=\"192.0\" y1=\"241.284\" x2=\"196.0\" y2=\"231.676\" stroke-linecap=\"round\" style=\"stroke:rgb(149,120,120);stroke-width:4\"/><line x1=\"196.0\" y1=\"231.676\" x2=\"200.0\" y2=\"222.799\" stroke-linecap=\"round\" style=\"stroke:rgb(150,120,120);stroke-width:4\"/><line x1=\"200.0\" y1=\"222.799\" x2=\"204.0\" y2=\"215.006\" stroke-linecap=\"round\" style=\"stroke:rgb(151,120,120);stroke-width:4\"/><line x1=\"204.0\" y1=\"215.006\" x2=\"208.0\" y2=\"208.609\" stroke-linecap=\"round\" style=\"stroke:rgb(152,120,120);stroke-width:4\"/><line x1=\"208.0\" y1=\"208.609\" x2=\"212.0\" y2=\"203.861\" stroke-linecap=\"round\" style=\"stroke:rgb(153,120,120);stroke-width:4\"/><line x1=\"212.0\" y1=\"203.861\" x2=\"216.0\" y2=\"200.953\" stroke-linecap=\"round\" style=\"stroke:rgb(154,120,120);stroke-width:4\"/><line x1=\"216.0\" y1=\"200.953\" x2=\"220.0\" y2=\"200.0\" stroke-linecap=\"round\" style=\"stroke:rgb(155,120,120);stroke-width:4\"/><line x1=\"220.0\" y1=\"200.0\" x2=\"224.0\" y2=\"201.041\" stroke-linecap=\"round\" style=\"stroke:rgb(156,120,120);stroke-width:4\"/><line x1=\"224.0\" y1=\"201.041\" x2=\"228.0\" y2=\"204.034\" stroke-linecap=\"round\" style=\"stroke:rgb(157,120,120);stroke-width:4\"/><line x1=\"228.0\" y1=\"204.034\" x2=\"232.0\" y2=\"208.859\" stroke-linecap=\"round\" style=\"stroke:rgb(158,120,120);stroke-width:4\"/><line x1=\"232.0\" y1=\"208.859\" x2=\"236.0\" y2=\"215.324\" stroke-linecap=\"round\" style=\"stroke:rgb(159,120,120);stroke-width:4\"/><line x1=\"236.0\" y1=\"215.324\" x2=\"240.0\" y2=\"223.171\" stroke-linecap=\"round\" style=\"stroke:rgb(160,120,120);stroke-width:4\"/><line x1=\"240.0\" y1=\"223.171\" x2=\"244.0\" y2=\"232.089\" stroke-linecap=\"round\" style=\"stroke:rgb(161,120,120);stroke-width:4\"/><line x1=\"244.0\" y1=\"232.089\" x2=\"248.0\" y2=\"241.72\" stroke-linecap=\"round\" style=\"stroke:rgb(162,120,120);stroke-width:4\"/><line x1=\"248.0\" y1=\"241.72\" x2=\"252.0\" y2=\"251.681\" stroke-linecap=\"round\" style=\"stroke:rgb(163,120,120);stroke-width:4\"/><line x1=\"252.0\" y1=\"251.681\" x2=\"256.0\" y2=\"261.575\" stroke-linecap=\"round\" style=\"stroke:rgb(164,120,120);stroke-width:4\"/><line x1=\"256.0\" y1=\"261.575\" x2=\"260.0\" y2=\"271.008\" stroke-linecap=\"round\" style=\"stroke:rgb(165,120,120);stroke-width:4\"/><line x1=\"260.0\" y1=\"271.008\" x2=\"264.0\" y2=\"279.604\" stroke-linecap=\"round\" style=\"stroke:rgb(166,120,120);stroke-width:4\"/><line x1=\"264.0\" y1=\"279.604\" x2=\"268.0\" y2=\"287.019\" stroke-linecap=\"round\" style=\"stroke:rgb(167,120,120);stroke-width:4\"/><line x1=\"268.0\" y1=\"287.019\" x2=\"272.0\" y2=\"292.958\" stroke-linecap=\"round\" style=\"stroke:rgb(168,120,120);stroke-width:4\"/><line x1=\"272.0\" y1=\"292.958\" x2=\"276.0\" y2=\"297.185\" stroke-linecap=\"round\" style=\"stroke:rgb(169,120,120);stroke-width:4\"/><line x1=\"276.0\" y1=\"297.185\" x2=\"280.0\" y2=\"299.53\" stroke-linecap=\"round\" style=\"stroke:rgb(170,120,120);stroke-width:4\"/><line x1=\"280.0\" y1=\"299.53\" x2=\"284.0\" y2=\"299.901\" stroke-linecap=\"round\" style=\"stroke:rgb(171,120,120);stroke-width:4\"/><line x1=\"284.0\" y1=\"299.901\" x2=\"288.0\" y2=\"298.283\" stroke-linecap=\"round\" style=\"stroke:rgb(172,120,120);stroke-width:4\"/><line x1=\"288.0\" y1=\"298.283\" x2=\"292.0\" y2=\"294.74\" stroke-linecap=\"round\" style=\"stroke:rgb(173,120,120);stroke-width:4\"/><line x1=\"292.0\" y1=\"294.74\" x2=\"296.0\" y2=\"289.413\" stroke-linecap=\"round\" style=\"stroke:rgb(174,120,120);stroke-width:4\"/><line x1=\"296.0\" y1=\"289.413\" x2=\"300.0\" y2=\"282.514\" stroke-linecap=\"round\" style=\"stroke:rgb(175,120,120);stroke-width:4\"/><line x1=\"300.0\" y1=\"282.514\" x2=\"304.0\" y2=\"274.32\" stroke-linecap=\"round\" style=\"stroke:rgb(176,120,120);stroke-width:4\"/><line x1=\"304.0\" y1=\"274.32\" x2=\"308.0\" y2=\"265.156\" stroke-linecap=\"round\" style=\"stroke:rgb(177,120,120);stroke-width:4\"/><line x1=\"308.0\" y1=\"265.156\" x2=\"312.0\" y2=\"255.388\" stroke-linecap=\"round\" style=\"stroke:rgb(178,120,120);stroke-width:4\"/><line x1=\"312.0\" y1=\"255.388\" x2=\"316.0\" y2=\"245.405\" stroke-linecap=\"round\" style=\"stroke:rgb(179,120,120);stroke-width:4\"/><line x1=\"316.0\" y1=\"245.405\" x2=\"320.0\" y2=\"235.605\" stroke-linecap=\"round\" style=\"stroke:rgb(180,120,120);stroke-width:4\"/><line x1=\"320.0\" y1=\"235.605\" x2=\"324.0\" y2=\"226.379\" stroke-linecap=\"round\" style=\"stroke:rgb(181,120,120);stroke-width:4\"/><line x1=\"324.0\" y1=\"226.379\" x2=\"328.0\" y2=\"218.095\" stroke-linecap=\"round\" style=\"stroke:rgb(182,120,120);stroke-width:4\"/><line x1=\"328.0\" y1=\"218.095\" x2=\"332.0\" y2=\"211.082\" stroke-linecap=\"round\" style=\"stroke:rgb(183,120,120);stroke-width:4\"/><line x1=\"332.0\" y1=\"211.082\" x2=\"336.0\" y2=\"205.622\" stroke-linecap=\"round\" style=\"stroke:rgb(184,120,120);stroke-width:4\"/><line x1=\"336.0\" y1=\"205.622\" x2=\"340.0\" y2=\"201.93\" stroke-linecap=\"round\" style=\"stroke:rgb(185,120,120);stroke-width:4\"/><line x1=\"340.0\" y1=\"201.93\" x2=\"344.0\" y2=\"200.155\" stroke-linecap=\"round\" style=\"stroke:rgb(186,120,120);stroke-width:4\"/><line x1=\"344.0\" y1=\"200.155\" x2=\"348.0\" y2=\"200.367\" stroke-linecap=\"round\" style=\"stroke:rgb(187,120,120);stroke-width:4\"/><line x1=\"348.0\" y1=\"200.367\" x2=\"352.0\" y2=\"202.558\" stroke-linecap=\"round\" style=\"stroke:rgb(188,120,120);stroke-width:4\"/><line x1=\"352.0\" y1=\"202.558\" x2=\"356.0\" y2=\"206.64\" stroke-linecap=\"round\" style=\"stroke:rgb(189,120,120);stroke-width:4\"/><line x1=\"356.0\" y1=\"206.64\" x2=\"360.0\" y2=\"212.451\" stroke-linecap=\"round\" style=\"stroke:rgb(190,120,120);stroke-width:4\"/><line x1=\"360.0\" y1=\"212.451\" x2=\"364.0\" y2=\"219.758\" stroke-linecap=\"round\" style=\"stroke:rgb(191,120,120);stroke-width:4\"/><line x1=\"364.0\" y1=\"219.758\" x2=\"368.0\" y2=\"228.272\" stroke-linecap=\"round\" style=\"stroke:rgb(192,120,120);stroke-width:4\"/><line x1=\"368.0\" y1=\"228.272\" x2=\"372.0\" y2=\"237.651\" stroke-linecap=\"round\" style=\"stroke:rgb(193,120,120);stroke-width:4\"/><line x1=\"372.0\" y1=\"237.651\" x2=\"376.0\" y2=\"247.523\" stroke-linecap=\"round\" style=\"stroke:rgb(194,120,120);stroke-width:4\"/><line x1=\"376.0\" y1=\"247.523\" x2=\"380.0\" y2=\"257.494\" stroke-linecap=\"round\" style=\"stroke:rgb(195,120,120);stroke-width:4\"/><line x1=\"380.0\" y1=\"257.494\" x2=\"384.0\" y2=\"267.166\" stroke-linecap=\"round\" style=\"stroke:rgb(196,120,120);stroke-width:4\"/><line x1=\"384.0\" y1=\"267.166\" x2=\"388.0\" y2=\"276.153\" stroke-linecap=\"round\" style=\"stroke:rgb(197,120,120);stroke-width:4\"/><line x1=\"388.0\" y1=\"276.153\" x2=\"392.0\" y2=\"284.098\" stroke-linecap=\"round\" style=\"stroke:rgb(198,120,120);stroke-width:4\"/><line x1=\"392.0\" y1=\"284.098\" x2=\"396.0\" y2=\"290.684\" stroke-linecap=\"round\" style=\"stroke:rgb(199,120,120);stroke-width:4\"/><line x1=\"396.0\" y1=\"290.684\" x2=\"400.0\" y2=\"295.647\" stroke-linecap=\"round\" style=\"stroke:rgb(0,100,120);stroke-width:4\"/><line x1=\"400.0\" y1=\"295.647\" x2=\"404.0\" y2=\"298.791\" stroke-linecap=\"round\" style=\"stroke:rgb(0,101,120);stroke-width:4\"/><line x1=\"404.0\" y1=\"298.791\" x2=\"408.0\" y2=\"299.99\" stroke-linecap=\"round\" style=\"stroke:rgb(0,102,120);stroke-width:4\"/><line x1=\"408.0\" y1=\"299.99\" x2=\"412.0\" y2=\"299.195\" stroke-linecap=\"round\" style=\"stroke:rgb(0,103,120);stroke-width:4\"/><line x1=\"412.0\" y1=\"299.195\" x2=\"416.0\" y2=\"296.44\" stroke-linecap=\"round\" style=\"stroke:rgb(0,104,120);stroke-width:4\"/><line x1=\"416.0\" y1=\"296.44\" x2=\"420.0\" y2=\"291.833\" stroke-linecap=\"round\" style=\"stroke:rgb(0,105,120);stroke-width:4\"/><line x1=\"420.0\" y1=\"291.833\" x2=\"424.0\" y2=\"285.558\" stroke-linecap=\"round\" style=\"stroke:rgb(0,106,120);stroke-width:4\"/><line x1=\"424.0\" y1=\"285.558\" x2=\"428.0\" y2=\"277.866\" stroke-linecap=\"round\" style=\"stroke:rgb(0,107,120);stroke-width:4\"/><line x1=\"428.0\" y1=\"277.866\" x2=\"432.0\" y2=\"269.063\" stroke-linecap=\"round\" style=\"stroke:rgb(0,108,120);stroke-width:4\"/><line x1=\"432.0\" y1=\"269.063\" x2=\"436.0\" y2=\"259.499\" stroke-linecap=\"round\" style=\"stroke:rgb(0,109,120);stroke-width:4\"/><line x1=\"436.0\" y1=\"259.499\" x2=\"440.0\" y2=\"249.557\" stroke-linecap=\"round\" style=\"stroke:rgb(0,110,120);stroke-width:4\"/><line x1=\"440.0\" y1=\"249.557\" x2=\"444.0\" y2=\"239.633\" stroke-linecap=\"round\" style=\"stroke:rgb(0,111,120);stroke-width:4\"/><line x1=\"444.0\" y1=\"239.633\" x2=\"448.0\" y2=\"230.122\" stroke-linecap=\"round\" style=\"stroke:rgb(0,112,120);stroke-width:4\"/><line x1=\"448.0\" y1=\"230.122\" x2=\"452.0\" y2=\"221.404\" stroke-linecap=\"round\" style=\"stroke:rgb(0,113,120);stroke-width:4\"/><line x1=\"452.0\" y1=\"221.404\" x2=\"456.0\" y2=\"213.825\" stroke-linecap=\"round\" style=\"stroke:rgb(0,114,120);stroke-width:4\"/><line x1=\"456.0\" y1=\"213.825\" x2=\"460.0\" y2=\"207.689\" stroke-linecap=\"round\" style=\"stroke:rgb(0,115,120);stroke-width:4\"/><line x1=\"460.0\" y1=\"207.689\" x2=\"464.0\" y2=\"203.24\" stroke-linecap=\"round\" style=\"stroke:rgb(0,116,120);stroke-width:4\"/><line x1=\"464.0\" y1=\"203.24\" x2=\"468.0\" y2=\"200.654\" stroke-linecap=\"round\" style=\"stroke:rgb(0,117,120);stroke-width:4\"/><line x1=\"468.0\" y1=\"200.654\" x2=\"472.0\" y2=\"200.036\" stroke-linecap=\"round\" style=\"stroke:rgb(0,118,120);stroke-width:4\"/><line x1=\"472.0\" y1=\"200.036\" x2=\"476.0\" y2=\"201.41\" stroke-linecap=\"round\" style=\"stroke:rgb(0,119,120);stroke-width:4\"/><line x1=\"476.0\" y1=\"201.41\" x2=\"480.0\" y2=\"204.721\" stroke-linecap=\"round\" style=\"stroke:rgb(0,120,120);stroke-width:4\"/><line x1=\"480.0\" y1=\"204.721\" x2=\"484.0\" y2=\"209.837\" stroke-linecap=\"round\" style=\"stroke:rgb(0,121,120);stroke-width:4\"/><line x1=\"484.0\" y1=\"209.837\" x2=\"488.0\" y2=\"216.555\" stroke-linecap=\"round\" style=\"stroke:rgb(0,122,120);stroke-width:4\"/><line x1=\"488.0\" y1=\"216.555\" x2=\"492.0\" y2=\"224.605\" stroke-linecap=\"round\" style=\"stroke:rgb(0,123,120);stroke-width:4\"/><line x1=\"492.0\" y1=\"224.605\" x2=\"496.0\" y2=\"233.668\" stroke-linecap=\"round\" style=\"stroke:rgb(0,124,120);stroke-width:4\"/><line x1=\"496.0\" y1=\"233.668\" x2=\"500.0\" y2=\"243.382\" stroke-linecap=\"round\" style=\"stroke:rgb(0,125,120);stroke-width:4\"/><line x1=\"500.0\" y1=\"243.382\" x2=\"504.0\" y2=\"253.36\" stroke-linecap=\"round\" style=\"stroke:rgb(0,126,120);stroke-width:4\"/><line x1=\"504.0\" y1=\"253.36\" x2=\"508.0\" y2=\"263.204\" stroke-linecap=\"round\" style=\"stroke:rgb(0,127,120);stroke-width:4\"/><line x1=\"508.0\" y1=\"263.204\" x2=\"512.0\" y2=\"272.522\" stroke-linecap=\"round\" style=\"stroke:rgb(0,128,120);stroke-width:4\"/><line x1=\"512.0\" y1=\"272.522\" x2=\"516.0\" y2=\"280.942\" stroke-linecap=\"round\" style=\"stroke:rgb(0,129,120);stroke-width:4\"/><line x1=\"516.0\" y1=\"280.942\" x2=\"520.0\" y2=\"288.128\" stroke-linecap=\"round\" style=\"stroke:rgb(0,130,120);stroke-width:4\"/><line x1=\"520.0\" y1=\"288.128\" x2=\"524.0\" y2=\"293.794\" stroke-linecap=\"round\" style=\"stroke:rgb(0,131,120);stroke-width:4\"/><line x1=\"524.0\" y1=\"293.794\" x2=\"528.0\" y2=\"297.714\" stroke-linecap=\"round\" style=\"stroke:rgb(0,132,120);stroke-width:4\"/><line x1=\"528.0\" y1=\"297.714\" x2=\"532.0\" y2=\"299.732\" stroke-linecap=\"round\" style=\"stroke:rgb(0,133,120);stroke-width:4\"/><line x1=\"532.0\" y1=\"299.732\" x2=\"536.0\" y2=\"299.768\" stroke-linecap=\"round\" style=\"stroke:rgb(0,134,120);stroke-width:4\"/><line x1=\"536.0\" y1=\"299.768\" x2=\"540.0\" y2=\"297.819\" stroke-linecap=\"round\" style=\"stroke:rgb(0,135,120);stroke-width:4\"/><line x1=\"540.0\" y1=\"297.819\" x2=\"544.0\" y2=\"293.964\" stroke-linecap=\"round\" style=\"stroke:rgb(0,136,120);stroke-width:4\"/><line x1=\"544.0\" y1=\"293.964\" x2=\"548.0\" y2=\"288.356\" stroke-linecap=\"round\" style=\"stroke:rgb(0,137,120);stroke-width:4\"/><line x1=\"548.0\" y1=\"288.356\" x2=\"552.0\" y2=\"281.219\" stroke-linecap=\"round\" style=\"stroke:rgb(0,138,120);stroke-width:4\"/><line x1=\"552.0\" y1=\"281.219\" x2=\"556.0\" y2=\"272.837\" stroke-linecap=\"round\" style=\"stroke:rgb(0,139,120);stroke-width:4\"/><line x1=\"556.0\" y1=\"272.837\" x2=\"560.0\" y2=\"263.545\" stroke-linecap=\"round\" style=\"stroke:rgb(0,140,120);stroke-width:4\"/><line x1=\"560.0\" y1=\"263.545\" x2=\"564.0\" y2=\"253.713\" stroke-linecap=\"round\" style=\"stroke:rgb(0,141,120);stroke-width:4\"/><line x1=\"564.0\" y1=\"253.713\" x2=\"568.0\" y2=\"243.733\" stroke-linecap=\"round\" style=\"stroke:rgb(0,142,120);stroke-width:4\"/><line x1=\"568.0\" y1=\"243.733\" x2=\"572.0\" y2=\"234.003\" stroke-linecap=\"round\" style=\"stroke:rgb(0,143,120);stroke-width:4\"/><line x1=\"572.0\" y1=\"234.003\" x2=\"576.0\" y2=\"224.911\" stroke-linecap=\"round\" style=\"stroke:rgb(0,144,120);stroke-width:4\"/><line x1=\"576.0\" y1=\"224.911\" x2=\"580.0\" y2=\"216.818\" stroke-linecap=\"round\" style=\"stroke:rgb(0,145,120);stroke-width:4\"/><line x1=\"580.0\" y1=\"216.818\" x2=\"584.0\" y2=\"210.049\" stroke-linecap=\"round\" style=\"stroke:rgb(0,146,120);stroke-width:4\"/><line x1=\"584.0\" y1=\"210.049\" x2=\"588.0\" y2=\"204.872\" stroke-linecap=\"round\" style=\"stroke:rgb(0,147,120);stroke-width:4\"/><line x1=\"588.0\" y1=\"204.872\" x2=\"592.0\" y2=\"201.495\" stroke-linecap=\"round\" style=\"stroke:rgb(0,148,120);stroke-width:4\"/><line x1=\"592.0\" y1=\"201.495\" x2=\"596.0\" y2=\"200.051\" stroke-linecap=\"round\" style=\"stroke:rgb(0,149,120);stroke-width:4\"/><line x1=\"596.0\" y1=\"200.051\" x2=\"600.0\" y2=\"200.598\" stroke-linecap=\"round\" style=\"stroke:rgb(0,150,120);stroke-width:4\"/><line x1=\"600.0\" y1=\"200.598\" x2=\"604.0\" y2=\"203.115\" stroke-linecap=\"round\" style=\"stroke:rgb(0,151,120);stroke-width:4\"/><line x1=\"604.0\" y1=\"203.115\" x2=\"608.0\" y2=\"207.502\" stroke-linecap=\"round\" style=\"stroke:rgb(0,152,120);stroke-width:4\"/><line x1=\"608.0\" y1=\"207.502\" x2=\"612.0\" y2=\"213.582\" stroke-linecap=\"round\" style=\"stroke:rgb(0,153,120);stroke-width:4\"/><line x1=\"612.0\" y1=\"213.582\" x2=\"616.0\" y2=\"221.114\" stroke-linecap=\"round\" style=\"stroke:rgb(0,154,120);stroke-width:4\"/><line x1=\"616.0\" y1=\"221.114\" x2=\"620.0\" y2=\"229.798\" stroke-linecap=\"round\" style=\"stroke:rgb(0,155,120);stroke-width:4\"/><line x1=\"620.0\" y1=\"229.798\" x2=\"624.0\" y2=\"239.287\" stroke-linecap=\"round\" style=\"stroke:rgb(0,156,120);stroke-width:4\"/><line x1=\"624.0\" y1=\"239.287\" x2=\"628.0\" y2=\"249.204\" stroke-linecap=\"round\" style=\"stroke:rgb(0,157,120);stroke-width:4\"/><line x1=\"628.0\" y1=\"249.204\" x2=\"632.0\" y2=\"259.152\" stroke-linecap=\"round\" style=\"stroke:rgb(0,158,120);stroke-width:4\"/><line x1=\"632.0\" y1=\"259.152\" x2=\"636.0\" y2=\"268.735\" stroke-linecap=\"round\" style=\"stroke:rgb(0,159,120);stroke-width:4\"/><line x1=\"636.0\" y1=\"268.735\" x2=\"640.0\" y2=\"277.571\" stroke-linecap=\"round\" style=\"stroke:rgb(0,160,120);stroke-width:4\"/><line x1=\"640.0\" y1=\"277.571\" x2=\"644.0\" y2=\"285.308\" stroke-linecap=\"round\" style=\"stroke:rgb(0,161,120);stroke-width:4\"/><line x1=\"644.0\" y1=\"285.308\" x2=\"648.0\" y2=\"291.638\" stroke-linecap=\"round\" style=\"stroke:rgb(0,162,120);stroke-width:4\"/><line x1=\"648.0\" y1=\"291.638\" x2=\"652.0\" y2=\"296.308\" stroke-linecap=\"round\" style=\"stroke:rgb(0,163,120);stroke-width:4\"/><line x1=\"652.0\" y1=\"296.308\" x2=\"656.0\" y2=\"299.131\" stroke-linecap=\"round\" style=\"stroke:rgb(0,164,120);stroke-width:4\"/><line x1=\"656.0\" y1=\"299.131\" x2=\"660.0\" y2=\"299.996\" stroke-linecap=\"round\" style=\"stroke:rgb(0,165,120);stroke-width:4\"/><line x1=\"660.0\" y1=\"299.996\" x2=\"664.0\" y2=\"298.867\" stroke-linecap=\"round\" style=\"stroke:rgb(0,166,120);stroke-width:4\"/><line x1=\"664.0\" y1=\"298.867\" x2=\"668.0\" y2=\"295.79\" stroke-linecap=\"round\" style=\"stroke:rgb(0,167,120);stroke-width:4\"/><line x1=\"668.0\" y1=\"295.79\" x2=\"672.0\" y2=\"290.888\" stroke-linecap=\"round\" style=\"stroke:rgb(0,168,120);stroke-width:4\"/><line x1=\"672.0\" y1=\"290.888\" x2=\"676.0\" y2=\"284.356\" stroke-linecap=\"round\" style=\"stroke:rgb(0,169,120);stroke-width:4\"/><line x1=\"676.0\" y1=\"284.356\" x2=\"680.0\" y2=\"276.454\" stroke-linecap=\"round\" style=\"stroke:rgb(0,170,120);stroke-width:4\"/><line x1=\"680.0\" y1=\"276.454\" x2=\"684.0\" y2=\"267.498\" stroke-linecap=\"round\" style=\"stroke:rgb(0,171,120);stroke-width:4\"/><line x1=\"684.0\" y1=\"267.498\" x2=\"688.0\" y2=\"257.843\" stroke-linecap=\"round\" style=\"stroke:rgb(0,172,120);stroke-width:4\"/><line x1=\"688.0\" y1=\"257.843\" x2=\"692.0\" y2=\"247.877\" stroke-linecap=\"round\" style=\"stroke:rgb(0,173,120);stroke-width:4\"/><line x1=\"692.0\" y1=\"247.877\" x2=\"696.0\" y2=\"237.994\" stroke-linecap=\"round\" style=\"stroke:rgb(0,174,120);stroke-width:4\"/><line x1=\"696.0\" y1=\"237.994\" x2=\"700.0\" y2=\"228.591\" stroke-linecap=\"round\" style=\"stroke:rgb(0,175,120);stroke-width:4\"/><line x1=\"700.0\" y1=\"228.591\" x2=\"704.0\" y2=\"220.041\" stroke-linecap=\"round\" style=\"stroke:rgb(0,176,120);stroke-width:4\"/><line x1=\"704.0\" y1=\"220.041\" x2=\"708.0\" y2=\"212.685\" stroke-linecap=\"round\" style=\"stroke:rgb(0,177,120);stroke-width:4\"/><line x1=\"708.0\" y1=\"212.685\" x2=\"712.0\" y2=\"206.817\" stroke-linecap=\"round\" style=\"stroke:rgb(0,178,120);stroke-width:4\"/><line x1=\"712.0\" y1=\"206.817\" x2=\"716.0\" y2=\"202.671\" stroke-linecap=\"round\" style=\"stroke:rgb(0,179,120);stroke-width:4\"/><line x1=\"716.0\" y1=\"202.671\" x2=\"720.0\" y2=\"200.411\" stroke-linecap=\"round\" style=\"stroke:rgb(0,180,120);stroke-width:4\"/><line x1=\"720.0\" y1=\"200.411\" x2=\"724.0\" y2=\"200.128\" stroke-linecap=\"round\" style=\"stroke:rgb(0,181,120);stroke-width:4\"/><line x1=\"724.0\" y1=\"200.128\" x2=\"728.0\" y2=\"201.834\" stroke-linecap=\"round\" style=\"stroke:rgb(0,182,120);stroke-width:4\"/><line x1=\"728.0\" y1=\"201.834\" x2=\"732.0\" y2=\"205.46\" stroke-linecap=\"round\" style=\"stroke:rgb(0,183,120);stroke-width:4\"/><line x1=\"732.0\" y1=\"205.46\" x2=\"736.0\" y2=\"210.861\" stroke-linecap=\"round\" style=\"stroke:rgb(0,184,120);stroke-width:4\"/><line x1=\"736.0\" y1=\"210.861\" x2=\"740.0\" y2=\"217.823\" stroke-linecap=\"round\" style=\"stroke:rgb(0,185,120);stroke-width:4\"/><line x1=\"740.0\" y1=\"217.823\" x2=\"744.0\" y2=\"226.068\" stroke-linecap=\"round\" style=\"stroke:rgb(0,186,120);stroke-width:4\"/><line x1=\"744.0\" y1=\"226.068\" x2=\"748.0\" y2=\"235.266\" stroke-linecap=\"round\" style=\"stroke:rgb(0,187,120);stroke-width:4\"/><line x1=\"748.0\" y1=\"235.266\" x2=\"752.0\" y2=\"245.053\" stroke-linecap=\"round\" style=\"stroke:rgb(0,188,120);stroke-width:4\"/><line x1=\"752.0\" y1=\"245.053\" x2=\"756.0\" y2=\"255.036\" stroke-linecap=\"round\" style=\"stroke:rgb(0,189,120);stroke-width:4\"/><line x1=\"756.0\" y1=\"255.036\" x2=\"760.0\" y2=\"264.818\" stroke-linecap=\"round\" style=\"stroke:rgb(0,190,120);stroke-width:4\"/><line x1=\"760.0\" y1=\"264.818\" x2=\"764.0\" y2=\"274.01\" stroke-linecap=\"round\" style=\"stroke:rgb(0,191,120);stroke-width:4\"/><line x1=\"764.0\" y1=\"274.01\" x2=\"768.0\" y2=\"282.245\" stroke-linecap=\"round\" style=\"stroke:rgb(0,192,120);stroke-width:4\"/><line x1=\"768.0\" y1=\"282.245\" x2=\"772.0\" y2=\"289.194\" stroke-linecap=\"round\" style=\"stroke:rgb(0,193,120);stroke-width:4\"/><line x1=\"772.0\" y1=\"289.194\" x2=\"776.0\" y2=\"294.58\" stroke-linecap=\"round\" style=\"stroke:rgb(0,194,120);stroke-width:4\"/><line x1=\"776.0\" y1=\"294.58\" x2=\"780.0\" y2=\"298.19\" stroke-linecap=\"round\" style=\"stroke:rgb(0,195,120);stroke-width:4\"/><line x1=\"780.0\" y1=\"298.19\" x2=\"784.0\" y2=\"299.878\" stroke-linecap=\"round\" style=\"stroke:rgb(0,196,120);stroke-width:4\"/><line x1=\"784.0\" y1=\"299.878\" x2=\"788.0\" y2=\"299.577\" stroke-linecap=\"round\" style=\"stroke:rgb(0,197,120);stroke-width:4\"/><line x1=\"788.0\" y1=\"299.577\" x2=\"792.0\" y2=\"297.301\" stroke-linecap=\"round\" style=\"stroke:rgb(0,198,120);stroke-width:4\"/><line x1=\"792.0\" y1=\"297.301\" x2=\"796.0\" y2=\"293.138\" stroke-linecap=\"round\" style=\"stroke:rgb(0,199,120);stroke-width:4\"/>\n",
              "        <g visibility=visible transform=\"rotate(360,796.0,293.138) translate(778.0, 275.138)\">\n",
              "<path style=\" stroke:none;fill-rule:evenodd;fill:rgb(0,199,120);fill-opacity:1;\" d=\"M 18.214844 0.632812 C 16.109375 1.800781 15.011719 4.074219 15.074219 7.132812 L 15.085938 7.652344 L 14.785156 7.496094 C 13.476562 6.824219 11.957031 6.671875 10.40625 7.066406 C 8.46875 7.550781 6.515625 9.15625 4.394531 11.992188 C 3.0625 13.777344 2.679688 14.636719 3.042969 15.027344 L 3.15625 15.152344 L 3.519531 15.152344 C 4.238281 15.152344 4.828125 14.886719 8.1875 13.039062 C 9.386719 12.378906 10.371094 11.839844 10.378906 11.839844 C 10.386719 11.839844 10.355469 11.929688 10.304688 12.035156 C 9.832031 13.09375 9.257812 14.820312 8.96875 16.078125 C 7.914062 20.652344 8.617188 24.53125 11.070312 27.660156 C 11.351562 28.015625 11.363281 27.914062 10.972656 28.382812 C 8.925781 30.84375 7.945312 33.28125 8.238281 35.1875 C 8.289062 35.527344 8.28125 35.523438 8.917969 35.523438 C 10.941406 35.523438 13.074219 34.207031 15.136719 31.6875 C 15.359375 31.417969 15.328125 31.425781 15.5625 31.574219 C 16.292969 32.042969 18.023438 32.964844 18.175781 32.964844 C 18.335938 32.964844 19.941406 32.210938 20.828125 31.71875 C 20.996094 31.625 21.136719 31.554688 21.136719 31.558594 C 21.203125 31.664062 21.898438 32.414062 22.222656 32.730469 C 23.835938 34.300781 25.5625 35.132812 27.582031 35.300781 C 27.90625 35.328125 27.9375 35.308594 28.007812 34.984375 C 28.382812 33.242188 27.625 30.925781 25.863281 28.425781 L 25.542969 27.96875 L 25.699219 27.785156 C 28.945312 23.960938 29.132812 18.699219 26.257812 11.96875 L 26.207031 11.84375 L 27.945312 12.703125 C 31.53125 14.476562 32.316406 14.800781 33.03125 14.800781 C 33.976562 14.800781 33.78125 13.9375 32.472656 12.292969 C 28.519531 7.355469 25.394531 5.925781 21.921875 7.472656 L 21.558594 7.636719 L 21.578125 7.542969 C 21.699219 6.992188 21.761719 5.742188 21.699219 5.164062 C 21.496094 3.296875 20.664062 1.964844 19.003906 0.855469 C 18.480469 0.503906 18.457031 0.5 18.214844 0.632812\"/>\n",
              "</g>\n",
              "      </svg>\n",
              "    "
            ]
          },
          "metadata": {}
        }
      ]
    },
    {
      "cell_type": "markdown",
      "source": [
        "#### 練習問題5-1\n",
        "\n",
        "今まで使った知識をもとに、独自に絵を描いてみよう"
      ],
      "metadata": {
        "id": "y6UUw0xDpGgT"
      }
    },
    {
      "cell_type": "code",
      "source": [
        "# 練習問題5-1\n"
      ],
      "metadata": {
        "id": "dNo_aZ36pScZ"
      },
      "execution_count": null,
      "outputs": []
    },
    {
      "cell_type": "code",
      "source": [
        "# 練習問題5-1(いくつも書いてみよう)\n"
      ],
      "metadata": {
        "id": "W5gzMIXDpU_r"
      },
      "execution_count": null,
      "outputs": []
    },
    {
      "cell_type": "markdown",
      "source": [
        "## 授業情報\n",
        "\n",
        "### 概要\n",
        "作者 :   \n",
        "菅原 太樹 (Github : [@taikis](https://github.com/taikis))  \n",
        "\n",
        "\n",
        "本Jupyterファイルを含む講義資料は、[GitHub](https://github.com/taikis/introducting-python)で公開している。\n",
        "\n",
        "### 使用ライブラリ\n",
        "本教材には下記のライブラリを使用している。\n",
        "\n",
        "[ColabTurtle](https://github.com/tolgaatam/ColabTurtle) ©︎2018 Tolga Atam (MIT License)\n"
      ],
      "metadata": {
        "id": "Sf6p2eHxrwoE"
      }
    }
  ]
}