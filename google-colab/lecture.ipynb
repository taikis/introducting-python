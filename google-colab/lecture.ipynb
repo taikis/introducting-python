{
  "nbformat": 4,
  "nbformat_minor": 0,
  "metadata": {
    "colab": {
      "name": "lecture.ipynb",
      "provenance": [],
      "collapsed_sections": [],
      "toc_visible": true,
      "authorship_tag": "ABX9TyM63FpDk+tRY0wq+R79m3GZ",
      "include_colab_link": true
    },
    "kernelspec": {
      "name": "python3",
      "display_name": "Python 3"
    },
    "language_info": {
      "name": "python"
    }
  },
  "cells": [
    {
      "cell_type": "markdown",
      "metadata": {
        "id": "view-in-github",
        "colab_type": "text"
      },
      "source": [
        "<a href=\"https://colab.research.google.com/github/taikis/introducting-python/blob/develop/google-colab/lecture.ipynb\" target=\"_parent\"><img src=\"https://colab.research.google.com/assets/colab-badge.svg\" alt=\"Open In Colab\"/></a>"
      ]
    },
    {
      "cell_type": "markdown",
      "source": [
        "# Python入門\n",
        "\n",
        "*〜ちくわの中身を求めて〜*"
      ],
      "metadata": {
        "id": "8SNsy2vqyidD"
      }
    },
    {
      "cell_type": "markdown",
      "source": [
        "## 1 画面への出力"
      ],
      "metadata": {
        "id": "Uj1ekWQsgl_g"
      }
    },
    {
      "cell_type": "markdown",
      "source": [
        "### テキストの出力\n",
        "\n",
        "`print(\"出力したい文字\")`で出力することができる"
      ],
      "metadata": {
        "id": "zNCNIFoigd69"
      }
    },
    {
      "cell_type": "markdown",
      "source": [
        "#### 例1-1\n",
        "↓ここをクリックして、実際に実行してみよう"
      ],
      "metadata": {
        "id": "9Xiv6Y5dSJf2"
      }
    },
    {
      "cell_type": "code",
      "source": [
        "print(\"こんにちは世界\")"
      ],
      "metadata": {
        "id": "d0H4qBBqeg26"
      },
      "execution_count": null,
      "outputs": []
    },
    {
      "cell_type": "markdown",
      "source": [
        "#### 練習問題1-1\n",
        "\n",
        "自分の名前を出力してみよう"
      ],
      "metadata": {
        "id": "UE8lN8NWhB0F"
      }
    },
    {
      "cell_type": "code",
      "source": [
        "#　練習問題1-1の答え↓\n"
      ],
      "metadata": {
        "id": "nmSMZL8zhG8F"
      },
      "execution_count": null,
      "outputs": []
    },
    {
      "cell_type": "markdown",
      "source": [
        "### 数値の出力\n",
        "\n",
        "文字列と同様に`print(出力したい数値)`で数値が出力できる。  \n",
        "文字列と違い、`\"`(ダブルクォーテーション)が入らないことに注意"
      ],
      "metadata": {
        "id": "ut6Cy6y1i1it"
      }
    },
    {
      "cell_type": "markdown",
      "source": [
        "#### 例1-2"
      ],
      "metadata": {
        "id": "j388IxBsSMjg"
      }
    },
    {
      "cell_type": "code",
      "source": [
        "print(20)"
      ],
      "metadata": {
        "id": "eaOPG1Txen9R"
      },
      "execution_count": null,
      "outputs": []
    },
    {
      "cell_type": "markdown",
      "source": [
        "### 文字の連結\n",
        "また、複数のテキストを`+`記号でつなげることができる。  \n",
        "\n",
        "注) 数値をつなげる場合は後述する加算と見分けがつかなくなる  \n",
        "そのため、`str(数値)`で文字列に変換してから連結する。"
      ],
      "metadata": {
        "id": "l8WUSmb3JUWN"
      }
    },
    {
      "cell_type": "markdown",
      "source": [
        "#### 例1-3\n",
        "下記の3行はすべて同じ結果が得られる"
      ],
      "metadata": {
        "id": "rOcYc6Mkg7av"
      }
    },
    {
      "cell_type": "code",
      "source": [
        "print(\"私は高校3年生です\")\n",
        "print(\"私は高校\" + \"3\" + \"年生です\")\n",
        "print(\"私は高校\" + str(3) + \"年生です\")"
      ],
      "metadata": {
        "id": "NQKFbDFrKX28"
      },
      "execution_count": null,
      "outputs": []
    },
    {
      "cell_type": "markdown",
      "source": [
        "#### 練習問題1-2\n",
        "\n",
        "例文を参考にし、下記の文字列を出力してみよう。ただし、条件を満たすこと\n",
        "\n",
        "**模範出力結果**  \n",
        "*「自分の名前」の年齢は「自分の年齢」歳です。*\n",
        "\n",
        "**条件**\n",
        "\n",
        "1. 文字の連結をすること\n",
        "1. 年齢部分は`\"\"`でかこってはいけない"
      ],
      "metadata": {
        "id": "AjPtCh4zOmqM"
      }
    },
    {
      "cell_type": "code",
      "source": [
        "# 練習問題1-2の答え↓\n"
      ],
      "metadata": {
        "id": "uolrhVYkQFxd"
      },
      "execution_count": null,
      "outputs": []
    },
    {
      "cell_type": "markdown",
      "source": [
        "## 2 四則演算"
      ],
      "metadata": {
        "id": "7cviXHXlhA73"
      }
    },
    {
      "cell_type": "markdown",
      "source": [
        "### 四則演算の種類\n",
        "\n",
        "数学の式と同様、計算することができます。  \n",
        "\n",
        "| 記号 | 意味|\n",
        "|----|-----|\n",
        "| `+` | 加算|\n",
        "| `-` | 減算|\n",
        "| `*`|　乗算|\n",
        "| `/` | 除算|\n",
        "| `%`|　剰余|\n",
        "| `**` | べき乗|\n",
        "| `()` | カッコ |"
      ],
      "metadata": {
        "id": "iUW1QrbAlA9x"
      }
    },
    {
      "cell_type": "markdown",
      "source": [
        "#### 例2-1"
      ],
      "metadata": {
        "id": "1dMj09W2SCgs"
      }
    },
    {
      "cell_type": "code",
      "source": [
        "print(20 + 2)"
      ],
      "metadata": {
        "id": "k6JkRsIZl9s4"
      },
      "execution_count": null,
      "outputs": []
    },
    {
      "cell_type": "markdown",
      "source": [
        "#### 練習問題2-1\n",
        "\n",
        "それぞれのコメントの下に、それにあった解答を出力するプログラムを書こう\n",
        "\n",
        "**ヒント**  \n",
        "出力は`print`を使うよ"
      ],
      "metadata": {
        "id": "-_YvNCP7Qu1K"
      }
    },
    {
      "cell_type": "code",
      "source": [
        "# 練習問題2-1の答え↓\n",
        "\n",
        "# 40 + 11\n",
        "\n",
        "# 30 - 6\n",
        "\n",
        "# 33 × 5\n",
        "\n",
        "# 20 ÷ 3\n",
        "\n",
        "# 25 の　11乗\n"
      ],
      "metadata": {
        "id": "NrS-fokkQ-y2"
      },
      "execution_count": null,
      "outputs": []
    },
    {
      "cell_type": "markdown",
      "source": [
        "#### 発展問題2-a\n",
        "\n",
        "ある日の気温が20℃であるとして、それを華氏(°F)で表すプログラムを作ってみよう\n",
        "\n",
        "**ヒント1**  \n",
        "摂氏(℃)から華氏(°F)への変換式は  \n",
        "$$\n",
        "華氏温度 = 摂氏温度 \\times 1.8 + 32\n",
        "$$\n",
        "\n",
        "**ヒント2**  \n",
        "数学と同じように一つの式に記号を連ねることが可能"
      ],
      "metadata": {
        "id": "wpX93VKCmEXL"
      }
    },
    {
      "cell_type": "code",
      "source": [
        "# 発展問題2-aの答え↓\n"
      ],
      "metadata": {
        "id": "zsOJYCtzmQ6o"
      },
      "execution_count": null,
      "outputs": []
    },
    {
      "cell_type": "markdown",
      "source": [
        "## 3 変数"
      ],
      "metadata": {
        "id": "oYPIwejFS7B8"
      }
    },
    {
      "cell_type": "markdown",
      "source": [
        "### 本題の前に"
      ],
      "metadata": {
        "id": "q8tErtNNfyVQ"
      }
    },
    {
      "cell_type": "markdown",
      "source": [
        "#### 練習問題3-1\n",
        "\n",
        "**本題の前に**今までの知識を使い、下記の問題に挑戦しよう\n",
        "\n",
        "下記の図形の表面積を計算し、出力するプログラムを書こう。  \n",
        "円周率は3.14とする。  \n",
        "また、ちくわは中空円柱で、底面は正円であるものとする。\n",
        "\n",
        "**ヒント**  \n",
        "実際にプログラムを書く前に、紙に立式してみよう\n",
        "\n",
        "<img src=\"https://github.com/taikis/introducting-python/raw/main/image/tikuwa.png\" width = \"500px\">"
      ],
      "metadata": {
        "id": "b7Q-6AjBS89y"
      }
    },
    {
      "cell_type": "code",
      "source": [
        "# 練習問題3-1の答え↓\n"
      ],
      "metadata": {
        "id": "TaIzvRVvTuSI"
      },
      "execution_count": null,
      "outputs": []
    },
    {
      "cell_type": "markdown",
      "source": [
        "### 変数の定義方法\n",
        "\n",
        "一度書いた文字や、すでに計算した数値をもう一度書くのは効率が悪い。  \n",
        "そのため、Pythonをはじめとする多くのプログラミング言語には**変数**というものが存在する。\n",
        "\n",
        "変数は箱のようなもので、プログラマが自由に作ることができる。\n",
        "\n",
        "```\n",
        "変数名(任意)　= 入れたい値\n",
        "```\n",
        "\n",
        "ここでいう`=`は、数学的な等号の意味ではなく、**代入する**という意味になる。\n",
        "\n",
        "また、変数はそのまま`print()`関数の中に入れることで、出力できる。"
      ],
      "metadata": {
        "id": "Fa6Xykm1pH47"
      }
    },
    {
      "cell_type": "markdown",
      "source": [
        "#### 例3-1"
      ],
      "metadata": {
        "id": "eL91hom4flTh"
      }
    },
    {
      "cell_type": "code",
      "source": [
        "my_name = \"Taiki Sugawara\"\n",
        "print(my_name)\n",
        "\n",
        "my_age = 18 + 3\n",
        "print(my_age)"
      ],
      "metadata": {
        "id": "DpNU7cxNpG1P"
      },
      "execution_count": null,
      "outputs": []
    },
    {
      "cell_type": "markdown",
      "source": [
        "#### 練習問題3-2\n",
        "\n",
        "練習問題3-1のプログラムを変数を使ってより簡単にしよう。  \n",
        "円周率を変数に入れることにより、`3.14`を何度も書く必要がなくなる。  "
      ],
      "metadata": {
        "id": "QUP4y4mJhZ9b"
      }
    },
    {
      "cell_type": "code",
      "source": [
        "# 練習問題3-2の答え↓\n"
      ],
      "metadata": {
        "id": "QLwgvZb-h2m4"
      },
      "execution_count": null,
      "outputs": []
    },
    {
      "cell_type": "markdown",
      "source": [
        "#### 練習問題3-3\n",
        "\n",
        "練習問題3-2のプログラムをさらに改良しよう。  \n",
        "底面の半径と、中空部分の半径をそれぞれ変数に入れてみよう。  \n",
        "これにより、半径が変わっても、簡単にプログラムを変更できる。"
      ],
      "metadata": {
        "id": "ffYkpqclh9my"
      }
    },
    {
      "cell_type": "code",
      "source": [
        "# 練習問題3-3の答え↓\n"
      ],
      "metadata": {
        "id": "06Pm-jXGipLD"
      },
      "execution_count": null,
      "outputs": []
    },
    {
      "cell_type": "markdown",
      "source": [
        "#### 発展問題3-a\n",
        "\n",
        "たかしくんは税抜100円の消しゴムと210円のペンを買いました。  \n",
        "消費税は10%として、消しゴムとペンの税込み価格を表示しよう。\n",
        "\n",
        "**ヒント**  \n",
        "税は何度も使うため、変数に入れよう  \n",
        "消しゴムとペンは変数に入れても入れなくても良い"
      ],
      "metadata": {
        "id": "cyF2TqSjwOey"
      }
    },
    {
      "cell_type": "code",
      "source": [
        "# 発展問題3-aの答え↓\n"
      ],
      "metadata": {
        "id": "Cg2m1QbufVig"
      },
      "execution_count": null,
      "outputs": []
    },
    {
      "cell_type": "markdown",
      "source": [
        "#### 発展問題3-b\n",
        "\n",
        "たかしくんは税抜100円の消しゴムと210円のペンを買いました。\n",
        "1. 消費税は10%として、まず消しゴムの税込み価格を表示しよう\n",
        "1. その後、ペンの税込み価格を計算し、たかしくんが使った合計金額を表示しよう\n",
        "\n",
        "**ヒント**  \n",
        "たかしくんが使った金額を入れる変数`price`を作成し、`price`に金額を順次足していく"
      ],
      "metadata": {
        "id": "6g0F639p7JLj"
      }
    },
    {
      "cell_type": "code",
      "source": [
        "# 発展問題3-bの答え↓"
      ],
      "metadata": {
        "id": "4V0NIH798uEs"
      },
      "execution_count": null,
      "outputs": []
    },
    {
      "cell_type": "markdown",
      "source": [
        "## 4 プログラムへの入力"
      ],
      "metadata": {
        "id": "mZlmHJ0SjNrh"
      }
    },
    {
      "cell_type": "markdown",
      "source": [
        "### 文字の入力\n",
        "\n",
        "`input()`を用いると、キーボードからの入力を取得できる。  \n",
        "取得した文字列は変数に格納することができる。"
      ],
      "metadata": {
        "id": "3yU6oIq6i3ze"
      }
    },
    {
      "cell_type": "markdown",
      "source": [
        "#### 例4-1"
      ],
      "metadata": {
        "id": "2rBYBmrOjPXl"
      }
    },
    {
      "cell_type": "code",
      "source": [
        "today_weather = input()\n",
        "print(\"今日は\" + today_weather)"
      ],
      "metadata": {
        "id": "LBWNcQ0vjgii"
      },
      "execution_count": null,
      "outputs": []
    },
    {
      "cell_type": "markdown",
      "source": [
        "#### 練習問題4-1\n",
        "\n",
        "`input()`関数を用い、名前を聞いて挨拶するプログラムを作ろう。  \n",
        "挨拶は文字の連結を使い、下記のようにすること\n",
        "\n",
        "**模範出力結果**  \n",
        "*こんにちは、「入力された名前」さん。*"
      ],
      "metadata": {
        "id": "mNbEvMWokFCB"
      }
    },
    {
      "cell_type": "code",
      "source": [
        "# 練習問題4-1の答え↓\n"
      ],
      "metadata": {
        "id": "2WkGvfaPkiR3"
      },
      "execution_count": null,
      "outputs": []
    },
    {
      "cell_type": "markdown",
      "source": [
        "### 数値の入力\n",
        "\n",
        "`input()`関数は、入力された文字を**単なる文字**として取得する。  \n",
        "そのため、数値として用いる場合は`int(input())`とする必要がある。  \n",
        "\n",
        "これは文字列を数値に変換している。"
      ],
      "metadata": {
        "id": "hc7Tak3ekrLO"
      }
    },
    {
      "cell_type": "markdown",
      "source": [
        "#### 例4-2"
      ],
      "metadata": {
        "id": "GWrltklalPGP"
      }
    },
    {
      "cell_type": "code",
      "source": [
        "print(\"a + bを計算します。\")\n",
        "print(\"aを入力してください。\")\n",
        "a = int(input())\n",
        "\n",
        "print(\"bを入力してください。\")\n",
        "b = int(input())\n",
        "\n",
        "print(str(a) + \" + \" + str(b) + \" = \" + str(a+b))"
      ],
      "metadata": {
        "id": "Vov4KFwxlMnl"
      },
      "execution_count": null,
      "outputs": []
    },
    {
      "cell_type": "markdown",
      "source": [
        "## 5　まとめ"
      ],
      "metadata": {
        "id": "9BQoL_uhmPzj"
      }
    },
    {
      "cell_type": "markdown",
      "source": [
        "### 最終問題\n",
        "いよいよ、ちくわ計算プログラムを完成させよう。"
      ],
      "metadata": {
        "id": "sDrxIQbsmdSS"
      }
    },
    {
      "cell_type": "markdown",
      "source": [
        "#### 練習問題5-1\n",
        "\n",
        "今まで使ったことを活かし、ちくわの表面積を計算するプログラムを作ろう\n",
        "\n",
        "**条件**  \n",
        "1. ちくわの底面の半径、中空の半径、高さを実行時に入力できること\n",
        "1. *それぞれの数値を入力する際、「ちくわの底面の半径は？」等出力すること*\n",
        "1. 円周率は3.141592653とする。"
      ],
      "metadata": {
        "id": "TMuhHGhtmZSl"
      }
    },
    {
      "cell_type": "code",
      "source": [
        "# 練習問題5-1の答え↓"
      ],
      "metadata": {
        "id": "nm_iaCP9nUuh"
      },
      "execution_count": null,
      "outputs": []
    },
    {
      "cell_type": "markdown",
      "source": [
        "## さらに学びたい皆さんへ"
      ],
      "metadata": {
        "id": "qIMber-AnyPB"
      }
    },
    {
      "cell_type": "markdown",
      "source": [
        "### 無料で使えるオンライン実行環境\n",
        "\n",
        "オンラインの実行環境は、今回のように簡単に使用できる。  \n",
        "いくつか紹介する\n",
        "\n",
        "[Google Colaboratry](https://colab.research.google.com/)  \n",
        "Pythonを実行できるJupyter Notebookの実行環境\n",
        "\n",
        "[paiza.IO](paiza.io)  \n",
        "いくつもの言語を実行できる。"
      ],
      "metadata": {
        "id": "xWA_F6Fxn1HG"
      }
    },
    {
      "cell_type": "markdown",
      "source": [
        "### 無料でプログラミングを学べるサイト\n",
        "\n",
        "[progate](https://prog-8.com/)  \n",
        "有名なプログラミング学習サイト。初心者用のコースは無料で受講できる。  \n",
        "発展編は有料のため、最初の導入として使用しよう。\n",
        "\n",
        "[ドットインストール](http://dotinstall.com/)  \n",
        "progateに似ているが、動画がメイン。  \n",
        "これも発展編が有料。\n",
        "\n",
        "[pizaラーニング](https://paiza.jp/works)  \n",
        "講座もあるが、ある程度知識をつけた後に問題集を解くのがおすすめ。  \n",
        "類似のサービスに[atcoder](https://atcoder.jp/?lang=ja)がある。"
      ],
      "metadata": {
        "id": "wKL30tlBpMHs"
      }
    },
    {
      "cell_type": "markdown",
      "source": [
        "### 頑張ろう！\n",
        "\n",
        "プログラミングを学ぶためには、実際に何か作りたいものを決めて作るのがいいでしょう。  \n",
        "つまずいたらGoogleで調べること。相当な専門分野に首を突っ込まない限り、必ずどこかに答えがあります。\n",
        "\n",
        "それでもわからなくなったら[teratail](https://teratail.com/)や[Qiita質問](https://qiita.com/question-trend)で聞いてみよう。質問の仕方は気をつけて。  "
      ],
      "metadata": {
        "id": "eQa9xWi6qosD"
      }
    },
    {
      "cell_type": "markdown",
      "source": [
        "## 授業情報\n",
        "作者 :   \n",
        "菅原 太樹 (Github : [@taikis](https://github.com/taikis))  \n",
        "安井 眞琴\n",
        "\n",
        "\n",
        "本Jupyterファイルを含む講義資料は、[GitHub](https://github.com/taikis/introducting-python)で公開している。"
      ],
      "metadata": {
        "id": "xWdOyZmiyran"
      }
    }
  ]
}