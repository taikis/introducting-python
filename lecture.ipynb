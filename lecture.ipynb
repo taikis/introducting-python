{
  "nbformat": 4,
  "nbformat_minor": 0,
  "metadata": {
    "colab": {
      "name": "Untitled11.ipynb",
      "provenance": [],
      "collapsed_sections": [],
      "authorship_tag": "ABX9TyNB/bJUQ1kBsBTTvO364Bms",
      "include_colab_link": true
    },
    "kernelspec": {
      "name": "python3",
      "display_name": "Python 3"
    },
    "language_info": {
      "name": "python"
    }
  },
  "cells": [
    {
      "cell_type": "markdown",
      "metadata": {
        "id": "view-in-github",
        "colab_type": "text"
      },
      "source": [
        "<a href=\"https://colab.research.google.com/github/taikis/introducting-python/blob/main/lecture.ipynb\" target=\"_parent\"><img src=\"https://colab.research.google.com/assets/colab-badge.svg\" alt=\"Open In Colab\"/></a>"
      ]
    },
    {
      "cell_type": "markdown",
      "source": [
        "# Python入門\n",
        "\n",
        "## テキストの出力\n",
        "\n",
        "`print()`で出力することができる\n",
        "\n",
        "例："
      ],
      "metadata": {
        "id": "zNCNIFoigd69"
      }
    },
    {
      "cell_type": "code",
      "source": [
        "print(\"こんにちは世界\")"
      ],
      "metadata": {
        "colab": {
          "base_uri": "https://localhost:8080/"
        },
        "id": "d0H4qBBqeg26",
        "outputId": "87f5c2a3-c757-491e-cbe8-57e0fea98a0d"
      },
      "execution_count": 5,
      "outputs": [
        {
          "output_type": "stream",
          "name": "stdout",
          "text": [
            "こんにちは世界\n"
          ]
        }
      ]
    },
    {
      "cell_type": "markdown",
      "source": [
        "### 練習問題1\n",
        "\n",
        "自分の名前を出力してみよう"
      ],
      "metadata": {
        "id": "UE8lN8NWhB0F"
      }
    },
    {
      "cell_type": "code",
      "source": [
        "#　練習問題1の答え↓\n"
      ],
      "metadata": {
        "id": "nmSMZL8zhG8F"
      },
      "execution_count": null,
      "outputs": []
    },
    {
      "cell_type": "markdown",
      "source": [
        ""
      ],
      "metadata": {
        "id": "ut6Cy6y1i1it"
      }
    },
    {
      "cell_type": "code",
      "source": [
        "print(20)"
      ],
      "metadata": {
        "colab": {
          "base_uri": "https://localhost:8080/"
        },
        "id": "eaOPG1Txen9R",
        "outputId": "b706a290-d353-44f6-b943-11f0b97702f9"
      },
      "execution_count": 11,
      "outputs": [
        {
          "output_type": "stream",
          "name": "stdout",
          "text": [
            "20\n"
          ]
        }
      ]
    },
    {
      "cell_type": "code",
      "source": [
        "print(20 + 20)\n",
        "print(20 - 10)\n",
        "print(20 * 2)\n",
        "print(20 / 2)\n"
      ],
      "metadata": {
        "colab": {
          "base_uri": "https://localhost:8080/"
        },
        "id": "8-756HIYesxi",
        "outputId": "3c9c668e-2216-46ff-fff1-3ef9bc04e233"
      },
      "execution_count": 13,
      "outputs": [
        {
          "output_type": "stream",
          "name": "stdout",
          "text": [
            "40\n",
            "10\n",
            "40\n",
            "10.0\n"
          ]
        }
      ]
    },
    {
      "cell_type": "code",
      "source": [
        ""
      ],
      "metadata": {
        "id": "Cg2m1QbufVig"
      },
      "execution_count": null,
      "outputs": []
    }
  ]
}