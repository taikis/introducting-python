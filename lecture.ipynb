{
  "nbformat": 4,
  "nbformat_minor": 0,
  "metadata": {
    "colab": {
      "name": "lecture.ipynb",
      "provenance": [],
      "collapsed_sections": [],
      "authorship_tag": "ABX9TyMSWsLeXxcpCkvzc4TwPO2Y",
      "include_colab_link": true
    },
    "kernelspec": {
      "name": "python3",
      "display_name": "Python 3"
    },
    "language_info": {
      "name": "python"
    }
  },
  "cells": [
    {
      "cell_type": "markdown",
      "metadata": {
        "id": "view-in-github",
        "colab_type": "text"
      },
      "source": [
        "<a href=\"https://colab.research.google.com/github/taikis/introducting-python/blob/main/lecture.ipynb\" target=\"_parent\"><img src=\"https://colab.research.google.com/assets/colab-badge.svg\" alt=\"Open In Colab\"/></a>"
      ]
    },
    {
      "cell_type": "markdown",
      "source": [
        "# Python入門\n",
        "\n",
        "## テキストの出力\n",
        "\n",
        "`print(\"出力したい文字\")`で出力することができる\n",
        "\n",
        "### 例1"
      ],
      "metadata": {
        "id": "zNCNIFoigd69"
      }
    },
    {
      "cell_type": "code",
      "source": [
        "print(\"こんにちは世界\")"
      ],
      "metadata": {
        "colab": {
          "base_uri": "https://localhost:8080/"
        },
        "id": "d0H4qBBqeg26",
        "outputId": "69cca755-48c7-43e5-d17c-224ad7d83de3"
      },
      "execution_count": 15,
      "outputs": [
        {
          "output_type": "stream",
          "name": "stdout",
          "text": [
            "こんにちは世界\n"
          ]
        }
      ]
    },
    {
      "cell_type": "markdown",
      "source": [
        "### 練習問題1\n",
        "\n",
        "自分の名前を出力してみよう"
      ],
      "metadata": {
        "id": "UE8lN8NWhB0F"
      }
    },
    {
      "cell_type": "code",
      "source": [
        "#　練習問題1の答え↓\n"
      ],
      "metadata": {
        "id": "nmSMZL8zhG8F"
      },
      "execution_count": 18,
      "outputs": []
    },
    {
      "cell_type": "markdown",
      "source": [
        "## 数値の出力\n",
        "\n",
        "文字列と同様に`print(出力したい数値)`で数値が出力できる。  \n",
        "文字列と違い、`\"`(ダブルクォーテーション)が入らないことに注意\n",
        "\n",
        "### 例2"
      ],
      "metadata": {
        "id": "ut6Cy6y1i1it"
      }
    },
    {
      "cell_type": "code",
      "source": [
        "print(20)"
      ],
      "metadata": {
        "colab": {
          "base_uri": "https://localhost:8080/"
        },
        "id": "eaOPG1Txen9R",
        "outputId": "b706a290-d353-44f6-b943-11f0b97702f9"
      },
      "execution_count": 11,
      "outputs": [
        {
          "output_type": "stream",
          "name": "stdout",
          "text": [
            "20\n"
          ]
        }
      ]
    },
    {
      "cell_type": "markdown",
      "source": [
        "## 四則演算\n",
        "\n",
        "数学の式と同様、計算することができます。  \n",
        "\n",
        "| 記号 | 意味|\n",
        "|----|-----|\n",
        "| `+` | 加算|\n",
        "| `-` | 減算|\n",
        "| `*`|　乗算|\n",
        "| `/` | 除算|\n",
        "\n",
        "## 例3"
      ],
      "metadata": {
        "id": "iUW1QrbAlA9x"
      }
    },
    {
      "cell_type": "code",
      "source": [
        "print(20 + 2)"
      ],
      "metadata": {
        "colab": {
          "base_uri": "https://localhost:8080/"
        },
        "id": "k6JkRsIZl9s4",
        "outputId": "93f27700-84d8-4026-bb46-ae2d731a64c7"
      },
      "execution_count": 16,
      "outputs": [
        {
          "output_type": "stream",
          "name": "stdout",
          "text": [
            "22\n"
          ]
        }
      ]
    },
    {
      "cell_type": "markdown",
      "source": [
        "### 練習問題2\n",
        "\n",
        "ある日の気温が20℃であるとして、それを華氏(°F)で表すプログラムを作ってみよう\n",
        "\n",
        "**ヒント1**  \n",
        "摂氏(℃)から華氏(°F)への変換式は  \n",
        "$$\n",
        "華氏温度 = 摂氏温度 \\times 1.8 + 32\n",
        "$$\n",
        "\n",
        "**ヒント2**  \n",
        "数学と同じように一つの式に記号を連ねることが可能"
      ],
      "metadata": {
        "id": "wpX93VKCmEXL"
      }
    },
    {
      "cell_type": "code",
      "source": [
        "# 練習問題2の答え↓\n"
      ],
      "metadata": {
        "id": "zsOJYCtzmQ6o"
      },
      "execution_count": 17,
      "outputs": []
    },
    {
      "cell_type": "markdown",
      "source": [
        "## 変数\n",
        "\n"
      ],
      "metadata": {
        "id": "Fa6Xykm1pH47"
      }
    },
    {
      "cell_type": "code",
      "source": [
        ""
      ],
      "metadata": {
        "colab": {
          "base_uri": "https://localhost:8080/"
        },
        "id": "DpNU7cxNpG1P",
        "outputId": "94f1472a-355b-4f91-aa66-f33408f25962"
      },
      "execution_count": 20,
      "outputs": [
        {
          "output_type": "stream",
          "name": "stdout",
          "text": [
            "5\n",
            "41.0\n"
          ]
        }
      ]
    },
    {
      "cell_type": "code",
      "source": [
        ""
      ],
      "metadata": {
        "id": "Cg2m1QbufVig"
      },
      "execution_count": null,
      "outputs": []
    }
  ]
}